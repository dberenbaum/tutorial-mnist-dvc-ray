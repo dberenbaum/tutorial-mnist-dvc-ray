{
 "cells": [
  {
   "cell_type": "code",
   "execution_count": 1,
   "metadata": {},
   "outputs": [
    {
     "name": "stderr",
     "output_type": "stream",
     "text": [
      "/Users/mikhailrozhkov/dev/rnd/ray-dvc/.venv/lib/python3.9/site-packages/tqdm/auto.py:21: TqdmWarning: IProgress not found. Please update jupyter and ipywidgets. See https://ipywidgets.readthedocs.io/en/stable/user_install.html\n",
      "  from .autonotebook import tqdm as notebook_tqdm\n",
      "2023-11-01 14:44:22,967\tINFO util.py:159 -- Missing packages: ['ipywidgets']. Run `pip install -U ipywidgets`, then restart the notebook server for rich notebook output.\n",
      "2023-11-01 14:44:23,186\tINFO util.py:159 -- Missing packages: ['ipywidgets']. Run `pip install -U ipywidgets`, then restart the notebook server for rich notebook output.\n",
      "2023-11-01 14:44:23,236\tINFO util.py:159 -- Missing packages: ['ipywidgets']. Run `pip install -U ipywidgets`, then restart the notebook server for rich notebook output.\n"
     ]
    }
   ],
   "source": [
    "\"\"\"\n",
    "Source: https://docs.ray.io/en/latest/ray-overview/getting-started.html \n",
    "\"\"\"\n",
    "\n",
    "import os\n",
    "from filelock import FileLock\n",
    "from typing import Dict\n",
    "\n",
    "import torch\n",
    "from torch import nn\n",
    "from torch.utils.data import DataLoader\n",
    "from torchvision import datasets, transforms\n",
    "from torchvision.transforms import ToTensor, Normalize\n",
    "from tqdm import tqdm\n",
    "\n",
    "from ray import train\n",
    "import ray.train\n",
    "from ray.train import ScalingConfig, RunConfig\n",
    "from ray.train.torch import TorchTrainer\n"
   ]
  },
  {
   "cell_type": "markdown",
   "metadata": {},
   "source": [
    "# Define Model and helpers"
   ]
  },
  {
   "cell_type": "code",
   "execution_count": 2,
   "metadata": {},
   "outputs": [],
   "source": [
    "def get_dataloaders(batch_size):\n",
    "    # Transform to normalize the input images\n",
    "    transform = transforms.Compose([ToTensor(), Normalize((0.5,), (0.5,))])\n",
    "\n",
    "    with FileLock(os.path.expanduser(\"~/data.lock\")):\n",
    "        # Download training data from open datasets.\n",
    "        training_data = datasets.FashionMNIST(\n",
    "            root=\"~/data\",\n",
    "            train=True,\n",
    "            download=True,\n",
    "            transform=transform,\n",
    "        )\n",
    "\n",
    "        # Download test data from open datasets.\n",
    "        test_data = datasets.FashionMNIST(\n",
    "            root=\"~/data\",\n",
    "            train=False,\n",
    "            download=True,\n",
    "            transform=transform,\n",
    "        )\n",
    "\n",
    "    # Create data loaders.\n",
    "    train_dataloader = DataLoader(training_data, batch_size=batch_size)\n",
    "    test_dataloader = DataLoader(test_data, batch_size=batch_size)\n",
    "\n",
    "    return train_dataloader, test_dataloader\n",
    "\n",
    "\n",
    "# Model Definition\n",
    "class NeuralNetwork(nn.Module):\n",
    "    def __init__(self):\n",
    "        super(NeuralNetwork, self).__init__()\n",
    "        self.flatten = nn.Flatten()\n",
    "        self.linear_relu_stack = nn.Sequential(\n",
    "            nn.Linear(28 * 28, 512),\n",
    "            nn.ReLU(),\n",
    "            nn.Dropout(0.25),\n",
    "            nn.Linear(512, 512),\n",
    "            nn.ReLU(),\n",
    "            nn.Dropout(0.25),\n",
    "            nn.Linear(512, 10),\n",
    "            nn.ReLU(),\n",
    "        )\n",
    "\n",
    "    def forward(self, x):\n",
    "        x = self.flatten(x)\n",
    "        logits = self.linear_relu_stack(x)\n",
    "        return logits\n"
   ]
  },
  {
   "cell_type": "code",
   "execution_count": 3,
   "metadata": {},
   "outputs": [],
   "source": [
    "# def train_func_per_worker(config: Dict):\n",
    "#     lr = config[\"lr\"]\n",
    "#     epochs = config[\"epochs\"]\n",
    "#     batch_size = config[\"batch_size_per_worker\"]\n",
    "\n",
    "#     # Get dataloaders inside worker training function\n",
    "#     train_dataloader, test_dataloader = get_dataloaders(batch_size=batch_size)\n",
    "\n",
    "#     # [1] Prepare Dataloader for distributed training\n",
    "#     # Shard the datasets among workers and move batches to the correct device\n",
    "#     # =======================================================================\n",
    "#     train_dataloader = ray.train.torch.prepare_data_loader(train_dataloader)\n",
    "#     test_dataloader = ray.train.torch.prepare_data_loader(test_dataloader)\n",
    "\n",
    "#     model = NeuralNetwork()\n",
    "\n",
    "#     # [2] Prepare and wrap your model with DistributedDataParallel\n",
    "#     # Move the model the correct GPU/CPU device\n",
    "#     # ============================================================\n",
    "#     model = ray.train.torch.prepare_model(model)\n",
    "\n",
    "#     loss_fn = nn.CrossEntropyLoss()\n",
    "#     optimizer = torch.optim.SGD(model.parameters(), lr=lr, momentum=0.9)\n",
    "\n",
    "#     # Model training loop\n",
    "#     from dvclive import Live\n",
    "#     from ray.train import get_context\n",
    "\n",
    "#     train_context = get_context()\n",
    "#     rank = train_context.get_local_rank()\n",
    "\n",
    "\n",
    "#     with Live(dir='results/dvclive', dvcyaml=True, save_dvc_exp=False, resume=True) as live:\n",
    "\n",
    "#         for epoch in range(epochs):\n",
    "#             model.train()\n",
    "#             for X, y in tqdm(train_dataloader, desc=f\"Train Epoch {epoch}\"):\n",
    "#                 pred = model(X)\n",
    "#                 loss = loss_fn(pred, y)\n",
    "\n",
    "#                 optimizer.zero_grad()\n",
    "#                 loss.backward()\n",
    "#                 optimizer.step()\n",
    "\n",
    "#             model.eval()\n",
    "#             test_loss, num_correct, num_total = 0, 0, 0\n",
    "#             with torch.no_grad():\n",
    "#                 for X, y in tqdm(test_dataloader, desc=f\"Test Epoch {epoch}\"):\n",
    "#                     pred = model(X)\n",
    "#                     loss = loss_fn(pred, y)\n",
    "\n",
    "#                     test_loss += loss.item()\n",
    "#                     num_total += y.shape[0]\n",
    "#                     num_correct += (pred.argmax(1) == y).sum().item()\n",
    "\n",
    "#             test_loss /= len(test_dataloader)\n",
    "#             accuracy = num_correct / num_total\n",
    "\n",
    "#             # [3] Report metrics to Ray Train\n",
    "#             # ===============================\n",
    "#             ray.train.report(metrics={\"loss\": test_loss, \"accuracy\": accuracy})\n",
    "\n",
    "#             # Log metrics with DVCLive \n",
    "#             if rank == 0:\n",
    "#                 live.log_metric(\"loss\", test_loss)\n",
    "#                 live.log_metric(\"accuracy\", accuracy)\n",
    "#                 live.next_step()"
   ]
  },
  {
   "cell_type": "code",
   "execution_count": 4,
   "metadata": {},
   "outputs": [],
   "source": [
    "def train_func_per_worker(config: Dict):\n",
    "    lr = config[\"lr\"]\n",
    "    epochs = config[\"epochs\"]\n",
    "    batch_size = config[\"batch_size_per_worker\"]\n",
    "\n",
    "    # Get dataloaders inside worker training function\n",
    "    train_dataloader, test_dataloader = get_dataloaders(batch_size=batch_size)\n",
    "\n",
    "    # [1] Prepare Dataloader for distributed training\n",
    "    # Shard the datasets among workers and move batches to the correct device\n",
    "    # =======================================================================\n",
    "    train_dataloader = ray.train.torch.prepare_data_loader(train_dataloader)\n",
    "    test_dataloader = ray.train.torch.prepare_data_loader(test_dataloader)\n",
    "\n",
    "    model = NeuralNetwork()\n",
    "\n",
    "    # [2] Prepare and wrap your model with DistributedDataParallel\n",
    "    # Move the model the correct GPU/CPU device\n",
    "    # ============================================================\n",
    "    model = ray.train.torch.prepare_model(model)\n",
    "\n",
    "    loss_fn = nn.CrossEntropyLoss()\n",
    "    optimizer = torch.optim.SGD(model.parameters(), lr=lr, momentum=0.9)\n",
    "\n",
    "    # Model training loop\n",
    "    from dvclive import Live\n",
    "    from ray.train import get_context\n",
    "\n",
    "    train_context = get_context()\n",
    "    rank = train_context.get_local_rank()\n",
    "\n",
    "\n",
    "    # with Live(dir='results/dvclive', dvcyaml=True, save_dvc_exp=False, resume=True) as live:\n",
    "\n",
    "    for epoch in range(epochs):\n",
    "        model.train()\n",
    "        for X, y in tqdm(train_dataloader, desc=f\"Train Epoch {epoch}\"):\n",
    "            pred = model(X)\n",
    "            loss = loss_fn(pred, y)\n",
    "\n",
    "            optimizer.zero_grad()\n",
    "            loss.backward()\n",
    "            optimizer.step()\n",
    "\n",
    "        model.eval()\n",
    "        test_loss, num_correct, num_total = 0, 0, 0\n",
    "        with torch.no_grad():\n",
    "            for X, y in tqdm(test_dataloader, desc=f\"Test Epoch {epoch}\"):\n",
    "                pred = model(X)\n",
    "                loss = loss_fn(pred, y)\n",
    "\n",
    "                test_loss += loss.item()\n",
    "                num_total += y.shape[0]\n",
    "                num_correct += (pred.argmax(1) == y).sum().item()\n",
    "\n",
    "        test_loss /= len(test_dataloader)\n",
    "        accuracy = num_correct / num_total\n",
    "\n",
    "        # [3] Report metrics to Ray Train\n",
    "        # ===============================\n",
    "        ray.train.report(metrics={\"loss\": test_loss, \"accuracy\": accuracy})\n",
    "\n",
    "        # Log metrics with DVCLive \n",
    "        if rank == 0:\n",
    "            print(\"loss\", test_loss)\n",
    "            print(\"accuracy\", accuracy)\n",
    "            print(\"---NEXT STEP---\")"
   ]
  },
  {
   "cell_type": "code",
   "execution_count": 5,
   "metadata": {},
   "outputs": [],
   "source": [
    "# Params \n",
    "num_workers=2\n",
    "use_gpu=False\n",
    "\n",
    "\n",
    "# def train_fashion_mnist(num_workers=2, use_gpu=False):\n",
    "global_batch_size = 32\n",
    "\n",
    "train_config = {\n",
    "    \"lr\": 1e-3,\n",
    "    \"epochs\": 5,\n",
    "    \"batch_size_per_worker\": global_batch_size // num_workers,\n",
    "}\n",
    "\n",
    "# Configure computation resources\n",
    "scaling_config = ScalingConfig(num_workers=num_workers, use_gpu=use_gpu)\n",
    "# sync_config = ray.train.SyncConfig(sync_artifacts=True)\n",
    "\n"
   ]
  },
  {
   "cell_type": "markdown",
   "metadata": {},
   "source": [
    "## Initialize a Ray TorchTrainer"
   ]
  },
  {
   "cell_type": "code",
   "execution_count": 7,
   "metadata": {
    "scrolled": true
   },
   "outputs": [
    {
     "data": {
      "text/html": [
       "<div class=\"tuneStatus\">\n",
       "  <div style=\"display: flex;flex-direction: row\">\n",
       "    <div style=\"display: flex;flex-direction: column;\">\n",
       "      <h3>Tune Status</h3>\n",
       "      <table>\n",
       "<tbody>\n",
       "<tr><td>Current time:</td><td>2023-11-01 14:47:39</td></tr>\n",
       "<tr><td>Running for: </td><td>00:00:50.84        </td></tr>\n",
       "<tr><td>Memory:      </td><td>27.9/64.0 GiB      </td></tr>\n",
       "</tbody>\n",
       "</table>\n",
       "    </div>\n",
       "    <div class=\"vDivider\"></div>\n",
       "    <div class=\"systemInfo\">\n",
       "      <h3>System Info</h3>\n",
       "      Using FIFO scheduling algorithm.<br>Logical resource usage: 3.0/12 CPUs, 0/0 GPUs\n",
       "    </div>\n",
       "    \n",
       "  </div>\n",
       "  <div class=\"hDivider\"></div>\n",
       "  <div class=\"trialStatus\">\n",
       "    <h3>Trial Status</h3>\n",
       "    <table>\n",
       "<thead>\n",
       "<tr><th>Trial name              </th><th>status    </th><th>loc            </th><th style=\"text-align: right;\">  iter</th><th style=\"text-align: right;\">  total time (s)</th><th style=\"text-align: right;\">    loss</th><th style=\"text-align: right;\">  accuracy</th></tr>\n",
       "</thead>\n",
       "<tbody>\n",
       "<tr><td>TorchTrainer_1ad48_00000</td><td>TERMINATED</td><td>127.0.0.1:45848</td><td style=\"text-align: right;\">     5</td><td style=\"text-align: right;\">         47.5403</td><td style=\"text-align: right;\">0.389565</td><td style=\"text-align: right;\">    0.8586</td></tr>\n",
       "</tbody>\n",
       "</table>\n",
       "  </div>\n",
       "</div>\n",
       "<style>\n",
       ".tuneStatus {\n",
       "  color: var(--jp-ui-font-color1);\n",
       "}\n",
       ".tuneStatus .systemInfo {\n",
       "  display: flex;\n",
       "  flex-direction: column;\n",
       "}\n",
       ".tuneStatus td {\n",
       "  white-space: nowrap;\n",
       "}\n",
       ".tuneStatus .trialStatus {\n",
       "  display: flex;\n",
       "  flex-direction: column;\n",
       "}\n",
       ".tuneStatus h3 {\n",
       "  font-weight: bold;\n",
       "}\n",
       ".tuneStatus .hDivider {\n",
       "  border-bottom-width: var(--jp-border-width);\n",
       "  border-bottom-color: var(--jp-border-color0);\n",
       "  border-bottom-style: solid;\n",
       "}\n",
       ".tuneStatus .vDivider {\n",
       "  border-left-width: var(--jp-border-width);\n",
       "  border-left-color: var(--jp-border-color0);\n",
       "  border-left-style: solid;\n",
       "  margin: 0.5em 1em 0.5em 1em;\n",
       "}\n",
       "</style>\n"
      ],
      "text/plain": [
       "<IPython.core.display.HTML object>"
      ]
     },
     "metadata": {},
     "output_type": "display_data"
    },
    {
     "name": "stderr",
     "output_type": "stream",
     "text": [
      "\u001b[2m\u001b[36m(TorchTrainer pid=45848)\u001b[0m Starting distributed worker processes: ['45938 (127.0.0.1)', '45939 (127.0.0.1)']\n",
      "\u001b[2m\u001b[36m(RayTrainWorker pid=45938)\u001b[0m Setting up process group for: env:// [rank=0, world_size=2]\n",
      "\u001b[2m\u001b[36m(RayTrainWorker pid=45938)\u001b[0m Moving model to device: cpu\n",
      "\u001b[2m\u001b[36m(RayTrainWorker pid=45938)\u001b[0m Wrapping provided model in DistributedDataParallel.\n",
      "Train Epoch 0:   0%|          | 0/1875 [00:00<?, ?it/s]\n",
      "Train Epoch 0:   1%|          | 20/1875 [00:00<00:09, 193.10it/s]\n",
      "Train Epoch 0:   1%|          | 20/1875 [00:00<00:09, 192.40it/s]\n",
      "Train Epoch 0:   2%|▏         | 44/1875 [00:00<00:08, 217.33it/s]\n",
      "Train Epoch 0:  60%|██████    | 1126/1875 [00:05<00:03, 223.30it/s]\u001b[32m [repeated 94x across cluster] (Ray deduplicates logs by default. Set RAY_DEDUP_LOGS=0 to disable log deduplication, or see https://docs.ray.io/en/master/ray-observability/ray-logging.html#log-deduplication for more options.)\u001b[0m\n",
      "Train Epoch 0:  92%|█████████▏| 1724/1875 [00:07<00:00, 223.03it/s]\n",
      "Train Epoch 0: 100%|██████████| 1875/1875 [00:08<00:00, 223.12it/s]\n",
      "Test Epoch 0:   0%|          | 0/313 [00:00<?, ?it/s]\n",
      "Test Epoch 0:  35%|███▌      | 111/313 [00:00<00:00, 1108.94it/s]\n"
     ]
    },
    {
     "name": "stdout",
     "output_type": "stream",
     "text": [
      "\u001b[2m\u001b[36m(RayTrainWorker pid=45938)\u001b[0m loss 0.5346211786634816\n",
      "\u001b[2m\u001b[36m(RayTrainWorker pid=45938)\u001b[0m accuracy 0.8018\n",
      "\u001b[2m\u001b[36m(RayTrainWorker pid=45938)\u001b[0m ---NEXT STEP---\n"
     ]
    },
    {
     "name": "stderr",
     "output_type": "stream",
     "text": [
      "Test Epoch 0: 100%|██████████| 313/313 [00:00<00:00, 1083.51it/s]\n",
      "Train Epoch 1:   0%|          | 0/1875 [00:00<?, ?it/s]\n",
      "Train Epoch 1:  13%|█▎        | 249/1875 [00:01<00:07, 226.23it/s]\n",
      "Train Epoch 1:  17%|█▋        | 318/1875 [00:01<00:06, 225.76it/s]\u001b[32m [repeated 75x across cluster]\u001b[0m\n",
      "Train Epoch 0:  98%|█████████▊| 1839/1875 [00:08<00:00, 224.63it/s]\u001b[32m [repeated 11x across cluster]\u001b[0m\n",
      "Train Epoch 0: 100%|██████████| 1875/1875 [00:08<00:00, 223.13it/s]\n",
      "Test Epoch 0:   0%|          | 0/313 [00:00<?, ?it/s]\n",
      "Test Epoch 0:  67%|██████▋   | 211/313 [00:00<00:00, 1054.44it/s]\u001b[32m [repeated 3x across cluster]\u001b[0m\n",
      "Test Epoch 0: 100%|██████████| 313/313 [00:00<00:00, 1053.62it/s]\n",
      "Train Epoch 1:   0%|          | 0/1875 [00:00<?, ?it/s]\n",
      "Train Epoch 1:  17%|█▋        | 321/1875 [00:01<00:06, 225.91it/s]\n",
      "Train Epoch 1:  77%|███████▋  | 1450/1875 [00:06<00:01, 225.17it/s]\u001b[32m [repeated 95x across cluster]\u001b[0m\n",
      "Train Epoch 1:  82%|████████▏ | 1543/1875 [00:06<00:01, 227.71it/s]\n",
      "Train Epoch 1: 100%|██████████| 1875/1875 [00:08<00:00, 227.60it/s]\n",
      "Test Epoch 1:   0%|          | 0/313 [00:00<?, ?it/s]\n"
     ]
    },
    {
     "name": "stdout",
     "output_type": "stream",
     "text": [
      "\u001b[2m\u001b[36m(RayTrainWorker pid=45938)\u001b[0m loss 0.4653822778762815\n",
      "\u001b[2m\u001b[36m(RayTrainWorker pid=45938)\u001b[0m accuracy 0.8322\n",
      "\u001b[2m\u001b[36m(RayTrainWorker pid=45938)\u001b[0m ---NEXT STEP---\n"
     ]
    },
    {
     "name": "stderr",
     "output_type": "stream",
     "text": [
      "Test Epoch 1: 100%|██████████| 313/313 [00:00<00:00, 1139.44it/s]\n",
      "Train Epoch 2:   0%|          | 0/1875 [00:00<?, ?it/s]\n",
      "Train Epoch 1: 100%|██████████| 1875/1875 [00:08<00:00, 227.83it/s]\u001b[32m [repeated 14x across cluster]\u001b[0m\n",
      "Test Epoch 1:  71%|███████   | 221/313 [00:00<00:00, 1105.49it/s]\u001b[32m [repeated 4x across cluster]\u001b[0m\n",
      "Train Epoch 2:  36%|███▌      | 671/1875 [00:02<00:05, 226.57it/s]\u001b[32m [repeated 71x across cluster]\u001b[0m\n",
      "Train Epoch 2:  30%|██▉       | 556/1875 [00:02<00:05, 225.95it/s]\u001b[32m [repeated 3x across cluster]\u001b[0m\n",
      "Test Epoch 1:   0%|          | 0/313 [00:00<?, ?it/s]\n",
      "Test Epoch 1: 100%|██████████| 313/313 [00:00<00:00, 1090.95it/s]\n",
      "Train Epoch 2:   0%|          | 0/1875 [00:00<?, ?it/s]\n",
      "Train Epoch 2:  91%|█████████▏| 1715/1875 [00:07<00:00, 229.03it/s]\n",
      "Train Epoch 2:  90%|█████████ | 1692/1875 [00:07<00:00, 228.97it/s]\u001b[32m [repeated 83x across cluster]\u001b[0m\n",
      "Test Epoch 2:   0%|          | 0/313 [00:00<?, ?it/s]\n",
      "Train Epoch 2:  83%|████████▎ | 1552/1875 [00:06<00:01, 228.47it/s]\u001b[32m [repeated 3x across cluster]\u001b[0m\n",
      "Test Epoch 2:  34%|███▍      | 107/313 [00:00<00:00, 1068.46it/s]\n"
     ]
    },
    {
     "name": "stdout",
     "output_type": "stream",
     "text": [
      "\u001b[2m\u001b[36m(RayTrainWorker pid=45938)\u001b[0m loss 0.426387041360854\n",
      "\u001b[2m\u001b[36m(RayTrainWorker pid=45938)\u001b[0m accuracy 0.8426\n",
      "\u001b[2m\u001b[36m(RayTrainWorker pid=45938)\u001b[0m ---NEXT STEP---\n"
     ]
    },
    {
     "name": "stderr",
     "output_type": "stream",
     "text": [
      "Test Epoch 2: 100%|██████████| 313/313 [00:00<00:00, 1152.83it/s]\n",
      "Train Epoch 3:   0%|          | 0/1875 [00:00<?, ?it/s]\n",
      "Test Epoch 2: 100%|██████████| 313/313 [00:00<00:00, 1057.97it/s]\n",
      "Train Epoch 2: 100%|██████████| 1875/1875 [00:08<00:00, 227.64it/s]\u001b[32m [repeated 15x across cluster]\u001b[0m\n",
      "Train Epoch 3:  49%|████▉     | 921/1875 [00:04<00:04, 210.77it/s]\u001b[32m [repeated 82x across cluster]\u001b[0m\n",
      "Test Epoch 2:   0%|          | 0/313 [00:00<?, ?it/s]\n",
      "Train Epoch 3:  26%|██▌       | 486/1875 [00:02<00:06, 207.68it/s]\u001b[32m [repeated 2x across cluster]\u001b[0m\n",
      "Test Epoch 2:  68%|██████▊   | 214/313 [00:00<00:00, 1052.91it/s]\u001b[32m [repeated 2x across cluster]\u001b[0m\n",
      "Train Epoch 3:   0%|          | 0/1875 [00:00<?, ?it/s]\n",
      "Train Epoch 3: 100%|██████████| 1875/1875 [00:08<00:00, 208.58it/s]\n",
      "Test Epoch 3:   0%|          | 0/313 [00:00<?, ?it/s]\n",
      "Train Epoch 3: 100%|██████████| 1875/1875 [00:09<00:00, 208.02it/s]\u001b[32m [repeated 14x across cluster]\u001b[0m\n"
     ]
    },
    {
     "name": "stdout",
     "output_type": "stream",
     "text": [
      "\u001b[2m\u001b[36m(RayTrainWorker pid=45938)\u001b[0m loss 0.40899142906212577\n",
      "\u001b[2m\u001b[36m(RayTrainWorker pid=45938)\u001b[0m accuracy 0.85\n",
      "\u001b[2m\u001b[36m(RayTrainWorker pid=45938)\u001b[0m ---NEXT STEP---\n"
     ]
    },
    {
     "name": "stderr",
     "output_type": "stream",
     "text": [
      "Test Epoch 3: 100%|██████████| 313/313 [00:00<00:00, 1070.22it/s]\n",
      "Train Epoch 4:   0%|          | 0/1875 [00:00<?, ?it/s]\n",
      "Train Epoch 4:   2%|▏         | 42/1875 [00:00<00:08, 206.31it/s]\u001b[32m [repeated 75x across cluster]\u001b[0m\n",
      "Train Epoch 3:  75%|███████▌  | 1409/1875 [00:06<00:02, 207.78it/s]\n",
      "Test Epoch 3:  73%|███████▎  | 230/313 [00:00<00:00, 1141.62it/s]\u001b[32m [repeated 4x across cluster]\u001b[0m\n",
      "Train Epoch 4:  19%|█▉        | 365/1875 [00:01<00:07, 209.90it/s]\n",
      "Train Epoch 4:  45%|████▌     | 852/1875 [00:04<00:04, 207.89it/s]\n",
      "Test Epoch 3:   0%|          | 0/313 [00:00<?, ?it/s]\n",
      "Test Epoch 3: 100%|██████████| 313/313 [00:00<00:00, 1148.75it/s]\n",
      "Train Epoch 4:   0%|          | 0/1875 [00:00<?, ?it/s]\n",
      "Train Epoch 4:  58%|█████▊    | 1086/1875 [00:05<00:03, 209.92it/s]\u001b[32m [repeated 94x across cluster]\u001b[0m\n",
      "Train Epoch 4:  91%|█████████▏| 1715/1875 [00:08<00:00, 207.66it/s]\n",
      "Train Epoch 4: 100%|██████████| 1875/1875 [00:08<00:00, 208.82it/s]\n",
      "Test Epoch 4:   0%|          | 0/313 [00:00<?, ?it/s]\n",
      "Test Epoch 4:  34%|███▍      | 107/313 [00:00<00:00, 1064.16it/s]\n"
     ]
    },
    {
     "name": "stdout",
     "output_type": "stream",
     "text": [
      "\u001b[2m\u001b[36m(RayTrainWorker pid=45938)\u001b[0m loss 0.38956472022792166\n",
      "\u001b[2m\u001b[36m(RayTrainWorker pid=45938)\u001b[0m accuracy 0.8586\n",
      "\u001b[2m\u001b[36m(RayTrainWorker pid=45938)\u001b[0m ---NEXT STEP---\n"
     ]
    },
    {
     "name": "stderr",
     "output_type": "stream",
     "text": [
      "Test Epoch 4: 100%|██████████| 313/313 [00:00<00:00, 1050.82it/s]\n",
      "2023-11-01 14:47:39,803\tINFO tune.py:1143 -- Total run time: 50.87 seconds (50.82 seconds for the tuning loop).\n"
     ]
    },
    {
     "name": "stdout",
     "output_type": "stream",
     "text": [
      "Training result: Result(\n",
      "  metrics={'loss': 0.38956472022792166, 'accuracy': 0.8586},\n",
      "  path='/Users/mikhailrozhkov/dev/rnd/ray-dvc/results/experiment_name/TorchTrainer_1ad48_00000_0_2023-11-01_14-46-48',\n",
      "  filesystem='local',\n",
      "  checkpoint=None\n",
      ")\n",
      "result.filesystem: <pyarrow._fs.LocalFileSystem object at 0x28b242170>\n",
      "result.path: /Users/mikhailrozhkov/dev/rnd/ray-dvc/results/experiment_name/TorchTrainer_1ad48_00000_0_2023-11-01_14-46-48\n",
      "result.metrics: {'loss': 0.38956472022792166, 'accuracy': 0.8586, 'timestamp': 1698846458, 'done': True, 'training_iteration': 5, 'trial_id': '1ad48_00000', 'date': '2023-11-01_14-47-38', 'time_this_iter_s': 9.277455806732178, 'time_total_s': 47.54027771949768, 'pid': 45848, 'hostname': 'mikhail.local', 'node_ip': '127.0.0.1', 'config': {'train_loop_config': {'lr': 0.001, 'epochs': 5, 'batch_size_per_worker': 16}}, 'time_since_restore': 47.54027771949768, 'iterations_since_restore': 5, 'checkpoint_dir_name': None, 'experiment_tag': '0'}\n",
      "result.metrics_dataframe:        loss  accuracy   timestamp   done  training_iteration     trial_id  \\\n",
      "0  0.534621    0.8018  1698846423  False                   1  1ad48_00000   \n",
      "1  0.465382    0.8322  1698846431  False                   2  1ad48_00000   \n",
      "2  0.426387    0.8426  1698846440  False                   3  1ad48_00000   \n",
      "3  0.408991    0.8500  1698846449  False                   4  1ad48_00000   \n",
      "4  0.389565    0.8586  1698846458  False                   5  1ad48_00000   \n",
      "\n",
      "                  date  time_this_iter_s  time_total_s    pid       hostname  \\\n",
      "0  2023-11-01_14-47-03         11.933755     11.933755  45848  mikhail.local   \n",
      "1  2023-11-01_14-47-11          8.515457     20.449212  45848  mikhail.local   \n",
      "2  2023-11-01_14-47-20          8.532559     28.981771  45848  mikhail.local   \n",
      "3  2023-11-01_14-47-29          9.281051     38.262822  45848  mikhail.local   \n",
      "4  2023-11-01_14-47-38          9.277456     47.540278  45848  mikhail.local   \n",
      "\n",
      "     node_ip  time_since_restore  iterations_since_restore  \\\n",
      "0  127.0.0.1           11.933755                         1   \n",
      "1  127.0.0.1           20.449212                         2   \n",
      "2  127.0.0.1           28.981771                         3   \n",
      "3  127.0.0.1           38.262822                         4   \n",
      "4  127.0.0.1           47.540278                         5   \n",
      "\n",
      "  checkpoint_dir_name  config/train_loop_config/lr  \\\n",
      "0                None                        0.001   \n",
      "1                None                        0.001   \n",
      "2                None                        0.001   \n",
      "3                None                        0.001   \n",
      "4                None                        0.001   \n",
      "\n",
      "   config/train_loop_config/epochs  \\\n",
      "0                                5   \n",
      "1                                5   \n",
      "2                                5   \n",
      "3                                5   \n",
      "4                                5   \n",
      "\n",
      "   config/train_loop_config/batch_size_per_worker  \n",
      "0                                              16  \n",
      "1                                              16  \n",
      "2                                              16  \n",
      "3                                              16  \n",
      "4                                              16  \n",
      "result.config: {'train_loop_config': {'lr': 0.001, 'epochs': 5, 'batch_size_per_worker': 16}}\n"
     ]
    }
   ],
   "source": [
    "# Initialize a Ray TorchTrainer\n",
    "trainer = TorchTrainer(\n",
    "    train_loop_per_worker=train_func_per_worker,\n",
    "    train_loop_config=train_config,\n",
    "    scaling_config=scaling_config,\n",
    "    run_config=RunConfig(\n",
    "        name=\"experiment_name\",\n",
    "        storage_path=\"~/dev/rnd/ray-dvc/results\",\n",
    "        # sync_config=sync_config\n",
    "    )\n",
    ")\n",
    "\n",
    "# [4] Start Distributed Training\n",
    "# Run `train_func_per_worker` on all workers\n",
    "# =============================================\n",
    "result: train.Result  = trainer.fit()\n",
    "print(f\"Training result: {result}\")\n",
    "print(f\"result.filesystem: {result.filesystem}\")\n",
    "print(f\"result.path: {result.path}\")\n",
    "print(f\"result.metrics: {result.metrics}\")\n",
    "print(f\"result.metrics_dataframe: {result.metrics_dataframe}\")\n",
    "print(f\"result.config: {result.config}\")\n",
    "\n",
    "if result.checkpoint:\n",
    "    print(f\"result.checkpoint.path: {result.checkpoint.path}\")"
   ]
  },
  {
   "cell_type": "markdown",
   "metadata": {},
   "source": [
    "### Play with Ray Result API"
   ]
  },
  {
   "cell_type": "code",
   "execution_count": 13,
   "metadata": {
    "scrolled": true
   },
   "outputs": [
    {
     "data": {
      "text/html": [
       "<div>\n",
       "<style scoped>\n",
       "    .dataframe tbody tr th:only-of-type {\n",
       "        vertical-align: middle;\n",
       "    }\n",
       "\n",
       "    .dataframe tbody tr th {\n",
       "        vertical-align: top;\n",
       "    }\n",
       "\n",
       "    .dataframe thead th {\n",
       "        text-align: right;\n",
       "    }\n",
       "</style>\n",
       "<table border=\"1\" class=\"dataframe\">\n",
       "  <thead>\n",
       "    <tr style=\"text-align: right;\">\n",
       "      <th></th>\n",
       "      <th>loss</th>\n",
       "      <th>accuracy</th>\n",
       "      <th>timestamp</th>\n",
       "      <th>done</th>\n",
       "      <th>training_iteration</th>\n",
       "      <th>trial_id</th>\n",
       "      <th>date</th>\n",
       "      <th>time_this_iter_s</th>\n",
       "      <th>time_total_s</th>\n",
       "      <th>pid</th>\n",
       "      <th>hostname</th>\n",
       "      <th>node_ip</th>\n",
       "      <th>time_since_restore</th>\n",
       "      <th>iterations_since_restore</th>\n",
       "      <th>checkpoint_dir_name</th>\n",
       "      <th>config/train_loop_config/lr</th>\n",
       "      <th>config/train_loop_config/epochs</th>\n",
       "      <th>config/train_loop_config/batch_size_per_worker</th>\n",
       "    </tr>\n",
       "  </thead>\n",
       "  <tbody>\n",
       "    <tr>\n",
       "      <th>0</th>\n",
       "      <td>0.529073</td>\n",
       "      <td>0.8032</td>\n",
       "      <td>1698423491</td>\n",
       "      <td>False</td>\n",
       "      <td>1</td>\n",
       "      <td>6424d_00000</td>\n",
       "      <td>2023-10-27_18-18-11</td>\n",
       "      <td>11.160940</td>\n",
       "      <td>11.160940</td>\n",
       "      <td>86465</td>\n",
       "      <td>mikhail.local</td>\n",
       "      <td>127.0.0.1</td>\n",
       "      <td>11.160940</td>\n",
       "      <td>1</td>\n",
       "      <td>None</td>\n",
       "      <td>0.001</td>\n",
       "      <td>5</td>\n",
       "      <td>16</td>\n",
       "    </tr>\n",
       "    <tr>\n",
       "      <th>1</th>\n",
       "      <td>0.460328</td>\n",
       "      <td>0.8326</td>\n",
       "      <td>1698423500</td>\n",
       "      <td>False</td>\n",
       "      <td>2</td>\n",
       "      <td>6424d_00000</td>\n",
       "      <td>2023-10-27_18-18-20</td>\n",
       "      <td>9.235365</td>\n",
       "      <td>20.396305</td>\n",
       "      <td>86465</td>\n",
       "      <td>mikhail.local</td>\n",
       "      <td>127.0.0.1</td>\n",
       "      <td>20.396305</td>\n",
       "      <td>2</td>\n",
       "      <td>None</td>\n",
       "      <td>0.001</td>\n",
       "      <td>5</td>\n",
       "      <td>16</td>\n",
       "    </tr>\n",
       "    <tr>\n",
       "      <th>2</th>\n",
       "      <td>0.430507</td>\n",
       "      <td>0.8446</td>\n",
       "      <td>1698423509</td>\n",
       "      <td>False</td>\n",
       "      <td>3</td>\n",
       "      <td>6424d_00000</td>\n",
       "      <td>2023-10-27_18-18-29</td>\n",
       "      <td>8.996454</td>\n",
       "      <td>29.392759</td>\n",
       "      <td>86465</td>\n",
       "      <td>mikhail.local</td>\n",
       "      <td>127.0.0.1</td>\n",
       "      <td>29.392759</td>\n",
       "      <td>3</td>\n",
       "      <td>None</td>\n",
       "      <td>0.001</td>\n",
       "      <td>5</td>\n",
       "      <td>16</td>\n",
       "    </tr>\n",
       "    <tr>\n",
       "      <th>3</th>\n",
       "      <td>0.408980</td>\n",
       "      <td>0.8510</td>\n",
       "      <td>1698423518</td>\n",
       "      <td>False</td>\n",
       "      <td>4</td>\n",
       "      <td>6424d_00000</td>\n",
       "      <td>2023-10-27_18-18-38</td>\n",
       "      <td>9.061852</td>\n",
       "      <td>38.454612</td>\n",
       "      <td>86465</td>\n",
       "      <td>mikhail.local</td>\n",
       "      <td>127.0.0.1</td>\n",
       "      <td>38.454612</td>\n",
       "      <td>4</td>\n",
       "      <td>None</td>\n",
       "      <td>0.001</td>\n",
       "      <td>5</td>\n",
       "      <td>16</td>\n",
       "    </tr>\n",
       "    <tr>\n",
       "      <th>4</th>\n",
       "      <td>0.393715</td>\n",
       "      <td>0.8590</td>\n",
       "      <td>1698423527</td>\n",
       "      <td>False</td>\n",
       "      <td>5</td>\n",
       "      <td>6424d_00000</td>\n",
       "      <td>2023-10-27_18-18-47</td>\n",
       "      <td>9.020576</td>\n",
       "      <td>47.475188</td>\n",
       "      <td>86465</td>\n",
       "      <td>mikhail.local</td>\n",
       "      <td>127.0.0.1</td>\n",
       "      <td>47.475188</td>\n",
       "      <td>5</td>\n",
       "      <td>None</td>\n",
       "      <td>0.001</td>\n",
       "      <td>5</td>\n",
       "      <td>16</td>\n",
       "    </tr>\n",
       "  </tbody>\n",
       "</table>\n",
       "</div>"
      ],
      "text/plain": [
       "       loss  accuracy   timestamp   done  training_iteration     trial_id  \\\n",
       "0  0.529073    0.8032  1698423491  False                   1  6424d_00000   \n",
       "1  0.460328    0.8326  1698423500  False                   2  6424d_00000   \n",
       "2  0.430507    0.8446  1698423509  False                   3  6424d_00000   \n",
       "3  0.408980    0.8510  1698423518  False                   4  6424d_00000   \n",
       "4  0.393715    0.8590  1698423527  False                   5  6424d_00000   \n",
       "\n",
       "                  date  time_this_iter_s  time_total_s    pid       hostname  \\\n",
       "0  2023-10-27_18-18-11         11.160940     11.160940  86465  mikhail.local   \n",
       "1  2023-10-27_18-18-20          9.235365     20.396305  86465  mikhail.local   \n",
       "2  2023-10-27_18-18-29          8.996454     29.392759  86465  mikhail.local   \n",
       "3  2023-10-27_18-18-38          9.061852     38.454612  86465  mikhail.local   \n",
       "4  2023-10-27_18-18-47          9.020576     47.475188  86465  mikhail.local   \n",
       "\n",
       "     node_ip  time_since_restore  iterations_since_restore  \\\n",
       "0  127.0.0.1           11.160940                         1   \n",
       "1  127.0.0.1           20.396305                         2   \n",
       "2  127.0.0.1           29.392759                         3   \n",
       "3  127.0.0.1           38.454612                         4   \n",
       "4  127.0.0.1           47.475188                         5   \n",
       "\n",
       "  checkpoint_dir_name  config/train_loop_config/lr  \\\n",
       "0                None                        0.001   \n",
       "1                None                        0.001   \n",
       "2                None                        0.001   \n",
       "3                None                        0.001   \n",
       "4                None                        0.001   \n",
       "\n",
       "   config/train_loop_config/epochs  \\\n",
       "0                                5   \n",
       "1                                5   \n",
       "2                                5   \n",
       "3                                5   \n",
       "4                                5   \n",
       "\n",
       "   config/train_loop_config/batch_size_per_worker  \n",
       "0                                              16  \n",
       "1                                              16  \n",
       "2                                              16  \n",
       "3                                              16  \n",
       "4                                              16  "
      ]
     },
     "execution_count": 13,
     "metadata": {},
     "output_type": "execute_result"
    }
   ],
   "source": [
    "result.metrics_dataframe"
   ]
  },
  {
   "cell_type": "code",
   "execution_count": 17,
   "metadata": {},
   "outputs": [
    {
     "name": "stdout",
     "output_type": "stream",
     "text": [
      "/Users/mikhailrozhkov/ray_results/experiment_name/TorchTrainer_6424d_00000_0_2023-10-27_18-17-57\n",
      "/Users/mikhailrozhkov/dev/rnd/ray-dvc/results/experiment_name/TorchTrainer_6424d_00000_0_2023-10-27_18-17-57\n",
      "<pyarrow._fs.LocalFileSystem object at 0x28f37c670>\n"
     ]
    }
   ],
   "source": [
    "print(result._local_path)\n",
    "print(result._remote_path)\n",
    "print(result._storage_filesystem)"
   ]
  },
  {
   "cell_type": "code",
   "execution_count": 37,
   "metadata": {},
   "outputs": [
    {
     "data": {
      "text/plain": [
       "<pyarrow._fs.LocalFileSystem at 0x28f37c670>"
      ]
     },
     "execution_count": 37,
     "metadata": {},
     "output_type": "execute_result"
    }
   ],
   "source": [
    "result.filesystem."
   ]
  },
  {
   "cell_type": "code",
   "execution_count": 38,
   "metadata": {
    "scrolled": true
   },
   "outputs": [],
   "source": [
    "report = {\n",
    "    'config': result.config,\n",
    "    'path': result.path,\n",
    "    'metrics': result.metrics,\n",
    "    'metrics_dataframe': result.metrics_dataframe.to_dict()\n",
    "}\n",
    "\n",
    "import json\n",
    "with open('report.json', 'w') as f:\n",
    "    json.dump(report, f)\n"
   ]
  },
  {
   "cell_type": "code",
   "execution_count": null,
   "metadata": {},
   "outputs": [],
   "source": []
  },
  {
   "cell_type": "code",
   "execution_count": 39,
   "metadata": {
    "scrolled": true
   },
   "outputs": [
    {
     "data": {
      "text/plain": [
       "{'config': {'train_loop_config': {'lr': 0.001,\n",
       "   'epochs': 5,\n",
       "   'batch_size_per_worker': 16}},\n",
       " 'path': '/Users/mikhailrozhkov/dev/rnd/ray-dvc/results/experiment_name/TorchTrainer_6424d_00000_0_2023-10-27_18-17-57',\n",
       " 'metrics': {'loss': 0.39371506019700736,\n",
       "  'accuracy': 0.859,\n",
       "  'timestamp': 1698423527,\n",
       "  'done': True,\n",
       "  'training_iteration': 5,\n",
       "  'trial_id': '6424d_00000',\n",
       "  'date': '2023-10-27_18-18-47',\n",
       "  'time_this_iter_s': 9.020576000213623,\n",
       "  'time_total_s': 47.47518754005432,\n",
       "  'pid': 86465,\n",
       "  'hostname': 'mikhail.local',\n",
       "  'node_ip': '127.0.0.1',\n",
       "  'config': {'train_loop_config': {'lr': 0.001,\n",
       "    'epochs': 5,\n",
       "    'batch_size_per_worker': 16}},\n",
       "  'time_since_restore': 47.47518754005432,\n",
       "  'iterations_since_restore': 5,\n",
       "  'checkpoint_dir_name': None,\n",
       "  'experiment_tag': '0'},\n",
       " 'metrics_dataframe': {'loss': {'0': 0.5290733393484031,\n",
       "   '1': 0.4603284114061263,\n",
       "   '2': 0.4305069556953713,\n",
       "   '3': 0.40898048488524397,\n",
       "   '4': 0.39371506019700736},\n",
       "  'accuracy': {'0': 0.8032, '1': 0.8326, '2': 0.8446, '3': 0.851, '4': 0.859},\n",
       "  'timestamp': {'0': 1698423491,\n",
       "   '1': 1698423500,\n",
       "   '2': 1698423509,\n",
       "   '3': 1698423518,\n",
       "   '4': 1698423527},\n",
       "  'done': {'0': False, '1': False, '2': False, '3': False, '4': False},\n",
       "  'training_iteration': {'0': 1, '1': 2, '2': 3, '3': 4, '4': 5},\n",
       "  'trial_id': {'0': '6424d_00000',\n",
       "   '1': '6424d_00000',\n",
       "   '2': '6424d_00000',\n",
       "   '3': '6424d_00000',\n",
       "   '4': '6424d_00000'},\n",
       "  'date': {'0': '2023-10-27_18-18-11',\n",
       "   '1': '2023-10-27_18-18-20',\n",
       "   '2': '2023-10-27_18-18-29',\n",
       "   '3': '2023-10-27_18-18-38',\n",
       "   '4': '2023-10-27_18-18-47'},\n",
       "  'time_this_iter_s': {'0': 11.160940170288086,\n",
       "   '1': 9.235365152359009,\n",
       "   '2': 8.996454000473022,\n",
       "   '3': 9.061852216720581,\n",
       "   '4': 9.020576000213623},\n",
       "  'time_total_s': {'0': 11.160940170288086,\n",
       "   '1': 20.396305322647095,\n",
       "   '2': 29.392759323120117,\n",
       "   '3': 38.4546115398407,\n",
       "   '4': 47.47518754005432},\n",
       "  'pid': {'0': 86465, '1': 86465, '2': 86465, '3': 86465, '4': 86465},\n",
       "  'hostname': {'0': 'mikhail.local',\n",
       "   '1': 'mikhail.local',\n",
       "   '2': 'mikhail.local',\n",
       "   '3': 'mikhail.local',\n",
       "   '4': 'mikhail.local'},\n",
       "  'node_ip': {'0': '127.0.0.1',\n",
       "   '1': '127.0.0.1',\n",
       "   '2': '127.0.0.1',\n",
       "   '3': '127.0.0.1',\n",
       "   '4': '127.0.0.1'},\n",
       "  'time_since_restore': {'0': 11.160940170288086,\n",
       "   '1': 20.396305322647095,\n",
       "   '2': 29.392759323120117,\n",
       "   '3': 38.4546115398407,\n",
       "   '4': 47.47518754005432},\n",
       "  'iterations_since_restore': {'0': 1, '1': 2, '2': 3, '3': 4, '4': 5},\n",
       "  'checkpoint_dir_name': {'0': None,\n",
       "   '1': None,\n",
       "   '2': None,\n",
       "   '3': None,\n",
       "   '4': None},\n",
       "  'config/train_loop_config/lr': {'0': 0.001,\n",
       "   '1': 0.001,\n",
       "   '2': 0.001,\n",
       "   '3': 0.001,\n",
       "   '4': 0.001},\n",
       "  'config/train_loop_config/epochs': {'0': 5, '1': 5, '2': 5, '3': 5, '4': 5},\n",
       "  'config/train_loop_config/batch_size_per_worker': {'0': 16,\n",
       "   '1': 16,\n",
       "   '2': 16,\n",
       "   '3': 16,\n",
       "   '4': 16}}}"
      ]
     },
     "execution_count": 39,
     "metadata": {},
     "output_type": "execute_result"
    }
   ],
   "source": [
    "with open('report.json', 'r') as f:\n",
    "    train_report = json.load(f)\n",
    "\n",
    "train_report"
   ]
  },
  {
   "cell_type": "code",
   "execution_count": null,
   "metadata": {},
   "outputs": [],
   "source": []
  },
  {
   "cell_type": "code",
   "execution_count": 71,
   "metadata": {},
   "outputs": [
    {
     "name": "stdout",
     "output_type": "stream",
     "text": [
      "/Users/mikhailrozhkov/dev/rnd/ray-dvc/results/experiment_name/TorchTrainer_6424d_00000_0_2023-10-27_18-17-57/results/dvclive\n"
     ]
    },
    {
     "data": {
      "text/plain": [
       "PosixPath('/Users/mikhailrozhkov/dev/rnd/ray-dvc/results/dvclive')"
      ]
     },
     "execution_count": 71,
     "metadata": {},
     "output_type": "execute_result"
    }
   ],
   "source": [
    "from pathlib import Path\n",
    "\n",
    "PROJECT_DIR = \"..\"\n",
    "\n",
    "if train_report.get('path'):\n",
    "    DVCLIVE_PATH_SOURCE = Path(train_report.get('path')) / 'results/dvclive'\n",
    "\n",
    "    print(DVCLIVE_PATH_SOURCE)\n",
    "\n",
    "DVCLIVE_DIR = Path(PROJECT_DIR) / \"results/dvclive\"\n",
    "\n",
    "import shutil \n",
    "\n",
    "shutil.copytree(DVCLIVE_PATH_SOURCE, DVCLIVE_DIR.resolve(), dirs_exist_ok=True)"
   ]
  },
  {
   "cell_type": "code",
   "execution_count": 68,
   "metadata": {},
   "outputs": [
    {
     "data": {
      "text/plain": [
       "PosixPath('/Users/mikhailrozhkov/dev/rnd/ray-dvc/results/dvclive')"
      ]
     },
     "execution_count": 68,
     "metadata": {},
     "output_type": "execute_result"
    }
   ],
   "source": [
    "DVCLIVE_DIR.resolve()"
   ]
  },
  {
   "cell_type": "markdown",
   "metadata": {},
   "source": [
    "## Initialize a Ray TorchTrainer - Parameter Server"
   ]
  },
  {
   "cell_type": "code",
   "execution_count": 119,
   "metadata": {},
   "outputs": [],
   "source": [
    "# Params \n",
    "num_workers=2\n",
    "use_gpu=False\n",
    "\n",
    "\n",
    "# def train_fashion_mnist(num_workers=2, use_gpu=False):\n",
    "global_batch_size = 32\n",
    "\n",
    "train_config = {\n",
    "    \"lr\": 1e-3,\n",
    "    \"epochs\": 5,\n",
    "    \"batch_size_per_worker\": global_batch_size // num_workers,\n",
    "}\n",
    "\n",
    "# Configure computation resources\n",
    "scaling_config = ScalingConfig(num_workers=num_workers, use_gpu=use_gpu)\n",
    "# sync_config = ray.train.SyncConfig(sync_artifacts=True)\n",
    "\n"
   ]
  },
  {
   "cell_type": "code",
   "execution_count": 120,
   "metadata": {
    "editable": true,
    "slideshow": {
     "slide_type": ""
    },
    "tags": []
   },
   "outputs": [
    {
     "data": {
      "text/plain": [
       "<__main__.DVCLiveParameterServer at 0x359a68640>"
      ]
     },
     "execution_count": 120,
     "metadata": {},
     "output_type": "execute_result"
    }
   ],
   "source": [
    "from typing import Union\n",
    "\n",
    "\n",
    "class DVCLiveParameterServer(object):\n",
    "    def __init__(self):\n",
    "        self._step: Optional[int] = None\n",
    "        self._metrics: Dict[str, Any] = {}\n",
    "        self._params: Dict[str, Any] = {}\n",
    "\n",
    "    def log_metric(\n",
    "        self, \n",
    "        name: str,\n",
    "        val: Union[int, float, str],\n",
    "        step: Union[int, float, str],\n",
    "    ):\n",
    "\n",
    "        if name in self._metrics:\n",
    "            metric = self._metrics[name]\n",
    "        else:\n",
    "            metric = {}\n",
    "\n",
    "        metric.update({step: val})\n",
    "        self._metrics.update({name: metric})\n",
    "        return self._metrics[name]\n",
    "\n",
    "    def get_metrics(self):\n",
    "        return self._metrics\n",
    "\n",
    "    def log_params(\n",
    "        self, \n",
    "        name: str,\n",
    "        val: Union[int, float, str],\n",
    "        step: Union[int, float, str],\n",
    "    ):\n",
    "\n",
    "        if name in self._params:\n",
    "            p = self._params[name]\n",
    "        else:\n",
    "            p = {}\n",
    "\n",
    "        p.update({step: val})\n",
    "        self._params.update({name: p})  \n",
    "        return self._params[name] \n",
    "\n",
    "    def get_params(self):\n",
    "        return self._params\n",
    "\n",
    "\n",
    "@ray.remote\n",
    "class DVCLiveParameterServerRemote(DVCLiveParameterServer):\n",
    "    def __init___(self):\n",
    "        super().__init__()\n",
    "\n",
    "\n",
    "# Start parameter servers\n",
    "\n",
    "ps = DVCLiveParameterServer()\n",
    "ps"
   ]
  },
  {
   "cell_type": "code",
   "execution_count": 121,
   "metadata": {
    "scrolled": true
   },
   "outputs": [
    {
     "name": "stdout",
     "output_type": "stream",
     "text": [
      "{'metric_x': {0: 0.3785852544832995, 1: 0.27467545935282933, 2: 0.7351759621316337}} {'param_y': {0: 12, 1: 19, 2: 8}}\n"
     ]
    }
   ],
   "source": [
    "import random\n",
    "\n",
    "for i in range(3): \n",
    "    ps.log_metric(name=f'metric_x', val=random.random(), step=i)\n",
    "    ps.log_params(name=f'param_y', val=random.randint(5, 20), step=i)\n",
    "\n",
    "print(ps.get_metrics(), ps.get_params())"
   ]
  },
  {
   "cell_type": "code",
   "execution_count": 67,
   "metadata": {},
   "outputs": [
    {
     "name": "stdout",
     "output_type": "stream",
     "text": [
      "{'metric_x': {0: 0.5122420302855009, 1: 0.5666348283514934, 2: 0.7167602614146837}, 'metric_z': {0: 0.08097484432012814, 1: 0.246527935596355, 2: 0.4439109695968947}} {'param_y': {0: 10, 1: 12, 2: 16}}\n"
     ]
    }
   ],
   "source": [
    "psr = DVCLiveParameterServerRemote.remote()\n",
    "psr\n",
    "\n",
    "for i in range(3): \n",
    "    psr.log_metric.remote(name=f'metric_x', val=random.random(), step=i)\n",
    "    psr.log_metric.remote(name=f'metric_z', val=random.random(), step=i)\n",
    "    psr.log_params.remote(name=f'param_y', val=random.randint(5, 20), step=i)\n",
    "\n",
    "print(\n",
    "    ray.get(psr.get_metrics.remote()), \n",
    "    ray.get(psr.get_params.remote()))"
   ]
  },
  {
   "cell_type": "code",
   "execution_count": 72,
   "metadata": {},
   "outputs": [
    {
     "data": {
      "text/plain": [
       "3"
      ]
     },
     "execution_count": 72,
     "metadata": {},
     "output_type": "execute_result"
    }
   ],
   "source": [
    "metrics = ray.get(psr.get_metrics.remote())\n",
    "\n",
    "metric = list(metrics.keys())[0]\n",
    "len(metrics[metric])"
   ]
  },
  {
   "cell_type": "code",
   "execution_count": 110,
   "metadata": {},
   "outputs": [],
   "source": [
    "\n",
    "def train_func_per_worker(config: Dict):\n",
    "    lr = config[\"lr\"]\n",
    "    epochs = config[\"epochs\"]\n",
    "    batch_size = config[\"batch_size_per_worker\"]\n",
    "\n",
    "    # Get dataloaders inside worker training function\n",
    "    train_dataloader, test_dataloader = get_dataloaders(batch_size=batch_size)\n",
    "\n",
    "    # [1] Prepare Dataloader for distributed training\n",
    "    # Shard the datasets among workers and move batches to the correct device\n",
    "    # =======================================================================\n",
    "    train_dataloader = ray.train.torch.prepare_data_loader(train_dataloader)\n",
    "    test_dataloader = ray.train.torch.prepare_data_loader(test_dataloader)\n",
    "\n",
    "    model = NeuralNetwork()\n",
    "\n",
    "    # [2] Prepare and wrap your model with DistributedDataParallel\n",
    "    # Move the model the correct GPU/CPU device\n",
    "    # ============================================================\n",
    "    model = ray.train.torch.prepare_model(model)\n",
    "\n",
    "    loss_fn = nn.CrossEntropyLoss()\n",
    "    optimizer = torch.optim.SGD(model.parameters(), lr=lr, momentum=0.9)\n",
    "\n",
    "    # Model training loop\n",
    "    from dvclive import Live\n",
    "    from ray.train import get_context\n",
    "\n",
    "    train_context = get_context()\n",
    "    rank = train_context.get_local_rank()\n",
    "\n",
    "    \n",
    "\n",
    "    # with Live(dir='results/dvclive', dvcyaml=True, save_dvc_exp=False, resume=True) as live:\n",
    "\n",
    "    for epoch in range(epochs):\n",
    "        model.train()\n",
    "        for X, y in tqdm(train_dataloader, desc=f\"Train Epoch {epoch}\"):\n",
    "            pred = model(X)\n",
    "            loss = loss_fn(pred, y)\n",
    "\n",
    "            optimizer.zero_grad()\n",
    "            loss.backward()\n",
    "            optimizer.step()\n",
    "\n",
    "        model.eval()\n",
    "        test_loss, num_correct, num_total = 0, 0, 0\n",
    "        with torch.no_grad():\n",
    "            for X, y in tqdm(test_dataloader, desc=f\"Test Epoch {epoch}\"):\n",
    "                pred = model(X)\n",
    "                loss = loss_fn(pred, y)\n",
    "\n",
    "                test_loss += loss.item()\n",
    "                num_total += y.shape[0]\n",
    "                num_correct += (pred.argmax(1) == y).sum().item()\n",
    "\n",
    "        test_loss /= len(test_dataloader)\n",
    "        accuracy = num_correct / num_total\n",
    "\n",
    "        # [3] Report metrics to Ray Train\n",
    "        # ===============================\n",
    "        ray.train.report(metrics={\"loss\": test_loss, \"accuracy\": accuracy})\n",
    "\n",
    "        # Log metrics with DVCLive \n",
    "        # live = config.get('dvc_parameter_server')\n",
    "        live = psr\n",
    "        \n",
    "        if rank == 0:\n",
    "            print(\"loss\", test_loss)\n",
    "            print(\"accuracy\", accuracy)\n",
    "            print(\"---NEXT STEP---\")\n",
    "            \n",
    "            live.log_metric.remote(name=\"loss\", val=test_loss, step=epoch)\n",
    "            live.log_params.remote(name=\"accuracy\", val=accuracy, step=epoch)\n",
    "            print(\"Live object (psr): \", live)\n",
    "            print(\"Logged Metrics (psr): \", live.get_metrics.remote())\n",
    "            print(\"---METRICS LOGGED---\")\n"
   ]
  },
  {
   "cell_type": "code",
   "execution_count": 111,
   "metadata": {},
   "outputs": [
    {
     "name": "stdout",
     "output_type": "stream",
     "text": [
      "PSR object:  Actor(DVCLiveParameterServerRemote, c0208c70fe90d21426b0a97904000000)\n"
     ]
    }
   ],
   "source": [
    "psr = DVCLiveParameterServerRemote.remote()\n",
    "print(\"PSR object: \", psr)"
   ]
  },
  {
   "cell_type": "code",
   "execution_count": 118,
   "metadata": {},
   "outputs": [
    {
     "data": {
      "text/plain": [
       "ObjectRef(11a8988bb9706a76c0208c70fe90d21426b0a9790400000001000000)"
      ]
     },
     "execution_count": 118,
     "metadata": {},
     "output_type": "execute_result"
    }
   ],
   "source": [
    "psr.get_metrics.remote()"
   ]
  },
  {
   "cell_type": "code",
   "execution_count": 115,
   "metadata": {
    "editable": true,
    "scrolled": true,
    "slideshow": {
     "slide_type": ""
    },
    "tags": []
   },
   "outputs": [
    {
     "data": {
      "text/html": [
       "<div class=\"tuneStatus\">\n",
       "  <div style=\"display: flex;flex-direction: row\">\n",
       "    <div style=\"display: flex;flex-direction: column;\">\n",
       "      <h3>Tune Status</h3>\n",
       "      <table>\n",
       "<tbody>\n",
       "<tr><td>Current time:</td><td>2023-11-01 19:21:08</td></tr>\n",
       "<tr><td>Running for: </td><td>00:00:55.11        </td></tr>\n",
       "<tr><td>Memory:      </td><td>30.8/64.0 GiB      </td></tr>\n",
       "</tbody>\n",
       "</table>\n",
       "    </div>\n",
       "    <div class=\"vDivider\"></div>\n",
       "    <div class=\"systemInfo\">\n",
       "      <h3>System Info</h3>\n",
       "      Using FIFO scheduling algorithm.<br>Logical resource usage: 3.0/12 CPUs, 0/0 GPUs\n",
       "    </div>\n",
       "    \n",
       "  </div>\n",
       "  <div class=\"hDivider\"></div>\n",
       "  <div class=\"trialStatus\">\n",
       "    <h3>Trial Status</h3>\n",
       "    <table>\n",
       "<thead>\n",
       "<tr><th>Trial name              </th><th>status    </th><th>loc            </th><th style=\"text-align: right;\">  iter</th><th style=\"text-align: right;\">  total time (s)</th><th style=\"text-align: right;\">    loss</th><th style=\"text-align: right;\">  accuracy</th></tr>\n",
       "</thead>\n",
       "<tbody>\n",
       "<tr><td>TorchTrainer_4cb62_00000</td><td>TERMINATED</td><td>127.0.0.1:84255</td><td style=\"text-align: right;\">     5</td><td style=\"text-align: right;\">         51.5534</td><td style=\"text-align: right;\">0.394803</td><td style=\"text-align: right;\">    0.8576</td></tr>\n",
       "</tbody>\n",
       "</table>\n",
       "  </div>\n",
       "</div>\n",
       "<style>\n",
       ".tuneStatus {\n",
       "  color: var(--jp-ui-font-color1);\n",
       "}\n",
       ".tuneStatus .systemInfo {\n",
       "  display: flex;\n",
       "  flex-direction: column;\n",
       "}\n",
       ".tuneStatus td {\n",
       "  white-space: nowrap;\n",
       "}\n",
       ".tuneStatus .trialStatus {\n",
       "  display: flex;\n",
       "  flex-direction: column;\n",
       "}\n",
       ".tuneStatus h3 {\n",
       "  font-weight: bold;\n",
       "}\n",
       ".tuneStatus .hDivider {\n",
       "  border-bottom-width: var(--jp-border-width);\n",
       "  border-bottom-color: var(--jp-border-color0);\n",
       "  border-bottom-style: solid;\n",
       "}\n",
       ".tuneStatus .vDivider {\n",
       "  border-left-width: var(--jp-border-width);\n",
       "  border-left-color: var(--jp-border-color0);\n",
       "  border-left-style: solid;\n",
       "  margin: 0.5em 1em 0.5em 1em;\n",
       "}\n",
       "</style>\n"
      ],
      "text/plain": [
       "<IPython.core.display.HTML object>"
      ]
     },
     "metadata": {},
     "output_type": "display_data"
    },
    {
     "name": "stderr",
     "output_type": "stream",
     "text": [
      "\u001b[2m\u001b[36m(run_train pid=42775)\u001b[0m [output] This will use the new output engine with verbosity 1. To disable the new output and use the legacy output engine, set the environment variable RAY_AIR_NEW_OUTPUT=0. For more information, please see https://github.com/ray-project/ray/issues/36949\n"
     ]
    },
    {
     "name": "stdout",
     "output_type": "stream",
     "text": [
      "\u001b[2m\u001b[36m(run_train pid=42775)\u001b[0m \n",
      "\u001b[2m\u001b[36m(run_train pid=42775)\u001b[0m View detailed results here: /Users/mikhailrozhkov/dev/rnd/ray-dvc/results/experiment_name\n",
      "\u001b[2m\u001b[36m(run_train pid=42775)\u001b[0m To visualize your results with TensorBoard, run: `tensorboard --logdir /Users/mikhailrozhkov/ray_results/experiment_name`\n"
     ]
    },
    {
     "name": "stderr",
     "output_type": "stream",
     "text": [
      "\u001b[2m\u001b[36m(TorchTrainer pid=84255)\u001b[0m Starting distributed worker processes: ['84413 (127.0.0.1)', '84414 (127.0.0.1)']\n"
     ]
    },
    {
     "name": "stdout",
     "output_type": "stream",
     "text": [
      "\u001b[2m\u001b[36m(run_train pid=42775)\u001b[0m \n",
      "\u001b[2m\u001b[36m(run_train pid=42775)\u001b[0m Training started with configuration:\n",
      "\u001b[2m\u001b[36m(run_train pid=42775)\u001b[0m ╭────────────────────────────────────────────────────────────────╮\n",
      "\u001b[2m\u001b[36m(run_train pid=42775)\u001b[0m │ Training config                                                │\n",
      "\u001b[2m\u001b[36m(run_train pid=42775)\u001b[0m ├────────────────────────────────────────────────────────────────┤\n",
      "\u001b[2m\u001b[36m(run_train pid=42775)\u001b[0m │ train_loop_config/batch_size_per_worker                     16 │\n",
      "\u001b[2m\u001b[36m(run_train pid=42775)\u001b[0m │ train_loop_config/dvc_parameter_server    ...f6013cf404000000) │\n",
      "\u001b[2m\u001b[36m(run_train pid=42775)\u001b[0m │ train_loop_config/epochs                                     5 │\n",
      "\u001b[2m\u001b[36m(run_train pid=42775)\u001b[0m │ train_loop_config/lr                                     0.001 │\n",
      "\u001b[2m\u001b[36m(run_train pid=42775)\u001b[0m ╰────────────────────────────────────────────────────────────────╯\n"
     ]
    },
    {
     "name": "stderr",
     "output_type": "stream",
     "text": [
      "\u001b[2m\u001b[36m(RayTrainWorker pid=84413)\u001b[0m Setting up process group for: env:// [rank=0, world_size=2]\n",
      "\u001b[2m\u001b[36m(RayTrainWorker pid=84413)\u001b[0m Moving model to device: cpu\n",
      "\u001b[2m\u001b[36m(RayTrainWorker pid=84413)\u001b[0m Wrapping provided model in DistributedDataParallel.\n",
      "Train Epoch 0:   0%|          | 0/1875 [00:00<?, ?it/s]\n",
      "Train Epoch 0:   1%|          | 19/1875 [00:00<00:09, 186.85it/s]\n",
      "Train Epoch 0:   5%|▍         | 86/1875 [00:00<00:08, 215.11it/s]\n",
      "\u001b[2m\u001b[36m(TorchTrainer pid=84344)\u001b[0m Starting distributed worker processes: ['84436 (127.0.0.1)', '84437 (127.0.0.1)']\n",
      "\u001b[2m\u001b[36m(RayTrainWorker pid=84436)\u001b[0m Setting up process group for: env:// [rank=0, world_size=2]\n",
      "\u001b[2m\u001b[36m(RayTrainWorker pid=84436)\u001b[0m Moving model to device: cpu\n",
      "\u001b[2m\u001b[36m(RayTrainWorker pid=84436)\u001b[0m Wrapping provided model in DistributedDataParallel.\n",
      "Train Epoch 0:   0%|          | 0/1875 [00:00<?, ?it/s]\u001b[32m [repeated 3x across cluster]\u001b[0m\n",
      "Train Epoch 0:  64%|██████▎   | 1195/1875 [00:05<00:02, 240.60it/s]\u001b[32m [repeated 132x across cluster]\u001b[0m\n",
      "Train Epoch 0:  50%|█████     | 939/1875 [00:04<00:03, 250.87it/s]\u001b[32m [repeated 6x across cluster]\u001b[0m\n",
      "Train Epoch 0:  92%|█████████▏| 1734/1875 [00:07<00:00, 245.25it/s]\n",
      "Train Epoch 0: 100%|██████████| 1875/1875 [00:07<00:00, 234.60it/s]\n",
      "Test Epoch 0:   0%|          | 0/313 [00:00<?, ?it/s]\n",
      "Test Epoch 0:  31%|███▏      | 98/313 [00:00<00:00, 971.63it/s]\n",
      "Test Epoch 0: 100%|██████████| 313/313 [00:00<00:00, 991.29it/s]\n",
      "Test Epoch 0: 100%|██████████| 313/313 [00:00<00:00, 934.48it/s]\n"
     ]
    },
    {
     "name": "stdout",
     "output_type": "stream",
     "text": [
      "\u001b[2m\u001b[36m(RayTrainWorker pid=84413)\u001b[0m loss 0.5271380199684789\n",
      "\u001b[2m\u001b[36m(RayTrainWorker pid=84413)\u001b[0m accuracy 0.803\n",
      "\u001b[2m\u001b[36m(RayTrainWorker pid=84413)\u001b[0m ---NEXT STEP---\n",
      "\u001b[2m\u001b[36m(RayTrainWorker pid=84413)\u001b[0m Live object (psr):  Actor(DVCLiveParameterServerRemote, c0208c70fe90d21426b0a97904000000)\n",
      "\u001b[2m\u001b[36m(RayTrainWorker pid=84413)\u001b[0m Logged Metrics (psr):  ObjectRef(b53177eecad4a339c0208c70fe90d21426b0a9790400000001000000)\n",
      "\u001b[2m\u001b[36m(RayTrainWorker pid=84413)\u001b[0m ---METRICS LOGGED---\n"
     ]
    },
    {
     "name": "stderr",
     "output_type": "stream",
     "text": [
      "Train Epoch 1:   0%|          | 0/1875 [00:00<?, ?it/s]\u001b[32m [repeated 2x across cluster]\u001b[0m\n",
      "Train Epoch 1:  20%|█▉        | 367/1875 [00:01<00:08, 186.16it/s]\u001b[32m [repeated 152x across cluster]\u001b[0m\n",
      "Train Epoch 1:  12%|█▏        | 228/1875 [00:01<00:08, 201.40it/s]\u001b[32m [repeated 5x across cluster]\u001b[0m\n"
     ]
    },
    {
     "name": "stdout",
     "output_type": "stream",
     "text": [
      "\u001b[2m\u001b[36m(run_train pid=42775)\u001b[0m \n",
      "\u001b[2m\u001b[36m(run_train pid=42775)\u001b[0m Training finished iteration 1 at 2023-11-01 19:20:29. Total running time: 14s\n",
      "\u001b[2m\u001b[36m(run_train pid=42775)\u001b[0m ╭───────────────────────────────╮\n",
      "\u001b[2m\u001b[36m(run_train pid=42775)\u001b[0m │ Training result               │\n",
      "\u001b[2m\u001b[36m(run_train pid=42775)\u001b[0m ├───────────────────────────────┤\n",
      "\u001b[2m\u001b[36m(run_train pid=42775)\u001b[0m │ checkpoint_dir_name           │\n",
      "\u001b[2m\u001b[36m(run_train pid=42775)\u001b[0m │ time_this_iter_s      11.8505 │\n",
      "\u001b[2m\u001b[36m(run_train pid=42775)\u001b[0m │ time_total_s          11.8505 │\n",
      "\u001b[2m\u001b[36m(run_train pid=42775)\u001b[0m │ training_iteration          1 │\n",
      "\u001b[2m\u001b[36m(run_train pid=42775)\u001b[0m │ accuracy               0.8024 │\n",
      "\u001b[2m\u001b[36m(run_train pid=42775)\u001b[0m │ loss                  0.52852 │\n",
      "\u001b[2m\u001b[36m(run_train pid=42775)\u001b[0m ╰───────────────────────────────╯\n"
     ]
    },
    {
     "name": "stderr",
     "output_type": "stream",
     "text": [
      "Train Epoch 0:  98%|█████████▊| 1842/1875 [00:07<00:00, 207.88it/s]\u001b[32m [repeated 21x across cluster]\u001b[0m\n",
      "Train Epoch 0: 100%|██████████| 1875/1875 [00:08<00:00, 233.93it/s]\u001b[32m [repeated 3x across cluster]\u001b[0m\n",
      "Test Epoch 0:   0%|          | 0/313 [00:00<?, ?it/s]\u001b[32m [repeated 3x across cluster]\u001b[0m\n",
      "Test Epoch 0:  57%|█████▋    | 179/313 [00:00<00:00, 900.88it/s]\u001b[32m [repeated 7x across cluster]\u001b[0m\n",
      "Test Epoch 0: 100%|██████████| 313/313 [00:00<00:00, 892.82it/s]\u001b[32m [repeated 2x across cluster]\u001b[0m\n",
      "Train Epoch 1:   0%|          | 0/1875 [00:00<?, ?it/s]\u001b[32m [repeated 2x across cluster]\u001b[0m\n",
      "Train Epoch 1:  72%|███████▏  | 1347/1875 [00:06<00:02, 191.91it/s]\u001b[32m [repeated 165x across cluster]\u001b[0m\n",
      "Train Epoch 1:  72%|███████▏  | 1355/1875 [00:06<00:02, 192.96it/s]\u001b[32m [repeated 7x across cluster]\u001b[0m\n",
      "Train Epoch 1:  95%|█████████▍| 1775/1875 [00:09<00:00, 193.41it/s]\u001b[32m [repeated 7x across cluster]\u001b[0m\n",
      "Train Epoch 1: 100%|██████████| 1875/1875 [00:09<00:00, 194.24it/s]\n",
      "Test Epoch 1:   0%|          | 0/313 [00:00<?, ?it/s]\u001b[32m [repeated 2x across cluster]\u001b[0m\n",
      "Test Epoch 1:  49%|████▊     | 152/313 [00:00<00:00, 763.04it/s]\u001b[32m [repeated 3x across cluster]\u001b[0m\n",
      "Test Epoch 1: 100%|██████████| 313/313 [00:00<00:00, 822.48it/s]\n"
     ]
    },
    {
     "name": "stdout",
     "output_type": "stream",
     "text": [
      "\u001b[2m\u001b[36m(RayTrainWorker pid=84413)\u001b[0m loss 0.4612438741345375\u001b[32m [repeated 2x across cluster]\u001b[0m\n",
      "\u001b[2m\u001b[36m(RayTrainWorker pid=84413)\u001b[0m accuracy 0.8336\u001b[32m [repeated 2x across cluster]\u001b[0m\n",
      "\u001b[2m\u001b[36m(RayTrainWorker pid=84413)\u001b[0m ---NEXT STEP---\u001b[32m [repeated 2x across cluster]\u001b[0m\n",
      "\u001b[2m\u001b[36m(RayTrainWorker pid=84413)\u001b[0m Live object (psr):  Actor(DVCLiveParameterServerRemote, c0208c70fe90d21426b0a97904000000)\u001b[32m [repeated 2x across cluster]\u001b[0m\n",
      "\u001b[2m\u001b[36m(RayTrainWorker pid=84413)\u001b[0m Logged Metrics (psr):  ObjectRef(0403899d1b6da206c0208c70fe90d21426b0a9790400000001000000)\u001b[32m [repeated 2x across cluster]\u001b[0m\n",
      "\u001b[2m\u001b[36m(RayTrainWorker pid=84413)\u001b[0m ---METRICS LOGGED---\u001b[32m [repeated 2x across cluster]\u001b[0m\n"
     ]
    },
    {
     "name": "stderr",
     "output_type": "stream",
     "text": [
      "Train Epoch 2:   0%|          | 0/1875 [00:00<?, ?it/s]\u001b[32m [repeated 2x across cluster]\u001b[0m\n",
      "Train Epoch 2:  19%|█▉        | 365/1875 [00:01<00:07, 192.46it/s]\u001b[32m [repeated 145x across cluster]\u001b[0m\n",
      "Train Epoch 2:   5%|▌         | 98/1875 [00:00<00:09, 196.24it/s]\u001b[32m [repeated 4x across cluster]\u001b[0m\n"
     ]
    },
    {
     "name": "stdout",
     "output_type": "stream",
     "text": [
      "\u001b[2m\u001b[36m(run_train pid=42775)\u001b[0m \n",
      "\u001b[2m\u001b[36m(run_train pid=42775)\u001b[0m Training finished iteration 2 at 2023-11-01 19:20:39. Total running time: 24s\n",
      "\u001b[2m\u001b[36m(run_train pid=42775)\u001b[0m ╭───────────────────────────────╮\n",
      "\u001b[2m\u001b[36m(run_train pid=42775)\u001b[0m │ Training result               │\n",
      "\u001b[2m\u001b[36m(run_train pid=42775)\u001b[0m ├───────────────────────────────┤\n",
      "\u001b[2m\u001b[36m(run_train pid=42775)\u001b[0m │ checkpoint_dir_name           │\n",
      "\u001b[2m\u001b[36m(run_train pid=42775)\u001b[0m │ time_this_iter_s      10.0314 │\n",
      "\u001b[2m\u001b[36m(run_train pid=42775)\u001b[0m │ time_total_s          21.8819 │\n",
      "\u001b[2m\u001b[36m(run_train pid=42775)\u001b[0m │ training_iteration          2 │\n",
      "\u001b[2m\u001b[36m(run_train pid=42775)\u001b[0m │ accuracy               0.8272 │\n",
      "\u001b[2m\u001b[36m(run_train pid=42775)\u001b[0m │ loss                  0.46816 │\n",
      "\u001b[2m\u001b[36m(run_train pid=42775)\u001b[0m ╰───────────────────────────────╯\n"
     ]
    },
    {
     "name": "stderr",
     "output_type": "stream",
     "text": [
      "Train Epoch 1: 100%|██████████| 1875/1875 [00:09<00:00, 193.55it/s]\u001b[32m [repeated 27x across cluster]\u001b[0m\n",
      "Test Epoch 1:   0%|          | 0/313 [00:00<?, ?it/s]\u001b[32m [repeated 2x across cluster]\u001b[0m\n",
      "Test Epoch 1:  86%|████████▋ | 270/313 [00:00<00:00, 904.43it/s]\u001b[32m [repeated 9x across cluster]\u001b[0m\n",
      "Test Epoch 1: 100%|██████████| 313/313 [00:00<00:00, 892.87it/s]\u001b[32m [repeated 3x across cluster]\u001b[0m\n",
      "Train Epoch 2:   0%|          | 0/1875 [00:00<?, ?it/s]\u001b[32m [repeated 2x across cluster]\u001b[0m\n",
      "Train Epoch 2:  71%|███████   | 1330/1875 [00:06<00:02, 184.06it/s]\u001b[32m [repeated 166x across cluster]\u001b[0m\n",
      "Train Epoch 2:  28%|██▊       | 528/1875 [00:02<00:07, 189.57it/s]\u001b[32m [repeated 6x across cluster]\u001b[0m\n",
      "Train Epoch 2:  94%|█████████▎| 1757/1875 [00:09<00:00, 178.19it/s]\u001b[32m [repeated 6x across cluster]\u001b[0m\n",
      "Test Epoch 2:   0%|          | 0/313 [00:00<?, ?it/s]\n",
      "Train Epoch 2: 100%|██████████| 1875/1875 [00:09<00:00, 190.33it/s]\n",
      "Test Epoch 2:   0%|          | 0/313 [00:00<?, ?it/s]\n",
      "Test Epoch 2:  28%|██▊       | 89/313 [00:00<00:00, 889.74it/s]\n",
      "Test Epoch 2:  28%|██▊       | 88/313 [00:00<00:00, 876.71it/s]\n",
      "Test Epoch 2: 100%|██████████| 313/313 [00:00<00:00, 899.07it/s]\n"
     ]
    },
    {
     "name": "stdout",
     "output_type": "stream",
     "text": [
      "\u001b[2m\u001b[36m(RayTrainWorker pid=84413)\u001b[0m loss 0.4305400553400429\u001b[32m [repeated 2x across cluster]\u001b[0m\n",
      "\u001b[2m\u001b[36m(RayTrainWorker pid=84413)\u001b[0m accuracy 0.8432\u001b[32m [repeated 2x across cluster]\u001b[0m\n",
      "\u001b[2m\u001b[36m(RayTrainWorker pid=84413)\u001b[0m ---NEXT STEP---\u001b[32m [repeated 2x across cluster]\u001b[0m\n",
      "\u001b[2m\u001b[36m(RayTrainWorker pid=84413)\u001b[0m Live object (psr):  Actor(DVCLiveParameterServerRemote, c0208c70fe90d21426b0a97904000000)\u001b[32m [repeated 2x across cluster]\u001b[0m\n",
      "\u001b[2m\u001b[36m(RayTrainWorker pid=84413)\u001b[0m Logged Metrics (psr):  ObjectRef(24fc8e5cfb5480f0c0208c70fe90d21426b0a9790400000001000000)\u001b[32m [repeated 2x across cluster]\u001b[0m\n",
      "\u001b[2m\u001b[36m(RayTrainWorker pid=84413)\u001b[0m ---METRICS LOGGED---\u001b[32m [repeated 2x across cluster]\u001b[0m\n"
     ]
    },
    {
     "name": "stderr",
     "output_type": "stream",
     "text": [
      "Train Epoch 3:   0%|          | 0/1875 [00:00<?, ?it/s]\u001b[32m [repeated 2x across cluster]\u001b[0m\n",
      "Train Epoch 3:  18%|█▊        | 344/1875 [00:01<00:07, 194.86it/s]\u001b[32m [repeated 150x across cluster]\u001b[0m\n",
      "Train Epoch 2:  70%|██████▉   | 1312/1875 [00:06<00:03, 186.18it/s]\u001b[32m [repeated 3x across cluster]\u001b[0m\n",
      "Test Epoch 2:  27%|██▋       | 85/313 [00:00<00:00, 849.13it/s]\n"
     ]
    },
    {
     "name": "stdout",
     "output_type": "stream",
     "text": [
      "\u001b[2m\u001b[36m(run_train pid=42775)\u001b[0m \n",
      "\u001b[2m\u001b[36m(run_train pid=42775)\u001b[0m Training finished iteration 3 at 2023-11-01 19:20:49. Total running time: 34s\n",
      "\u001b[2m\u001b[36m(run_train pid=42775)\u001b[0m ╭───────────────────────────────╮\n",
      "\u001b[2m\u001b[36m(run_train pid=42775)\u001b[0m │ Training result               │\n",
      "\u001b[2m\u001b[36m(run_train pid=42775)\u001b[0m ├───────────────────────────────┤\n",
      "\u001b[2m\u001b[36m(run_train pid=42775)\u001b[0m │ checkpoint_dir_name           │\n",
      "\u001b[2m\u001b[36m(run_train pid=42775)\u001b[0m │ time_this_iter_s       10.357 │\n",
      "\u001b[2m\u001b[36m(run_train pid=42775)\u001b[0m │ time_total_s          32.2389 │\n",
      "\u001b[2m\u001b[36m(run_train pid=42775)\u001b[0m │ training_iteration          3 │\n",
      "\u001b[2m\u001b[36m(run_train pid=42775)\u001b[0m │ accuracy               0.8436 │\n",
      "\u001b[2m\u001b[36m(run_train pid=42775)\u001b[0m │ loss                  0.43038 │\n",
      "\u001b[2m\u001b[36m(run_train pid=42775)\u001b[0m ╰───────────────────────────────╯\n"
     ]
    },
    {
     "name": "stderr",
     "output_type": "stream",
     "text": [
      "Test Epoch 2: 100%|██████████| 313/313 [00:00<00:00, 843.94it/s]\n",
      "Train Epoch 2: 100%|██████████| 1875/1875 [00:09<00:00, 188.19it/s]\u001b[32m [repeated 24x across cluster]\u001b[0m\n",
      "Train Epoch 2: 100%|██████████| 1875/1875 [00:09<00:00, 188.20it/s]\u001b[32m [repeated 3x across cluster]\u001b[0m\n",
      "Test Epoch 2:  80%|███████▉  | 249/313 [00:00<00:00, 762.49it/s]\u001b[32m [repeated 6x across cluster]\u001b[0m\n",
      "Test Epoch 2: 100%|██████████| 313/313 [00:00<00:00, 894.37it/s]\n",
      "Train Epoch 3:   0%|          | 0/1875 [00:00<?, ?it/s]\u001b[32m [repeated 2x across cluster]\u001b[0m\n",
      "Train Epoch 3:  70%|██████▉   | 1308/1875 [00:06<00:02, 200.06it/s]\u001b[32m [repeated 163x across cluster]\u001b[0m\n",
      "Train Epoch 3:  44%|████▍     | 823/1875 [00:04<00:05, 201.10it/s]\u001b[32m [repeated 7x across cluster]\u001b[0m\n",
      "Test Epoch 2:  27%|██▋       | 85/313 [00:00<00:00, 846.64it/s]\n",
      "Test Epoch 2: 100%|██████████| 313/313 [00:00<00:00, 791.11it/s]\n",
      "Train Epoch 3:  92%|█████████▏| 1728/1875 [00:09<00:00, 198.13it/s]\n",
      "Train Epoch 3:  92%|█████████▏| 1727/1875 [00:09<00:00, 198.10it/s]\n",
      "Train Epoch 3: 100%|██████████| 1875/1875 [00:09<00:00, 188.53it/s]\n",
      "Test Epoch 3:   0%|          | 0/313 [00:00<?, ?it/s]\n",
      "Test Epoch 3:  58%|█████▊    | 183/313 [00:00<00:00, 916.05it/s]\n",
      "Test Epoch 3:  88%|████████▊ | 275/313 [00:00<00:00, 909.57it/s]\n",
      "Test Epoch 3: 100%|██████████| 313/313 [00:00<00:00, 894.67it/s]\n"
     ]
    },
    {
     "name": "stdout",
     "output_type": "stream",
     "text": [
      "\u001b[2m\u001b[36m(RayTrainWorker pid=84413)\u001b[0m loss 0.40948573166665175\u001b[32m [repeated 2x across cluster]\u001b[0m\n",
      "\u001b[2m\u001b[36m(RayTrainWorker pid=84413)\u001b[0m accuracy 0.8518\u001b[32m [repeated 2x across cluster]\u001b[0m\n",
      "\u001b[2m\u001b[36m(RayTrainWorker pid=84413)\u001b[0m ---NEXT STEP---\u001b[32m [repeated 2x across cluster]\u001b[0m\n",
      "\u001b[2m\u001b[36m(RayTrainWorker pid=84413)\u001b[0m Live object (psr):  Actor(DVCLiveParameterServerRemote, c0208c70fe90d21426b0a97904000000)\u001b[32m [repeated 2x across cluster]\u001b[0m\n",
      "\u001b[2m\u001b[36m(RayTrainWorker pid=84413)\u001b[0m Logged Metrics (psr):  ObjectRef(96b03d7c0b6b6b98c0208c70fe90d21426b0a9790400000001000000)\u001b[32m [repeated 2x across cluster]\u001b[0m\n",
      "\u001b[2m\u001b[36m(RayTrainWorker pid=84413)\u001b[0m ---METRICS LOGGED---\u001b[32m [repeated 2x across cluster]\u001b[0m\n"
     ]
    },
    {
     "name": "stderr",
     "output_type": "stream",
     "text": [
      "Train Epoch 4:   0%|          | 0/1875 [00:00<?, ?it/s]\u001b[32m [repeated 2x across cluster]\u001b[0m\n",
      "Train Epoch 4:  17%|█▋        | 310/1875 [00:01<00:07, 198.14it/s]\u001b[32m [repeated 155x across cluster]\u001b[0m\n",
      "Train Epoch 3:  76%|███████▌  | 1426/1875 [00:07<00:02, 202.36it/s]\u001b[32m [repeated 3x across cluster]\u001b[0m\n"
     ]
    },
    {
     "name": "stdout",
     "output_type": "stream",
     "text": [
      "\u001b[2m\u001b[36m(run_train pid=42775)\u001b[0m \n",
      "\u001b[2m\u001b[36m(run_train pid=42775)\u001b[0m Training finished iteration 4 at 2023-11-01 19:20:59. Total running time: 44s\n",
      "\u001b[2m\u001b[36m(run_train pid=42775)\u001b[0m ╭───────────────────────────────╮\n",
      "\u001b[2m\u001b[36m(run_train pid=42775)\u001b[0m │ Training result               │\n",
      "\u001b[2m\u001b[36m(run_train pid=42775)\u001b[0m ├───────────────────────────────┤\n",
      "\u001b[2m\u001b[36m(run_train pid=42775)\u001b[0m │ checkpoint_dir_name           │\n",
      "\u001b[2m\u001b[36m(run_train pid=42775)\u001b[0m │ time_this_iter_s      10.2984 │\n",
      "\u001b[2m\u001b[36m(run_train pid=42775)\u001b[0m │ time_total_s          42.5373 │\n",
      "\u001b[2m\u001b[36m(run_train pid=42775)\u001b[0m │ training_iteration          4 │\n",
      "\u001b[2m\u001b[36m(run_train pid=42775)\u001b[0m │ accuracy               0.8524 │\n",
      "\u001b[2m\u001b[36m(run_train pid=42775)\u001b[0m │ loss                  0.40767 │\n",
      "\u001b[2m\u001b[36m(run_train pid=42775)\u001b[0m ╰───────────────────────────────╯\n"
     ]
    },
    {
     "name": "stderr",
     "output_type": "stream",
     "text": [
      "Test Epoch 3: 100%|██████████| 313/313 [00:00<00:00, 862.35it/s]\n",
      "Train Epoch 3:  99%|█████████▊| 1851/1875 [00:09<00:00, 188.01it/s]\u001b[32m [repeated 26x across cluster]\u001b[0m\n",
      "Train Epoch 3: 100%|██████████| 1875/1875 [00:09<00:00, 188.74it/s]\u001b[32m [repeated 3x across cluster]\u001b[0m\n",
      "Test Epoch 3:   0%|          | 0/313 [00:00<?, ?it/s]\u001b[32m [repeated 3x across cluster]\u001b[0m\n",
      "Test Epoch 3:  57%|█████▋    | 178/313 [00:00<00:00, 881.49it/s]\n",
      "Test Epoch 3:  56%|█████▌    | 176/313 [00:00<00:00, 833.00it/s]\u001b[32m [repeated 5x across cluster]\u001b[0m\n",
      "Test Epoch 3: 100%|██████████| 313/313 [00:00<00:00, 880.99it/s]\n",
      "Train Epoch 4:   0%|          | 0/1875 [00:00<?, ?it/s]\u001b[32m [repeated 2x across cluster]\u001b[0m\n",
      "Train Epoch 4:  69%|██████▉   | 1291/1875 [00:06<00:03, 184.44it/s]\u001b[32m [repeated 162x across cluster]\u001b[0m\n",
      "Train Epoch 4:  43%|████▎     | 801/1875 [00:04<00:05, 200.23it/s]\u001b[32m [repeated 5x across cluster]\u001b[0m\n",
      "Test Epoch 3: 100%|██████████| 313/313 [00:00<00:00, 856.92it/s]\n",
      "Train Epoch 4:  91%|█████████▏| 1711/1875 [00:09<00:00, 183.04it/s]\n",
      "Train Epoch 4:  91%|█████████▏| 1711/1875 [00:09<00:00, 183.03it/s]\n",
      "Train Epoch 4:  96%|█████████▌| 1791/1875 [00:09<00:00, 181.35it/s]\u001b[32m [repeated 2x across cluster]\u001b[0m\n",
      "Test Epoch 4:   0%|          | 0/313 [00:00<?, ?it/s]\n",
      "Test Epoch 4:  29%|██▉       | 90/313 [00:00<00:00, 894.43it/s]\n",
      "Test Epoch 4:  27%|██▋       | 86/313 [00:00<00:00, 853.02it/s]\n",
      "Test Epoch 4: 100%|██████████| 313/313 [00:00<00:00, 879.29it/s]\n"
     ]
    },
    {
     "name": "stdout",
     "output_type": "stream",
     "text": [
      "\u001b[2m\u001b[36m(RayTrainWorker pid=84413)\u001b[0m loss 0.3948033210470344\u001b[32m [repeated 2x across cluster]\u001b[0m\n",
      "\u001b[2m\u001b[36m(RayTrainWorker pid=84413)\u001b[0m accuracy 0.8576\u001b[32m [repeated 2x across cluster]\u001b[0m\n",
      "\u001b[2m\u001b[36m(RayTrainWorker pid=84413)\u001b[0m ---NEXT STEP---\u001b[32m [repeated 2x across cluster]\u001b[0m\n",
      "\u001b[2m\u001b[36m(RayTrainWorker pid=84413)\u001b[0m Live object (psr):  Actor(DVCLiveParameterServerRemote, c0208c70fe90d21426b0a97904000000)\u001b[32m [repeated 2x across cluster]\u001b[0m\n",
      "\u001b[2m\u001b[36m(RayTrainWorker pid=84413)\u001b[0m Logged Metrics (psr):  ObjectRef(6dea81e33e957a2fc0208c70fe90d21426b0a9790400000001000000)\u001b[32m [repeated 2x across cluster]\u001b[0m\n",
      "\u001b[2m\u001b[36m(RayTrainWorker pid=84413)\u001b[0m ---METRICS LOGGED---\u001b[32m [repeated 2x across cluster]\u001b[0m\n"
     ]
    },
    {
     "name": "stderr",
     "output_type": "stream",
     "text": [
      "2023-11-01 19:21:08,618\tINFO tune.py:1143 -- Total run time: 55.12 seconds (55.08 seconds for the tuning loop).\n"
     ]
    },
    {
     "name": "stdout",
     "output_type": "stream",
     "text": [
      "Training result: Result(\n",
      "  metrics={'loss': 0.3948033210470344, 'accuracy': 0.8576},\n",
      "  path='/Users/mikhailrozhkov/dev/rnd/ray-dvc/results/experiment_name/TorchTrainer_4cb62_00000_0_2023-11-01_19-20-13',\n",
      "  filesystem='local',\n",
      "  checkpoint=None\n",
      ")\n",
      "result.filesystem: <pyarrow._fs.LocalFileSystem object at 0x359821ef0>\n",
      "result.path: /Users/mikhailrozhkov/dev/rnd/ray-dvc/results/experiment_name/TorchTrainer_4cb62_00000_0_2023-11-01_19-20-13\n",
      "result.metrics: {'loss': 0.3948033210470344, 'accuracy': 0.8576, 'timestamp': 1698862867, 'done': True, 'training_iteration': 5, 'trial_id': '4cb62_00000', 'date': '2023-11-01_19-21-07', 'time_this_iter_s': 10.34861421585083, 'time_total_s': 51.55340003967285, 'pid': 84255, 'hostname': 'mikhail.local', 'node_ip': '127.0.0.1', 'config': {'train_loop_config': {'lr': 0.001, 'epochs': 5, 'batch_size_per_worker': 16, 'dvc_parameter_server': Actor(DVCLiveParameterServerRemote, 86853ec01a94505cf6013cf404000000)}}, 'time_since_restore': 51.55340003967285, 'iterations_since_restore': 5, 'checkpoint_dir_name': None, 'experiment_tag': '0'}\n",
      "result.metrics_dataframe:        loss  accuracy   timestamp   done  training_iteration     trial_id  \\\n",
      "0  0.527138    0.8030  1698862826  False                   1  4cb62_00000   \n",
      "1  0.461244    0.8336  1698862836  False                   2  4cb62_00000   \n",
      "2  0.430540    0.8432  1698862846  False                   3  4cb62_00000   \n",
      "3  0.409486    0.8518  1698862857  False                   4  4cb62_00000   \n",
      "4  0.394803    0.8576  1698862867  False                   5  4cb62_00000   \n",
      "\n",
      "                  date  time_this_iter_s  time_total_s    pid       hostname  \\\n",
      "0  2023-11-01_19-20-26         10.692414     10.692414  84255  mikhail.local   \n",
      "1  2023-11-01_19-20-36         10.031194     20.723608  84255  mikhail.local   \n",
      "2  2023-11-01_19-20-46         10.181820     30.905428  84255  mikhail.local   \n",
      "3  2023-11-01_19-20-57         10.299358     41.204786  84255  mikhail.local   \n",
      "4  2023-11-01_19-21-07         10.348614     51.553400  84255  mikhail.local   \n",
      "\n",
      "     node_ip  time_since_restore  iterations_since_restore  \\\n",
      "0  127.0.0.1           10.692414                         1   \n",
      "1  127.0.0.1           20.723608                         2   \n",
      "2  127.0.0.1           30.905428                         3   \n",
      "3  127.0.0.1           41.204786                         4   \n",
      "4  127.0.0.1           51.553400                         5   \n",
      "\n",
      "  checkpoint_dir_name  config/train_loop_config/lr  \\\n",
      "0                None                        0.001   \n",
      "1                None                        0.001   \n",
      "2                None                        0.001   \n",
      "3                None                        0.001   \n",
      "4                None                        0.001   \n",
      "\n",
      "   config/train_loop_config/epochs  \\\n",
      "0                                5   \n",
      "1                                5   \n",
      "2                                5   \n",
      "3                                5   \n",
      "4                                5   \n",
      "\n",
      "   config/train_loop_config/batch_size_per_worker  \\\n",
      "0                                              16   \n",
      "1                                              16   \n",
      "2                                              16   \n",
      "3                                              16   \n",
      "4                                              16   \n",
      "\n",
      "       config/train_loop_config/dvc_parameter_server  \n",
      "0  Actor(DVCLiveParameterServerRemote, 86853ec01a...  \n",
      "1  Actor(DVCLiveParameterServerRemote, 86853ec01a...  \n",
      "2  Actor(DVCLiveParameterServerRemote, 86853ec01a...  \n",
      "3  Actor(DVCLiveParameterServerRemote, 86853ec01a...  \n",
      "4  Actor(DVCLiveParameterServerRemote, 86853ec01a...  \n",
      "result.config: {'train_loop_config': {'lr': 0.001, 'epochs': 5, 'batch_size_per_worker': 16, 'dvc_parameter_server': Actor(DVCLiveParameterServerRemote, 86853ec01a94505cf6013cf404000000)}}\n"
     ]
    },
    {
     "name": "stderr",
     "output_type": "stream",
     "text": [
      "Train Epoch 4:  89%|████████▉ | 1672/1875 [00:08<00:01, 202.52it/s]\n"
     ]
    }
   ],
   "source": [
    "import time\n",
    "\n",
    "\n",
    "# train_config.update({'dvc_parameter_server': psr})\n",
    "\n",
    "# Initialize a Ray TorchTrainer\n",
    "trainer = TorchTrainer(\n",
    "    train_loop_per_worker=train_func_per_worker,\n",
    "    train_loop_config=train_config,\n",
    "    scaling_config=scaling_config,\n",
    "    run_config=RunConfig(\n",
    "        name=\"experiment_name\",\n",
    "        storage_path=\"~/dev/rnd/ray-dvc/results\",\n",
    "        # sync_config=sync_config\n",
    "    )\n",
    ")\n",
    "\n",
    "# [4] Start Distributed Training\n",
    "# Run `train_func_per_worker` on all workers\n",
    "# =============================================\n",
    "\n",
    "result: train.Result  = trainer.fit()\n",
    "\n",
    "# @ray.remote \n",
    "# def run_train(trainer: TorchTrainer):\n",
    "#     result: train.Result  = trainer.fit()\n",
    "#     return result\n",
    "\n",
    "# result = run_train.remote(trainer)\n",
    "\n",
    "result: train.Result  = trainer.fit()\n",
    "print(f\"Training result: {result}\")\n",
    "print(f\"result.filesystem: {result.filesystem}\")\n",
    "print(f\"result.path: {result.path}\")\n",
    "print(f\"result.metrics: {result.metrics}\")\n",
    "print(f\"result.metrics_dataframe: {result.metrics_dataframe}\")\n",
    "print(f\"result.config: {result.config}\")\n",
    "\n",
    "if result.checkpoint:\n",
    "    print(f\"result.checkpoint.path: {result.checkpoint.path}\")"
   ]
  },
  {
   "cell_type": "code",
   "execution_count": 116,
   "metadata": {},
   "outputs": [
    {
     "name": "stderr",
     "output_type": "stream",
     "text": [
      "Train Epoch 4:  91%|█████████▏| 1712/1875 [00:09<00:01, 156.35it/s]\n",
      "Train Epoch 4: 100%|██████████| 1875/1875 [00:09<00:00, 189.64it/s]\n",
      "Test Epoch 4:   0%|          | 0/313 [00:00<?, ?it/s]\n",
      "Test Epoch 4:  35%|███▍      | 109/313 [00:00<00:00, 1085.02it/s]\n"
     ]
    },
    {
     "name": "stdout",
     "output_type": "stream",
     "text": [
      "\u001b[2m\u001b[36m(run_train pid=42775)\u001b[0m \n",
      "\u001b[2m\u001b[36m(run_train pid=42775)\u001b[0m Training finished iteration 5 at 2023-11-01 19:21:10. Total running time: 55s\n",
      "\u001b[2m\u001b[36m(run_train pid=42775)\u001b[0m ╭───────────────────────────────╮\n",
      "\u001b[2m\u001b[36m(run_train pid=42775)\u001b[0m │ Training result               │\n",
      "\u001b[2m\u001b[36m(run_train pid=42775)\u001b[0m ├───────────────────────────────┤\n",
      "\u001b[2m\u001b[36m(run_train pid=42775)\u001b[0m │ checkpoint_dir_name           │\n",
      "\u001b[2m\u001b[36m(run_train pid=42775)\u001b[0m │ time_this_iter_s      10.1747 │\n",
      "\u001b[2m\u001b[36m(run_train pid=42775)\u001b[0m │ time_total_s           52.712 │\n",
      "\u001b[2m\u001b[36m(run_train pid=42775)\u001b[0m │ training_iteration          5 │\n",
      "\u001b[2m\u001b[36m(run_train pid=42775)\u001b[0m │ accuracy               0.8578 │\n",
      "\u001b[2m\u001b[36m(run_train pid=42775)\u001b[0m │ loss                  0.39158 │\n",
      "\u001b[2m\u001b[36m(run_train pid=42775)\u001b[0m ╰───────────────────────────────╯\n",
      "\u001b[2m\u001b[36m(RayTrainWorker pid=84436)\u001b[0m loss 0.3915770130511671\n",
      "\u001b[2m\u001b[36m(RayTrainWorker pid=84436)\u001b[0m accuracy 0.8578\n",
      "\u001b[2m\u001b[36m(RayTrainWorker pid=84436)\u001b[0m ---NEXT STEP---\n",
      "\u001b[2m\u001b[36m(RayTrainWorker pid=84436)\u001b[0m Live object (psr):  Actor(DVCLiveParameterServerRemote, c0208c70fe90d21426b0a97904000000)\n",
      "\u001b[2m\u001b[36m(RayTrainWorker pid=84436)\u001b[0m Logged Metrics (psr):  ObjectRef(8d212ef32f219452c0208c70fe90d21426b0a9790400000001000000)\n",
      "\u001b[2m\u001b[36m(RayTrainWorker pid=84436)\u001b[0m ---METRICS LOGGED---\n"
     ]
    },
    {
     "name": "stderr",
     "output_type": "stream",
     "text": [
      "Test Epoch 4: 100%|██████████| 313/313 [00:00<00:00, 1065.63it/s]\n"
     ]
    },
    {
     "name": "stdout",
     "output_type": "stream",
     "text": [
      "\u001b[2m\u001b[36m(run_train pid=42775)\u001b[0m \n",
      "\u001b[2m\u001b[36m(run_train pid=42775)\u001b[0m Training completed after 5 iterations at 2023-11-01 19:21:11. Total running time: 56s\n",
      "\u001b[2m\u001b[36m(run_train pid=42775)\u001b[0m \n",
      "{'loss': {0: 0.5285213752307545, 1: 0.46816452414083026, 2: 0.43038335688912066, 3: 0.4076656031365783, 4: 0.3915770130511671}}\n"
     ]
    }
   ],
   "source": [
    "# Inspect the parameters at regular intervals until we've \n",
    "# reached the end (i.e., each parameter equals 200)\n",
    "while True:\n",
    "    time.sleep(5)\n",
    "    \n",
    "    metrics = ray.get(psr.get_metrics.remote())\n",
    "    print(metrics)\n",
    "\n",
    "    if len(metrics.keys()) == 0: \n",
    "        continue\n",
    "    \n",
    "    else: \n",
    "        metric = list(metrics.keys())[0]\n",
    "        steps = len(metrics[metric])\n",
    "        if steps >= train_config[\"epochs\"]:\n",
    "            break\n",
    "\n"
   ]
  },
  {
   "cell_type": "markdown",
   "metadata": {},
   "source": [
    "# Tune "
   ]
  },
  {
   "cell_type": "markdown",
   "metadata": {},
   "source": [
    "## Tune Example \n",
    "https://docs.ray.io/en/latest/tune/examples/tune_analyze_results.html "
   ]
  },
  {
   "cell_type": "code",
   "execution_count": 124,
   "metadata": {
    "scrolled": true
   },
   "outputs": [
    {
     "data": {
      "text/html": [
       "<div class=\"tuneStatus\">\n",
       "  <div style=\"display: flex;flex-direction: row\">\n",
       "    <div style=\"display: flex;flex-direction: column;\">\n",
       "      <h3>Tune Status</h3>\n",
       "      <table>\n",
       "<tbody>\n",
       "<tr><td>Current time:</td><td>2023-11-02 13:30:11</td></tr>\n",
       "<tr><td>Running for: </td><td>00:00:23.19        </td></tr>\n",
       "<tr><td>Memory:      </td><td>28.8/64.0 GiB      </td></tr>\n",
       "</tbody>\n",
       "</table>\n",
       "    </div>\n",
       "    <div class=\"vDivider\"></div>\n",
       "    <div class=\"systemInfo\">\n",
       "      <h3>System Info</h3>\n",
       "      Using FIFO scheduling algorithm.<br>Logical resource usage: 1.0/12 CPUs, 0/0 GPUs\n",
       "    </div>\n",
       "    \n",
       "  </div>\n",
       "  <div class=\"hDivider\"></div>\n",
       "  <div class=\"trialStatus\">\n",
       "    <h3>Trial Status</h3>\n",
       "    <table>\n",
       "<thead>\n",
       "<tr><th>Trial name             </th><th>status    </th><th>loc            </th><th style=\"text-align: right;\">        lr</th><th style=\"text-align: right;\">  momentum</th><th style=\"text-align: right;\">     acc</th><th style=\"text-align: right;\">  iter</th><th style=\"text-align: right;\">  total time (s)</th></tr>\n",
       "</thead>\n",
       "<tbody>\n",
       "<tr><td>train_mnist_83356_00000</td><td>TERMINATED</td><td>127.0.0.1:23850</td><td style=\"text-align: right;\">0.0747571 </td><td style=\"text-align: right;\">      0.8 </td><td style=\"text-align: right;\">0.9625  </td><td style=\"text-align: right;\">   100</td><td style=\"text-align: right;\">         18.4891</td></tr>\n",
       "<tr><td>train_mnist_83356_00001</td><td>TERMINATED</td><td>127.0.0.1:23851</td><td style=\"text-align: right;\">0.0173324 </td><td style=\"text-align: right;\">      0.9 </td><td style=\"text-align: right;\">0.953125</td><td style=\"text-align: right;\">   100</td><td style=\"text-align: right;\">         19.0469</td></tr>\n",
       "<tr><td>train_mnist_83356_00002</td><td>TERMINATED</td><td>127.0.0.1:23852</td><td style=\"text-align: right;\">0.00349977</td><td style=\"text-align: right;\">      0.99</td><td style=\"text-align: right;\">0.915625</td><td style=\"text-align: right;\">   100</td><td style=\"text-align: right;\">         19.2012</td></tr>\n",
       "<tr><td>train_mnist_83356_00003</td><td>TERMINATED</td><td>127.0.0.1:23853</td><td style=\"text-align: right;\">0.00611844</td><td style=\"text-align: right;\">      0.8 </td><td style=\"text-align: right;\">0.921875</td><td style=\"text-align: right;\">   100</td><td style=\"text-align: right;\">         18.5784</td></tr>\n",
       "<tr><td>train_mnist_83356_00004</td><td>TERMINATED</td><td>127.0.0.1:23854</td><td style=\"text-align: right;\">0.089721  </td><td style=\"text-align: right;\">      0.9 </td><td style=\"text-align: right;\">0.94375 </td><td style=\"text-align: right;\">   100</td><td style=\"text-align: right;\">         18.5286</td></tr>\n",
       "<tr><td>train_mnist_83356_00005</td><td>TERMINATED</td><td>127.0.0.1:23855</td><td style=\"text-align: right;\">0.0323723 </td><td style=\"text-align: right;\">      0.99</td><td style=\"text-align: right;\">0.86875 </td><td style=\"text-align: right;\">   100</td><td style=\"text-align: right;\">         18.5043</td></tr>\n",
       "<tr><td>train_mnist_83356_00006</td><td>TERMINATED</td><td>127.0.0.1:23856</td><td style=\"text-align: right;\">0.00223073</td><td style=\"text-align: right;\">      0.8 </td><td style=\"text-align: right;\">0.9125  </td><td style=\"text-align: right;\">   100</td><td style=\"text-align: right;\">         18.9777</td></tr>\n",
       "<tr><td>train_mnist_83356_00007</td><td>TERMINATED</td><td>127.0.0.1:23857</td><td style=\"text-align: right;\">0.02889   </td><td style=\"text-align: right;\">      0.9 </td><td style=\"text-align: right;\">0.96875 </td><td style=\"text-align: right;\">   100</td><td style=\"text-align: right;\">         18.5552</td></tr>\n",
       "<tr><td>train_mnist_83356_00008</td><td>TERMINATED</td><td>127.0.0.1:23858</td><td style=\"text-align: right;\">0.0819986 </td><td style=\"text-align: right;\">      0.99</td><td style=\"text-align: right;\">0.075   </td><td style=\"text-align: right;\">   100</td><td style=\"text-align: right;\">         19.1778</td></tr>\n",
       "</tbody>\n",
       "</table>\n",
       "  </div>\n",
       "</div>\n",
       "<style>\n",
       ".tuneStatus {\n",
       "  color: var(--jp-ui-font-color1);\n",
       "}\n",
       ".tuneStatus .systemInfo {\n",
       "  display: flex;\n",
       "  flex-direction: column;\n",
       "}\n",
       ".tuneStatus td {\n",
       "  white-space: nowrap;\n",
       "}\n",
       ".tuneStatus .trialStatus {\n",
       "  display: flex;\n",
       "  flex-direction: column;\n",
       "}\n",
       ".tuneStatus h3 {\n",
       "  font-weight: bold;\n",
       "}\n",
       ".tuneStatus .hDivider {\n",
       "  border-bottom-width: var(--jp-border-width);\n",
       "  border-bottom-color: var(--jp-border-color0);\n",
       "  border-bottom-style: solid;\n",
       "}\n",
       ".tuneStatus .vDivider {\n",
       "  border-left-width: var(--jp-border-width);\n",
       "  border-left-color: var(--jp-border-color0);\n",
       "  border-left-style: solid;\n",
       "  margin: 0.5em 1em 0.5em 1em;\n",
       "}\n",
       "</style>\n"
      ],
      "text/plain": [
       "<IPython.core.display.HTML object>"
      ]
     },
     "metadata": {},
     "output_type": "display_data"
    },
    {
     "name": "stdout",
     "output_type": "stream",
     "text": [
      "\u001b[2m\u001b[36m(train_mnist pid=23850)\u001b[0m Downloading http://yann.lecun.com/exdb/mnist/train-images-idx3-ubyte.gz\n",
      "\u001b[2m\u001b[36m(train_mnist pid=23850)\u001b[0m Downloading http://yann.lecun.com/exdb/mnist/train-images-idx3-ubyte.gz to /Users/mikhailrozhkov/data/MNIST/raw/train-images-idx3-ubyte.gz\n"
     ]
    },
    {
     "name": "stderr",
     "output_type": "stream",
     "text": [
      "  0%|          | 0/9912422 [00:00<?, ?it/s]\n",
      "  2%|▏         | 163840/9912422 [00:00<00:07, 1389262.98it/s]\n",
      "  3%|▎         | 327680/9912422 [00:00<00:08, 1166570.03it/s]\n",
      "  5%|▍         | 458752/9912422 [00:00<00:08, 1108243.27it/s]\n",
      "  6%|▌         | 589824/9912422 [00:00<00:08, 1149426.39it/s]\n",
      "  7%|▋         | 720896/9912422 [00:00<00:08, 1043355.56it/s]\n",
      "  9%|▊         | 851968/9912422 [00:00<00:08, 1089382.15it/s]\n",
      " 10%|▉         | 983040/9912422 [00:00<00:08, 1092817.05it/s]\n",
      " 11%|█         | 1114112/9912422 [00:00<00:07, 1110691.34it/s]\n",
      " 13%|█▎        | 1245184/9912422 [00:01<00:07, 1162598.33it/s]\n",
      " 14%|█▍        | 1376256/9912422 [00:01<00:07, 1171897.52it/s]\n",
      " 15%|█▌        | 1507328/9912422 [00:01<00:07, 1083820.66it/s]\n",
      " 17%|█▋        | 1638400/9912422 [00:01<00:07, 1121433.63it/s]\n",
      " 18%|█▊        | 1769472/9912422 [00:01<00:07, 1145765.22it/s]\n",
      " 19%|█▉        | 1900544/9912422 [00:01<00:06, 1151239.00it/s]\n",
      " 20%|██        | 2031616/9912422 [00:01<00:06, 1128749.29it/s]\n",
      " 22%|██▏       | 2162688/9912422 [00:01<00:06, 1115901.23it/s]\n",
      " 23%|██▎       | 2293760/9912422 [00:02<00:06, 1096072.86it/s]\n",
      " 24%|██▍       | 2424832/9912422 [00:02<00:06, 1107660.80it/s]\n",
      " 26%|██▌       | 2555904/9912422 [00:02<00:06, 1159666.92it/s]\n",
      " 27%|██▋       | 2686976/9912422 [00:02<00:06, 1129578.90it/s]\n",
      " 28%|██▊       | 2818048/9912422 [00:02<00:06, 1144193.56it/s]\n",
      " 30%|██▉       | 2949120/9912422 [00:02<00:06, 1098349.92it/s]\n",
      " 31%|███       | 3080192/9912422 [00:02<00:05, 1139782.88it/s]\n",
      " 32%|███▏      | 3211264/9912422 [00:02<00:05, 1185628.78it/s]\n",
      " 34%|███▎      | 3342336/9912422 [00:02<00:05, 1199867.60it/s]\n",
      " 35%|███▌      | 3473408/9912422 [00:03<00:05, 1189448.29it/s]\n",
      " 36%|███▋      | 3604480/9912422 [00:03<00:05, 1191055.59it/s]\n",
      " 38%|███▊      | 3735552/9912422 [00:03<00:05, 1124671.21it/s]\n",
      " 39%|███▉      | 3866624/9912422 [00:03<00:05, 1143293.84it/s]\n",
      " 40%|████      | 3997696/9912422 [00:03<00:05, 1136906.85it/s]\n",
      " 42%|████▏     | 4128768/9912422 [00:03<00:05, 1107994.16it/s]\n",
      " 43%|████▎     | 4259840/9912422 [00:03<00:05, 1101806.67it/s]\n",
      " 44%|████▍     | 4390912/9912422 [00:03<00:04, 1143275.88it/s]\n",
      " 46%|████▌     | 4521984/9912422 [00:03<00:04, 1126677.32it/s]\n",
      " 47%|████▋     | 4653056/9912422 [00:04<00:04, 1079940.95it/s]\n",
      " 48%|████▊     | 4784128/9912422 [00:04<00:04, 1103378.36it/s]\n",
      " 50%|████▉     | 4915200/9912422 [00:04<00:04, 1105739.73it/s]\n",
      " 51%|█████     | 5046272/9912422 [00:04<00:04, 1090134.24it/s]\n",
      " 52%|█████▏    | 5177344/9912422 [00:04<00:04, 1114812.63it/s]\n",
      " 54%|█████▎    | 5308416/9912422 [00:04<00:04, 1075109.87it/s]\n",
      " 55%|█████▍    | 5439488/9912422 [00:04<00:03, 1127529.06it/s]\n",
      " 56%|█████▌    | 5570560/9912422 [00:04<00:03, 1127098.91it/s]\n",
      " 58%|█████▊    | 5701632/9912422 [00:05<00:03, 1115613.79it/s]\n",
      " 59%|█████▉    | 5832704/9912422 [00:05<00:03, 1101751.95it/s]\n",
      " 60%|██████    | 5963776/9912422 [00:05<00:03, 1070935.21it/s]\n",
      " 61%|██████▏   | 6094848/9912422 [00:05<00:03, 1029558.16it/s]\n",
      " 63%|██████▎   | 6225920/9912422 [00:05<00:03, 1060695.08it/s]\n",
      " 64%|██████▍   | 6356992/9912422 [00:05<00:03, 1092149.04it/s]\n",
      " 65%|██████▌   | 6488064/9912422 [00:05<00:03, 1024997.81it/s]\n",
      " 67%|██████▋   | 6619136/9912422 [00:05<00:03, 1026631.09it/s]\n",
      " 68%|██████▊   | 6750208/9912422 [00:06<00:03, 1006045.57it/s]\n",
      " 69%|██████▉   | 6881280/9912422 [00:06<00:02, 1034814.72it/s]\n",
      " 71%|███████   | 7012352/9912422 [00:06<00:02, 1062347.33it/s]\n",
      " 72%|███████▏  | 7143424/9912422 [00:06<00:02, 1123261.38it/s]\n",
      " 73%|███████▎  | 7274496/9912422 [00:06<00:02, 1114336.87it/s]\n",
      " 75%|███████▍  | 7405568/9912422 [00:06<00:02, 1125402.72it/s]\n",
      " 76%|███████▌  | 7536640/9912422 [00:06<00:02, 1061896.54it/s]\n",
      " 77%|███████▋  | 7667712/9912422 [00:06<00:02, 1083115.23it/s]\n",
      " 79%|███████▊  | 7798784/9912422 [00:07<00:01, 1098542.57it/s]\n",
      " 80%|███████▉  | 7929856/9912422 [00:07<00:01, 1062934.06it/s]\n",
      " 81%|████████▏ | 8060928/9912422 [00:07<00:01, 1118464.77it/s]\n",
      " 83%|████████▎ | 8192000/9912422 [00:07<00:01, 1088981.58it/s]\n",
      " 84%|████████▍ | 8323072/9912422 [00:07<00:01, 1065520.52it/s]\n",
      " 85%|████████▌ | 8454144/9912422 [00:07<00:01, 1076030.64it/s]\n",
      " 87%|████████▋ | 8585216/9912422 [00:07<00:01, 1095018.44it/s]\n",
      " 88%|████████▊ | 8716288/9912422 [00:07<00:01, 1100755.14it/s]\n",
      " 89%|████████▉ | 8847360/9912422 [00:07<00:00, 1113235.13it/s]\n",
      " 91%|█████████ | 8978432/9912422 [00:08<00:00, 1078102.57it/s]\n",
      " 92%|█████████▏| 9109504/9912422 [00:08<00:00, 1034620.57it/s]\n",
      " 93%|█████████▎| 9240576/9912422 [00:08<00:00, 1036609.18it/s]\n",
      " 95%|█████████▍| 9371648/9912422 [00:08<00:00, 1061796.94it/s]\n",
      " 96%|█████████▌| 9502720/9912422 [00:08<00:00, 1083353.23it/s]\n",
      " 97%|█████████▋| 9633792/9912422 [00:08<00:00, 1035675.27it/s]\n",
      " 99%|█████████▊| 9764864/9912422 [00:08<00:00, 1029869.20it/s]\n",
      "100%|██████████| 9912422/9912422 [00:09<00:00, 1097363.50it/s]\n"
     ]
    },
    {
     "name": "stdout",
     "output_type": "stream",
     "text": [
      "\u001b[2m\u001b[36m(train_mnist pid=23850)\u001b[0m Extracting /Users/mikhailrozhkov/data/MNIST/raw/train-images-idx3-ubyte.gz to /Users/mikhailrozhkov/data/MNIST/raw\n",
      "\u001b[2m\u001b[36m(train_mnist pid=23850)\u001b[0m \n",
      "\u001b[2m\u001b[36m(train_mnist pid=23850)\u001b[0m Downloading http://yann.lecun.com/exdb/mnist/train-labels-idx1-ubyte.gz\n",
      "\u001b[2m\u001b[36m(train_mnist pid=23850)\u001b[0m Downloading http://yann.lecun.com/exdb/mnist/train-labels-idx1-ubyte.gz to /Users/mikhailrozhkov/data/MNIST/raw/train-labels-idx1-ubyte.gz\n",
      "\u001b[2m\u001b[36m(train_mnist pid=23850)\u001b[0m Extracting /Users/mikhailrozhkov/data/MNIST/raw/train-labels-idx1-ubyte.gz to /Users/mikhailrozhkov/data/MNIST/raw\n",
      "\u001b[2m\u001b[36m(train_mnist pid=23850)\u001b[0m \n",
      "\u001b[2m\u001b[36m(train_mnist pid=23850)\u001b[0m Downloading http://yann.lecun.com/exdb/mnist/t10k-images-idx3-ubyte.gz\n",
      "\u001b[2m\u001b[36m(train_mnist pid=23850)\u001b[0m Downloading http://yann.lecun.com/exdb/mnist/t10k-images-idx3-ubyte.gz to /Users/mikhailrozhkov/data/MNIST/raw/t10k-images-idx3-ubyte.gz\n"
     ]
    },
    {
     "name": "stderr",
     "output_type": "stream",
     "text": [
      "100%|██████████| 28881/28881 [00:00<00:00, 1399619.80it/s]\n",
      "  0%|          | 0/1648877 [00:00<?, ?it/s]\n",
      "  8%|▊         | 131072/1648877 [00:00<00:01, 1088476.65it/s]\n",
      " 16%|█▌        | 262144/1648877 [00:00<00:01, 1100506.87it/s]\n",
      " 24%|██▍       | 393216/1648877 [00:00<00:01, 1123356.63it/s]\n",
      " 32%|███▏      | 524288/1648877 [00:00<00:01, 1108059.53it/s]\n",
      " 48%|████▊     | 786432/1648877 [00:00<00:00, 1170042.18it/s]\n",
      " 56%|█████▌    | 917504/1648877 [00:00<00:00, 1118505.90it/s]\n",
      " 64%|██████▎   | 1048576/1648877 [00:00<00:00, 1119582.10it/s]\n",
      " 79%|███████▉  | 1310720/1648877 [00:01<00:00, 1136238.46it/s]\n",
      " 87%|████████▋ | 1441792/1648877 [00:01<00:00, 1153863.06it/s]\n",
      " 95%|█████████▌| 1572864/1648877 [00:01<00:00, 1119167.15it/s]\n",
      "100%|██████████| 1648877/1648877 [00:01<00:00, 1121396.73it/s]\n"
     ]
    },
    {
     "name": "stdout",
     "output_type": "stream",
     "text": [
      "\u001b[2m\u001b[36m(train_mnist pid=23850)\u001b[0m Extracting /Users/mikhailrozhkov/data/MNIST/raw/t10k-images-idx3-ubyte.gz to /Users/mikhailrozhkov/data/MNIST/raw\n",
      "\u001b[2m\u001b[36m(train_mnist pid=23850)\u001b[0m \n",
      "\u001b[2m\u001b[36m(train_mnist pid=23850)\u001b[0m Downloading http://yann.lecun.com/exdb/mnist/t10k-labels-idx1-ubyte.gz\n",
      "\u001b[2m\u001b[36m(train_mnist pid=23850)\u001b[0m Downloading http://yann.lecun.com/exdb/mnist/t10k-labels-idx1-ubyte.gz to /Users/mikhailrozhkov/data/MNIST/raw/t10k-labels-idx1-ubyte.gz\n",
      "\u001b[2m\u001b[36m(train_mnist pid=23850)\u001b[0m Extracting /Users/mikhailrozhkov/data/MNIST/raw/t10k-labels-idx1-ubyte.gz to /Users/mikhailrozhkov/data/MNIST/raw\n",
      "\u001b[2m\u001b[36m(train_mnist pid=23850)\u001b[0m \n"
     ]
    },
    {
     "name": "stderr",
     "output_type": "stream",
     "text": [
      "100%|██████████| 4542/4542 [00:00<00:00, 2953112.50it/s]\n",
      "\u001b[2m\u001b[36m(train_mnist pid=23855)\u001b[0m Checkpoint successfully created at: Checkpoint(filesystem=local, path=/tmp/ray_results/tune_analyzing_results/train_mnist_83356_00005_5_lr=0.0324,momentum=0.9900_2023-11-02_13-29-48/checkpoint_000000)\n",
      "2023-11-02 13:30:03,997\tWARNING experiment_state.py:371 -- Experiment checkpoint syncing has been triggered multiple times in the last 30.0 seconds. A sync will be triggered whenever a trial has checkpointed more than `num_to_keep` times since last sync or if 300 seconds have passed since last sync. If you have set `num_to_keep` in your `CheckpointConfig`, consider increasing the checkpoint frequency or keeping more checkpoints. You can supress this warning by changing the `TUNE_WARN_EXCESSIVE_EXPERIMENT_CHECKPOINT_SYNC_THRESHOLD_S` environment variable.\n",
      "2023-11-02 13:30:04,317\tWARNING experiment_state.py:371 -- Experiment checkpoint syncing has been triggered multiple times in the last 30.0 seconds. A sync will be triggered whenever a trial has checkpointed more than `num_to_keep` times since last sync or if 300 seconds have passed since last sync. If you have set `num_to_keep` in your `CheckpointConfig`, consider increasing the checkpoint frequency or keeping more checkpoints. You can supress this warning by changing the `TUNE_WARN_EXCESSIVE_EXPERIMENT_CHECKPOINT_SYNC_THRESHOLD_S` environment variable.\n",
      "2023-11-02 13:30:04,611\tWARNING experiment_state.py:371 -- Experiment checkpoint syncing has been triggered multiple times in the last 30.0 seconds. A sync will be triggered whenever a trial has checkpointed more than `num_to_keep` times since last sync or if 300 seconds have passed since last sync. If you have set `num_to_keep` in your `CheckpointConfig`, consider increasing the checkpoint frequency or keeping more checkpoints. You can supress this warning by changing the `TUNE_WARN_EXCESSIVE_EXPERIMENT_CHECKPOINT_SYNC_THRESHOLD_S` environment variable.\n",
      "2023-11-02 13:30:04,897\tWARNING experiment_state.py:371 -- Experiment checkpoint syncing has been triggered multiple times in the last 30.0 seconds. A sync will be triggered whenever a trial has checkpointed more than `num_to_keep` times since last sync or if 300 seconds have passed since last sync. If you have set `num_to_keep` in your `CheckpointConfig`, consider increasing the checkpoint frequency or keeping more checkpoints. You can supress this warning by changing the `TUNE_WARN_EXCESSIVE_EXPERIMENT_CHECKPOINT_SYNC_THRESHOLD_S` environment variable.\n",
      "2023-11-02 13:30:05,202\tWARNING experiment_state.py:371 -- Experiment checkpoint syncing has been triggered multiple times in the last 30.0 seconds. A sync will be triggered whenever a trial has checkpointed more than `num_to_keep` times since last sync or if 300 seconds have passed since last sync. If you have set `num_to_keep` in your `CheckpointConfig`, consider increasing the checkpoint frequency or keeping more checkpoints. You can supress this warning by changing the `TUNE_WARN_EXCESSIVE_EXPERIMENT_CHECKPOINT_SYNC_THRESHOLD_S` environment variable.\n",
      "2023-11-02 13:30:05,531\tWARNING experiment_state.py:371 -- Experiment checkpoint syncing has been triggered multiple times in the last 30.0 seconds. A sync will be triggered whenever a trial has checkpointed more than `num_to_keep` times since last sync or if 300 seconds have passed since last sync. If you have set `num_to_keep` in your `CheckpointConfig`, consider increasing the checkpoint frequency or keeping more checkpoints. You can supress this warning by changing the `TUNE_WARN_EXCESSIVE_EXPERIMENT_CHECKPOINT_SYNC_THRESHOLD_S` environment variable.\n",
      "2023-11-02 13:30:05,847\tWARNING experiment_state.py:371 -- Experiment checkpoint syncing has been triggered multiple times in the last 30.0 seconds. A sync will be triggered whenever a trial has checkpointed more than `num_to_keep` times since last sync or if 300 seconds have passed since last sync. If you have set `num_to_keep` in your `CheckpointConfig`, consider increasing the checkpoint frequency or keeping more checkpoints. You can supress this warning by changing the `TUNE_WARN_EXCESSIVE_EXPERIMENT_CHECKPOINT_SYNC_THRESHOLD_S` environment variable.\n",
      "2023-11-02 13:30:06,150\tWARNING experiment_state.py:371 -- Experiment checkpoint syncing has been triggered multiple times in the last 30.0 seconds. A sync will be triggered whenever a trial has checkpointed more than `num_to_keep` times since last sync or if 300 seconds have passed since last sync. If you have set `num_to_keep` in your `CheckpointConfig`, consider increasing the checkpoint frequency or keeping more checkpoints. You can supress this warning by changing the `TUNE_WARN_EXCESSIVE_EXPERIMENT_CHECKPOINT_SYNC_THRESHOLD_S` environment variable.\n",
      "2023-11-02 13:30:06,435\tWARNING experiment_state.py:371 -- Experiment checkpoint syncing has been triggered multiple times in the last 30.0 seconds. A sync will be triggered whenever a trial has checkpointed more than `num_to_keep` times since last sync or if 300 seconds have passed since last sync. If you have set `num_to_keep` in your `CheckpointConfig`, consider increasing the checkpoint frequency or keeping more checkpoints. You can supress this warning by changing the `TUNE_WARN_EXCESSIVE_EXPERIMENT_CHECKPOINT_SYNC_THRESHOLD_S` environment variable.\n",
      "2023-11-02 13:30:06,721\tWARNING experiment_state.py:371 -- Experiment checkpoint syncing has been triggered multiple times in the last 30.0 seconds. A sync will be triggered whenever a trial has checkpointed more than `num_to_keep` times since last sync or if 300 seconds have passed since last sync. If you have set `num_to_keep` in your `CheckpointConfig`, consider increasing the checkpoint frequency or keeping more checkpoints. You can supress this warning by changing the `TUNE_WARN_EXCESSIVE_EXPERIMENT_CHECKPOINT_SYNC_THRESHOLD_S` environment variable.\n",
      "2023-11-02 13:30:07,043\tWARNING experiment_state.py:371 -- Experiment checkpoint syncing has been triggered multiple times in the last 30.0 seconds. A sync will be triggered whenever a trial has checkpointed more than `num_to_keep` times since last sync or if 300 seconds have passed since last sync. If you have set `num_to_keep` in your `CheckpointConfig`, consider increasing the checkpoint frequency or keeping more checkpoints. You can supress this warning by changing the `TUNE_WARN_EXCESSIVE_EXPERIMENT_CHECKPOINT_SYNC_THRESHOLD_S` environment variable.\n",
      "2023-11-02 13:30:07,332\tWARNING experiment_state.py:371 -- Experiment checkpoint syncing has been triggered multiple times in the last 30.0 seconds. A sync will be triggered whenever a trial has checkpointed more than `num_to_keep` times since last sync or if 300 seconds have passed since last sync. If you have set `num_to_keep` in your `CheckpointConfig`, consider increasing the checkpoint frequency or keeping more checkpoints. You can supress this warning by changing the `TUNE_WARN_EXCESSIVE_EXPERIMENT_CHECKPOINT_SYNC_THRESHOLD_S` environment variable.\n",
      "2023-11-02 13:30:07,640\tWARNING experiment_state.py:371 -- Experiment checkpoint syncing has been triggered multiple times in the last 30.0 seconds. A sync will be triggered whenever a trial has checkpointed more than `num_to_keep` times since last sync or if 300 seconds have passed since last sync. If you have set `num_to_keep` in your `CheckpointConfig`, consider increasing the checkpoint frequency or keeping more checkpoints. You can supress this warning by changing the `TUNE_WARN_EXCESSIVE_EXPERIMENT_CHECKPOINT_SYNC_THRESHOLD_S` environment variable.\n",
      "2023-11-02 13:30:07,945\tWARNING experiment_state.py:371 -- Experiment checkpoint syncing has been triggered multiple times in the last 30.0 seconds. A sync will be triggered whenever a trial has checkpointed more than `num_to_keep` times since last sync or if 300 seconds have passed since last sync. If you have set `num_to_keep` in your `CheckpointConfig`, consider increasing the checkpoint frequency or keeping more checkpoints. You can supress this warning by changing the `TUNE_WARN_EXCESSIVE_EXPERIMENT_CHECKPOINT_SYNC_THRESHOLD_S` environment variable.\n",
      "2023-11-02 13:30:08,265\tWARNING experiment_state.py:371 -- Experiment checkpoint syncing has been triggered multiple times in the last 30.0 seconds. A sync will be triggered whenever a trial has checkpointed more than `num_to_keep` times since last sync or if 300 seconds have passed since last sync. If you have set `num_to_keep` in your `CheckpointConfig`, consider increasing the checkpoint frequency or keeping more checkpoints. You can supress this warning by changing the `TUNE_WARN_EXCESSIVE_EXPERIMENT_CHECKPOINT_SYNC_THRESHOLD_S` environment variable.\n",
      "2023-11-02 13:30:08,586\tWARNING experiment_state.py:371 -- Experiment checkpoint syncing has been triggered multiple times in the last 30.0 seconds. A sync will be triggered whenever a trial has checkpointed more than `num_to_keep` times since last sync or if 300 seconds have passed since last sync. If you have set `num_to_keep` in your `CheckpointConfig`, consider increasing the checkpoint frequency or keeping more checkpoints. You can supress this warning by changing the `TUNE_WARN_EXCESSIVE_EXPERIMENT_CHECKPOINT_SYNC_THRESHOLD_S` environment variable.\n",
      "\u001b[2m\u001b[36m(train_mnist pid=23855)\u001b[0m Checkpoint successfully created at: Checkpoint(filesystem=local, path=/tmp/ray_results/tune_analyzing_results/train_mnist_83356_00005_5_lr=0.0324,momentum=0.9900_2023-11-02_13-29-48/checkpoint_000070)\u001b[32m [repeated 592x across cluster]\u001b[0m\n",
      "2023-11-02 13:30:08,896\tWARNING experiment_state.py:371 -- Experiment checkpoint syncing has been triggered multiple times in the last 30.0 seconds. A sync will be triggered whenever a trial has checkpointed more than `num_to_keep` times since last sync or if 300 seconds have passed since last sync. If you have set `num_to_keep` in your `CheckpointConfig`, consider increasing the checkpoint frequency or keeping more checkpoints. You can supress this warning by changing the `TUNE_WARN_EXCESSIVE_EXPERIMENT_CHECKPOINT_SYNC_THRESHOLD_S` environment variable.\n",
      "2023-11-02 13:30:09,194\tWARNING experiment_state.py:371 -- Experiment checkpoint syncing has been triggered multiple times in the last 30.0 seconds. A sync will be triggered whenever a trial has checkpointed more than `num_to_keep` times since last sync or if 300 seconds have passed since last sync. If you have set `num_to_keep` in your `CheckpointConfig`, consider increasing the checkpoint frequency or keeping more checkpoints. You can supress this warning by changing the `TUNE_WARN_EXCESSIVE_EXPERIMENT_CHECKPOINT_SYNC_THRESHOLD_S` environment variable.\n",
      "2023-11-02 13:30:09,519\tWARNING experiment_state.py:371 -- Experiment checkpoint syncing has been triggered multiple times in the last 30.0 seconds. A sync will be triggered whenever a trial has checkpointed more than `num_to_keep` times since last sync or if 300 seconds have passed since last sync. If you have set `num_to_keep` in your `CheckpointConfig`, consider increasing the checkpoint frequency or keeping more checkpoints. You can supress this warning by changing the `TUNE_WARN_EXCESSIVE_EXPERIMENT_CHECKPOINT_SYNC_THRESHOLD_S` environment variable.\n",
      "2023-11-02 13:30:09,849\tWARNING experiment_state.py:371 -- Experiment checkpoint syncing has been triggered multiple times in the last 30.0 seconds. A sync will be triggered whenever a trial has checkpointed more than `num_to_keep` times since last sync or if 300 seconds have passed since last sync. If you have set `num_to_keep` in your `CheckpointConfig`, consider increasing the checkpoint frequency or keeping more checkpoints. You can supress this warning by changing the `TUNE_WARN_EXCESSIVE_EXPERIMENT_CHECKPOINT_SYNC_THRESHOLD_S` environment variable.\n",
      "2023-11-02 13:30:10,160\tWARNING experiment_state.py:371 -- Experiment checkpoint syncing has been triggered multiple times in the last 30.0 seconds. A sync will be triggered whenever a trial has checkpointed more than `num_to_keep` times since last sync or if 300 seconds have passed since last sync. If you have set `num_to_keep` in your `CheckpointConfig`, consider increasing the checkpoint frequency or keeping more checkpoints. You can supress this warning by changing the `TUNE_WARN_EXCESSIVE_EXPERIMENT_CHECKPOINT_SYNC_THRESHOLD_S` environment variable.\n",
      "2023-11-02 13:30:10,451\tWARNING experiment_state.py:371 -- Experiment checkpoint syncing has been triggered multiple times in the last 30.0 seconds. A sync will be triggered whenever a trial has checkpointed more than `num_to_keep` times since last sync or if 300 seconds have passed since last sync. If you have set `num_to_keep` in your `CheckpointConfig`, consider increasing the checkpoint frequency or keeping more checkpoints. You can supress this warning by changing the `TUNE_WARN_EXCESSIVE_EXPERIMENT_CHECKPOINT_SYNC_THRESHOLD_S` environment variable.\n",
      "2023-11-02 13:30:10,753\tWARNING experiment_state.py:371 -- Experiment checkpoint syncing has been triggered multiple times in the last 30.0 seconds. A sync will be triggered whenever a trial has checkpointed more than `num_to_keep` times since last sync or if 300 seconds have passed since last sync. If you have set `num_to_keep` in your `CheckpointConfig`, consider increasing the checkpoint frequency or keeping more checkpoints. You can supress this warning by changing the `TUNE_WARN_EXCESSIVE_EXPERIMENT_CHECKPOINT_SYNC_THRESHOLD_S` environment variable.\n",
      "\u001b[2m\u001b[36m(train_mnist pid=23850)\u001b[0m /Library/Developer/CommandLineTools/Library/Frameworks/Python3.framework/Versions/3.9/lib/python3.9/multiprocessing/resource_tracker.py:216: UserWarning: resource_tracker: There appear to be 1 leaked semaphore objects to clean up at shutdown\n",
      "\u001b[2m\u001b[36m(train_mnist pid=23850)\u001b[0m   warnings.warn('resource_tracker: There appear to be %d '\n",
      "2023-11-02 13:30:11,060\tWARNING experiment_state.py:371 -- Experiment checkpoint syncing has been triggered multiple times in the last 30.0 seconds. A sync will be triggered whenever a trial has checkpointed more than `num_to_keep` times since last sync or if 300 seconds have passed since last sync. If you have set `num_to_keep` in your `CheckpointConfig`, consider increasing the checkpoint frequency or keeping more checkpoints. You can supress this warning by changing the `TUNE_WARN_EXCESSIVE_EXPERIMENT_CHECKPOINT_SYNC_THRESHOLD_S` environment variable.\n",
      "2023-11-02 13:30:11,319\tWARNING experiment_state.py:371 -- Experiment checkpoint syncing has been triggered multiple times in the last 30.0 seconds. A sync will be triggered whenever a trial has checkpointed more than `num_to_keep` times since last sync or if 300 seconds have passed since last sync. If you have set `num_to_keep` in your `CheckpointConfig`, consider increasing the checkpoint frequency or keeping more checkpoints. You can supress this warning by changing the `TUNE_WARN_EXCESSIVE_EXPERIMENT_CHECKPOINT_SYNC_THRESHOLD_S` environment variable.\n",
      "2023-11-02 13:30:11,591\tWARNING experiment_state.py:371 -- Experiment checkpoint syncing has been triggered multiple times in the last 30.0 seconds. A sync will be triggered whenever a trial has checkpointed more than `num_to_keep` times since last sync or if 300 seconds have passed since last sync. If you have set `num_to_keep` in your `CheckpointConfig`, consider increasing the checkpoint frequency or keeping more checkpoints. You can supress this warning by changing the `TUNE_WARN_EXCESSIVE_EXPERIMENT_CHECKPOINT_SYNC_THRESHOLD_S` environment variable.\n",
      "2023-11-02 13:30:11,626\tWARNING experiment_state.py:371 -- Experiment checkpoint syncing has been triggered multiple times in the last 30.0 seconds. A sync will be triggered whenever a trial has checkpointed more than `num_to_keep` times since last sync or if 300 seconds have passed since last sync. If you have set `num_to_keep` in your `CheckpointConfig`, consider increasing the checkpoint frequency or keeping more checkpoints. You can supress this warning by changing the `TUNE_WARN_EXCESSIVE_EXPERIMENT_CHECKPOINT_SYNC_THRESHOLD_S` environment variable.\n",
      "2023-11-02 13:30:11,628\tINFO tune.py:1143 -- Total run time: 23.20 seconds (23.18 seconds for the tuning loop).\n"
     ]
    }
   ],
   "source": [
    "\n",
    "import os\n",
    "\n",
    "from ray import train, tune\n",
    "from ray.tune.examples.mnist_pytorch import train_mnist\n",
    "from ray.tune import ResultGrid\n",
    "\n",
    "storage_path = \"/tmp/ray_results\"\n",
    "exp_name = \"tune_analyzing_results\"\n",
    "\n",
    "tuner = tune.Tuner(\n",
    "    train_mnist,\n",
    "    param_space={\n",
    "        \"lr\": tune.loguniform(0.001, 0.1),\n",
    "        \"momentum\": tune.grid_search([0.8, 0.9, 0.99]),\n",
    "        \"should_checkpoint\": True,\n",
    "    },\n",
    "    run_config=train.RunConfig(\n",
    "        name=exp_name,\n",
    "        stop={\"training_iteration\": 100},\n",
    "        checkpoint_config=train.CheckpointConfig(\n",
    "            checkpoint_score_attribute=\"mean_accuracy\",\n",
    "            num_to_keep=5,\n",
    "        ),\n",
    "        storage_path=storage_path,\n",
    "    ),\n",
    "    tune_config=tune.TuneConfig(mode=\"max\", metric=\"mean_accuracy\", num_samples=3),\n",
    ")\n",
    "result_grid: ResultGrid = tuner.fit()"
   ]
  },
  {
   "cell_type": "code",
   "execution_count": 190,
   "metadata": {
    "scrolled": true
   },
   "outputs": [
    {
     "data": {
      "text/html": [
       "<div>\n",
       "<style scoped>\n",
       "    .dataframe tbody tr th:only-of-type {\n",
       "        vertical-align: middle;\n",
       "    }\n",
       "\n",
       "    .dataframe tbody tr th {\n",
       "        vertical-align: top;\n",
       "    }\n",
       "\n",
       "    .dataframe thead th {\n",
       "        text-align: right;\n",
       "    }\n",
       "</style>\n",
       "<table border=\"1\" class=\"dataframe\">\n",
       "  <thead>\n",
       "    <tr style=\"text-align: right;\">\n",
       "      <th></th>\n",
       "      <th>mean_accuracy</th>\n",
       "      <th>timestamp</th>\n",
       "      <th>should_checkpoint</th>\n",
       "      <th>done</th>\n",
       "      <th>training_iteration</th>\n",
       "      <th>trial_id</th>\n",
       "      <th>date</th>\n",
       "      <th>time_this_iter_s</th>\n",
       "      <th>time_total_s</th>\n",
       "      <th>pid</th>\n",
       "      <th>hostname</th>\n",
       "      <th>node_ip</th>\n",
       "      <th>time_since_restore</th>\n",
       "      <th>iterations_since_restore</th>\n",
       "      <th>checkpoint_dir_name</th>\n",
       "      <th>config/lr</th>\n",
       "      <th>config/momentum</th>\n",
       "      <th>config/should_checkpoint</th>\n",
       "      <th>logdir</th>\n",
       "    </tr>\n",
       "  </thead>\n",
       "  <tbody>\n",
       "    <tr>\n",
       "      <th>0</th>\n",
       "      <td>0.965625</td>\n",
       "      <td>1698933312</td>\n",
       "      <td>True</td>\n",
       "      <td>True</td>\n",
       "      <td>100</td>\n",
       "      <td>6b604_00000</td>\n",
       "      <td>2023-11-02_14-55-12</td>\n",
       "      <td>0.058764</td>\n",
       "      <td>6.481322</td>\n",
       "      <td>37127</td>\n",
       "      <td>mikhail.local</td>\n",
       "      <td>127.0.0.1</td>\n",
       "      <td>6.481322</td>\n",
       "      <td>100</td>\n",
       "      <td>checkpoint_000099</td>\n",
       "      <td>0.076083</td>\n",
       "      <td>0.8</td>\n",
       "      <td>True</td>\n",
       "      <td>6b604_00000</td>\n",
       "    </tr>\n",
       "    <tr>\n",
       "      <th>1</th>\n",
       "      <td>0.940625</td>\n",
       "      <td>1698933312</td>\n",
       "      <td>True</td>\n",
       "      <td>True</td>\n",
       "      <td>100</td>\n",
       "      <td>6b604_00001</td>\n",
       "      <td>2023-11-02_14-55-12</td>\n",
       "      <td>0.059970</td>\n",
       "      <td>6.438105</td>\n",
       "      <td>37128</td>\n",
       "      <td>mikhail.local</td>\n",
       "      <td>127.0.0.1</td>\n",
       "      <td>6.438105</td>\n",
       "      <td>100</td>\n",
       "      <td>checkpoint_000099</td>\n",
       "      <td>0.003973</td>\n",
       "      <td>0.9</td>\n",
       "      <td>True</td>\n",
       "      <td>6b604_00001</td>\n",
       "    </tr>\n",
       "    <tr>\n",
       "      <th>2</th>\n",
       "      <td>0.900000</td>\n",
       "      <td>1698933311</td>\n",
       "      <td>True</td>\n",
       "      <td>True</td>\n",
       "      <td>100</td>\n",
       "      <td>6b604_00002</td>\n",
       "      <td>2023-11-02_14-55-11</td>\n",
       "      <td>0.060060</td>\n",
       "      <td>6.276443</td>\n",
       "      <td>37129</td>\n",
       "      <td>mikhail.local</td>\n",
       "      <td>127.0.0.1</td>\n",
       "      <td>6.276443</td>\n",
       "      <td>100</td>\n",
       "      <td>checkpoint_000099</td>\n",
       "      <td>0.001603</td>\n",
       "      <td>0.8</td>\n",
       "      <td>True</td>\n",
       "      <td>6b604_00002</td>\n",
       "    </tr>\n",
       "    <tr>\n",
       "      <th>3</th>\n",
       "      <td>0.940625</td>\n",
       "      <td>1698933312</td>\n",
       "      <td>True</td>\n",
       "      <td>True</td>\n",
       "      <td>100</td>\n",
       "      <td>6b604_00003</td>\n",
       "      <td>2023-11-02_14-55-12</td>\n",
       "      <td>0.064846</td>\n",
       "      <td>6.403936</td>\n",
       "      <td>37130</td>\n",
       "      <td>mikhail.local</td>\n",
       "      <td>127.0.0.1</td>\n",
       "      <td>6.403936</td>\n",
       "      <td>100</td>\n",
       "      <td>checkpoint_000099</td>\n",
       "      <td>0.007156</td>\n",
       "      <td>0.9</td>\n",
       "      <td>True</td>\n",
       "      <td>6b604_00003</td>\n",
       "    </tr>\n",
       "    <tr>\n",
       "      <th>4</th>\n",
       "      <td>0.943750</td>\n",
       "      <td>1698933311</td>\n",
       "      <td>True</td>\n",
       "      <td>True</td>\n",
       "      <td>100</td>\n",
       "      <td>6b604_00004</td>\n",
       "      <td>2023-11-02_14-55-11</td>\n",
       "      <td>0.059522</td>\n",
       "      <td>6.349655</td>\n",
       "      <td>37131</td>\n",
       "      <td>mikhail.local</td>\n",
       "      <td>127.0.0.1</td>\n",
       "      <td>6.349655</td>\n",
       "      <td>100</td>\n",
       "      <td>checkpoint_000099</td>\n",
       "      <td>0.009593</td>\n",
       "      <td>0.8</td>\n",
       "      <td>True</td>\n",
       "      <td>6b604_00004</td>\n",
       "    </tr>\n",
       "    <tr>\n",
       "      <th>5</th>\n",
       "      <td>0.903125</td>\n",
       "      <td>1698933312</td>\n",
       "      <td>True</td>\n",
       "      <td>True</td>\n",
       "      <td>100</td>\n",
       "      <td>6b604_00005</td>\n",
       "      <td>2023-11-02_14-55-12</td>\n",
       "      <td>0.066313</td>\n",
       "      <td>6.369621</td>\n",
       "      <td>37132</td>\n",
       "      <td>mikhail.local</td>\n",
       "      <td>127.0.0.1</td>\n",
       "      <td>6.369621</td>\n",
       "      <td>100</td>\n",
       "      <td>checkpoint_000099</td>\n",
       "      <td>0.003507</td>\n",
       "      <td>0.9</td>\n",
       "      <td>True</td>\n",
       "      <td>6b604_00005</td>\n",
       "    </tr>\n",
       "  </tbody>\n",
       "</table>\n",
       "</div>"
      ],
      "text/plain": [
       "   mean_accuracy   timestamp  should_checkpoint  done  training_iteration  \\\n",
       "0       0.965625  1698933312               True  True                 100   \n",
       "1       0.940625  1698933312               True  True                 100   \n",
       "2       0.900000  1698933311               True  True                 100   \n",
       "3       0.940625  1698933312               True  True                 100   \n",
       "4       0.943750  1698933311               True  True                 100   \n",
       "5       0.903125  1698933312               True  True                 100   \n",
       "\n",
       "      trial_id                 date  time_this_iter_s  time_total_s    pid  \\\n",
       "0  6b604_00000  2023-11-02_14-55-12          0.058764      6.481322  37127   \n",
       "1  6b604_00001  2023-11-02_14-55-12          0.059970      6.438105  37128   \n",
       "2  6b604_00002  2023-11-02_14-55-11          0.060060      6.276443  37129   \n",
       "3  6b604_00003  2023-11-02_14-55-12          0.064846      6.403936  37130   \n",
       "4  6b604_00004  2023-11-02_14-55-11          0.059522      6.349655  37131   \n",
       "5  6b604_00005  2023-11-02_14-55-12          0.066313      6.369621  37132   \n",
       "\n",
       "        hostname    node_ip  time_since_restore  iterations_since_restore  \\\n",
       "0  mikhail.local  127.0.0.1            6.481322                       100   \n",
       "1  mikhail.local  127.0.0.1            6.438105                       100   \n",
       "2  mikhail.local  127.0.0.1            6.276443                       100   \n",
       "3  mikhail.local  127.0.0.1            6.403936                       100   \n",
       "4  mikhail.local  127.0.0.1            6.349655                       100   \n",
       "5  mikhail.local  127.0.0.1            6.369621                       100   \n",
       "\n",
       "  checkpoint_dir_name  config/lr  config/momentum  config/should_checkpoint  \\\n",
       "0   checkpoint_000099   0.076083              0.8                      True   \n",
       "1   checkpoint_000099   0.003973              0.9                      True   \n",
       "2   checkpoint_000099   0.001603              0.8                      True   \n",
       "3   checkpoint_000099   0.007156              0.9                      True   \n",
       "4   checkpoint_000099   0.009593              0.8                      True   \n",
       "5   checkpoint_000099   0.003507              0.9                      True   \n",
       "\n",
       "        logdir  \n",
       "0  6b604_00000  \n",
       "1  6b604_00001  \n",
       "2  6b604_00002  \n",
       "3  6b604_00003  \n",
       "4  6b604_00004  \n",
       "5  6b604_00005  "
      ]
     },
     "execution_count": 190,
     "metadata": {},
     "output_type": "execute_result"
    }
   ],
   "source": [
    "result_grid.get_dataframe()"
   ]
  },
  {
   "cell_type": "code",
   "execution_count": 126,
   "metadata": {},
   "outputs": [
    {
     "name": "stdout",
     "output_type": "stream",
     "text": [
      "\u001b[1m\u001b[36mcheckpoint_000041\u001b[m\u001b[m\n",
      "\u001b[1m\u001b[36mcheckpoint_000050\u001b[m\u001b[m\n",
      "\u001b[1m\u001b[36mcheckpoint_000063\u001b[m\u001b[m\n",
      "\u001b[1m\u001b[36mcheckpoint_000083\u001b[m\u001b[m\n",
      "\u001b[1m\u001b[36mcheckpoint_000094\u001b[m\u001b[m\n",
      "\u001b[1m\u001b[36mcheckpoint_000099\u001b[m\u001b[m\n",
      "events.out.tfevents.1698928191.mikhail.local\n",
      "params.json\n",
      "params.pkl\n",
      "progress.csv\n",
      "result.json\n"
     ]
    }
   ],
   "source": [
    "!ls /tmp/ray_results/tune_analyzing_results/train_mnist_83356_00000_0_lr=0.0748,momentum=0.8000_2023-11-02_13-29-48"
   ]
  },
  {
   "cell_type": "markdown",
   "metadata": {},
   "source": [
    "## Loading experiment results from an directory"
   ]
  },
  {
   "cell_type": "code",
   "execution_count": 191,
   "metadata": {},
   "outputs": [
    {
     "name": "stdout",
     "output_type": "stream",
     "text": [
      "Loading results from /tmp/ray_results/tune_analyzing_results...\n"
     ]
    }
   ],
   "source": [
    "# https://docs.ray.io/en/latest/tune/examples/tune_analyze_results.html#loading-experiment-results-from-an-directory \n",
    "\n",
    "experiment_path = os.path.join(storage_path, exp_name)\n",
    "print(f\"Loading results from {experiment_path}...\")\n",
    "\n",
    "restored_tuner = tune.Tuner.restore(experiment_path, trainable=train_mnist)\n",
    "result_grid = restored_tuner.get_results()"
   ]
  },
  {
   "cell_type": "code",
   "execution_count": 192,
   "metadata": {
    "scrolled": true
   },
   "outputs": [
    {
     "data": {
      "text/plain": [
       "ResultGrid<[\n",
       "  Result(\n",
       "    metrics={'mean_accuracy': 0.965625},\n",
       "    path='/tmp/ray_results/tune_analyzing_results/train_mnist_6b604_00000_0_lr=0.0761,momentum=0.8000_2023-11-02_14-55-02',\n",
       "    filesystem='local',\n",
       "    checkpoint=Checkpoint(filesystem=local, path=/tmp/ray_results/tune_analyzing_results/train_mnist_6b604_00000_0_lr=0.0761,momentum=0.8000_2023-11-02_14-55-02/checkpoint_000099)\n",
       "  ),\n",
       "  Result(\n",
       "    metrics={'mean_accuracy': 0.9},\n",
       "    path='/tmp/ray_results/tune_analyzing_results/train_mnist_6b604_00002_2_lr=0.0016,momentum=0.8000_2023-11-02_14-55-02',\n",
       "    filesystem='local',\n",
       "    checkpoint=Checkpoint(filesystem=local, path=/tmp/ray_results/tune_analyzing_results/train_mnist_6b604_00002_2_lr=0.0016,momentum=0.8000_2023-11-02_14-55-02/checkpoint_000099)\n",
       "  ),\n",
       "  Result(\n",
       "    metrics={'mean_accuracy': 0.940625},\n",
       "    path='/tmp/ray_results/tune_analyzing_results/train_mnist_6b604_00001_1_lr=0.0040,momentum=0.9000_2023-11-02_14-55-02',\n",
       "    filesystem='local',\n",
       "    checkpoint=Checkpoint(filesystem=local, path=/tmp/ray_results/tune_analyzing_results/train_mnist_6b604_00001_1_lr=0.0040,momentum=0.9000_2023-11-02_14-55-02/checkpoint_000099)\n",
       "  ),\n",
       "  Result(\n",
       "    metrics={'mean_accuracy': 0.94375},\n",
       "    path='/tmp/ray_results/tune_analyzing_results/train_mnist_6b604_00004_4_lr=0.0096,momentum=0.8000_2023-11-02_14-55-02',\n",
       "    filesystem='local',\n",
       "    checkpoint=Checkpoint(filesystem=local, path=/tmp/ray_results/tune_analyzing_results/train_mnist_6b604_00004_4_lr=0.0096,momentum=0.8000_2023-11-02_14-55-02/checkpoint_000099)\n",
       "  ),\n",
       "  Result(\n",
       "    metrics={'mean_accuracy': 0.903125},\n",
       "    path='/tmp/ray_results/tune_analyzing_results/train_mnist_6b604_00005_5_lr=0.0035,momentum=0.9000_2023-11-02_14-55-02',\n",
       "    filesystem='local',\n",
       "    checkpoint=Checkpoint(filesystem=local, path=/tmp/ray_results/tune_analyzing_results/train_mnist_6b604_00005_5_lr=0.0035,momentum=0.9000_2023-11-02_14-55-02/checkpoint_000099)\n",
       "  ),\n",
       "  Result(\n",
       "    metrics={'mean_accuracy': 0.940625},\n",
       "    path='/tmp/ray_results/tune_analyzing_results/train_mnist_6b604_00003_3_lr=0.0072,momentum=0.9000_2023-11-02_14-55-02',\n",
       "    filesystem='local',\n",
       "    checkpoint=Checkpoint(filesystem=local, path=/tmp/ray_results/tune_analyzing_results/train_mnist_6b604_00003_3_lr=0.0072,momentum=0.9000_2023-11-02_14-55-02/checkpoint_000099)\n",
       "  )\n",
       "]>"
      ]
     },
     "execution_count": 192,
     "metadata": {},
     "output_type": "execute_result"
    }
   ],
   "source": [
    "result_grid"
   ]
  },
  {
   "cell_type": "markdown",
   "metadata": {},
   "source": [
    "### Experiment-level Analysis: Working with ResultGrid"
   ]
  },
  {
   "cell_type": "code",
   "execution_count": 193,
   "metadata": {},
   "outputs": [
    {
     "name": "stdout",
     "output_type": "stream",
     "text": [
      "No errors!\n"
     ]
    }
   ],
   "source": [
    "# Check if there have been errors\n",
    "if result_grid.errors:\n",
    "    print(\"One of the trials failed!\")\n",
    "else:\n",
    "    print(\"No errors!\")"
   ]
  },
  {
   "cell_type": "code",
   "execution_count": 194,
   "metadata": {},
   "outputs": [
    {
     "name": "stdout",
     "output_type": "stream",
     "text": [
      "Number of results: 6\n"
     ]
    }
   ],
   "source": [
    "num_results = len(result_grid)\n",
    "print(\"Number of results:\", num_results)"
   ]
  },
  {
   "cell_type": "code",
   "execution_count": 195,
   "metadata": {},
   "outputs": [
    {
     "data": {
      "text/html": [
       "<div>\n",
       "<style scoped>\n",
       "    .dataframe tbody tr th:only-of-type {\n",
       "        vertical-align: middle;\n",
       "    }\n",
       "\n",
       "    .dataframe tbody tr th {\n",
       "        vertical-align: top;\n",
       "    }\n",
       "\n",
       "    .dataframe thead th {\n",
       "        text-align: right;\n",
       "    }\n",
       "</style>\n",
       "<table border=\"1\" class=\"dataframe\">\n",
       "  <thead>\n",
       "    <tr style=\"text-align: right;\">\n",
       "      <th></th>\n",
       "      <th>mean_accuracy</th>\n",
       "      <th>timestamp</th>\n",
       "      <th>should_checkpoint</th>\n",
       "      <th>done</th>\n",
       "      <th>training_iteration</th>\n",
       "      <th>trial_id</th>\n",
       "      <th>date</th>\n",
       "      <th>time_this_iter_s</th>\n",
       "      <th>time_total_s</th>\n",
       "      <th>pid</th>\n",
       "      <th>hostname</th>\n",
       "      <th>node_ip</th>\n",
       "      <th>time_since_restore</th>\n",
       "      <th>iterations_since_restore</th>\n",
       "      <th>checkpoint_dir_name</th>\n",
       "      <th>config/lr</th>\n",
       "      <th>config/momentum</th>\n",
       "      <th>config/should_checkpoint</th>\n",
       "      <th>logdir</th>\n",
       "    </tr>\n",
       "  </thead>\n",
       "  <tbody>\n",
       "    <tr>\n",
       "      <th>0</th>\n",
       "      <td>0.965625</td>\n",
       "      <td>1698933312</td>\n",
       "      <td>True</td>\n",
       "      <td>True</td>\n",
       "      <td>100</td>\n",
       "      <td>6b604_00000</td>\n",
       "      <td>2023-11-02_14-55-12</td>\n",
       "      <td>0.058764</td>\n",
       "      <td>6.481322</td>\n",
       "      <td>37127</td>\n",
       "      <td>mikhail.local</td>\n",
       "      <td>127.0.0.1</td>\n",
       "      <td>6.481322</td>\n",
       "      <td>100</td>\n",
       "      <td>checkpoint_000099</td>\n",
       "      <td>0.076083</td>\n",
       "      <td>0.8</td>\n",
       "      <td>True</td>\n",
       "      <td>6b604_00000</td>\n",
       "    </tr>\n",
       "    <tr>\n",
       "      <th>1</th>\n",
       "      <td>0.900000</td>\n",
       "      <td>1698933311</td>\n",
       "      <td>True</td>\n",
       "      <td>True</td>\n",
       "      <td>100</td>\n",
       "      <td>6b604_00002</td>\n",
       "      <td>2023-11-02_14-55-11</td>\n",
       "      <td>0.060060</td>\n",
       "      <td>6.276443</td>\n",
       "      <td>37129</td>\n",
       "      <td>mikhail.local</td>\n",
       "      <td>127.0.0.1</td>\n",
       "      <td>6.276443</td>\n",
       "      <td>100</td>\n",
       "      <td>checkpoint_000099</td>\n",
       "      <td>0.001603</td>\n",
       "      <td>0.8</td>\n",
       "      <td>True</td>\n",
       "      <td>6b604_00002</td>\n",
       "    </tr>\n",
       "    <tr>\n",
       "      <th>2</th>\n",
       "      <td>0.940625</td>\n",
       "      <td>1698933312</td>\n",
       "      <td>True</td>\n",
       "      <td>True</td>\n",
       "      <td>100</td>\n",
       "      <td>6b604_00001</td>\n",
       "      <td>2023-11-02_14-55-12</td>\n",
       "      <td>0.059970</td>\n",
       "      <td>6.438105</td>\n",
       "      <td>37128</td>\n",
       "      <td>mikhail.local</td>\n",
       "      <td>127.0.0.1</td>\n",
       "      <td>6.438105</td>\n",
       "      <td>100</td>\n",
       "      <td>checkpoint_000099</td>\n",
       "      <td>0.003973</td>\n",
       "      <td>0.9</td>\n",
       "      <td>True</td>\n",
       "      <td>6b604_00001</td>\n",
       "    </tr>\n",
       "    <tr>\n",
       "      <th>3</th>\n",
       "      <td>0.943750</td>\n",
       "      <td>1698933311</td>\n",
       "      <td>True</td>\n",
       "      <td>True</td>\n",
       "      <td>100</td>\n",
       "      <td>6b604_00004</td>\n",
       "      <td>2023-11-02_14-55-11</td>\n",
       "      <td>0.059522</td>\n",
       "      <td>6.349655</td>\n",
       "      <td>37131</td>\n",
       "      <td>mikhail.local</td>\n",
       "      <td>127.0.0.1</td>\n",
       "      <td>6.349655</td>\n",
       "      <td>100</td>\n",
       "      <td>checkpoint_000099</td>\n",
       "      <td>0.009593</td>\n",
       "      <td>0.8</td>\n",
       "      <td>True</td>\n",
       "      <td>6b604_00004</td>\n",
       "    </tr>\n",
       "    <tr>\n",
       "      <th>4</th>\n",
       "      <td>0.903125</td>\n",
       "      <td>1698933312</td>\n",
       "      <td>True</td>\n",
       "      <td>True</td>\n",
       "      <td>100</td>\n",
       "      <td>6b604_00005</td>\n",
       "      <td>2023-11-02_14-55-12</td>\n",
       "      <td>0.066313</td>\n",
       "      <td>6.369621</td>\n",
       "      <td>37132</td>\n",
       "      <td>mikhail.local</td>\n",
       "      <td>127.0.0.1</td>\n",
       "      <td>6.369621</td>\n",
       "      <td>100</td>\n",
       "      <td>checkpoint_000099</td>\n",
       "      <td>0.003507</td>\n",
       "      <td>0.9</td>\n",
       "      <td>True</td>\n",
       "      <td>6b604_00005</td>\n",
       "    </tr>\n",
       "    <tr>\n",
       "      <th>5</th>\n",
       "      <td>0.940625</td>\n",
       "      <td>1698933312</td>\n",
       "      <td>True</td>\n",
       "      <td>True</td>\n",
       "      <td>100</td>\n",
       "      <td>6b604_00003</td>\n",
       "      <td>2023-11-02_14-55-12</td>\n",
       "      <td>0.064846</td>\n",
       "      <td>6.403936</td>\n",
       "      <td>37130</td>\n",
       "      <td>mikhail.local</td>\n",
       "      <td>127.0.0.1</td>\n",
       "      <td>6.403936</td>\n",
       "      <td>100</td>\n",
       "      <td>checkpoint_000099</td>\n",
       "      <td>0.007156</td>\n",
       "      <td>0.9</td>\n",
       "      <td>True</td>\n",
       "      <td>6b604_00003</td>\n",
       "    </tr>\n",
       "  </tbody>\n",
       "</table>\n",
       "</div>"
      ],
      "text/plain": [
       "   mean_accuracy   timestamp  should_checkpoint  done  training_iteration  \\\n",
       "0       0.965625  1698933312               True  True                 100   \n",
       "1       0.900000  1698933311               True  True                 100   \n",
       "2       0.940625  1698933312               True  True                 100   \n",
       "3       0.943750  1698933311               True  True                 100   \n",
       "4       0.903125  1698933312               True  True                 100   \n",
       "5       0.940625  1698933312               True  True                 100   \n",
       "\n",
       "      trial_id                 date  time_this_iter_s  time_total_s    pid  \\\n",
       "0  6b604_00000  2023-11-02_14-55-12          0.058764      6.481322  37127   \n",
       "1  6b604_00002  2023-11-02_14-55-11          0.060060      6.276443  37129   \n",
       "2  6b604_00001  2023-11-02_14-55-12          0.059970      6.438105  37128   \n",
       "3  6b604_00004  2023-11-02_14-55-11          0.059522      6.349655  37131   \n",
       "4  6b604_00005  2023-11-02_14-55-12          0.066313      6.369621  37132   \n",
       "5  6b604_00003  2023-11-02_14-55-12          0.064846      6.403936  37130   \n",
       "\n",
       "        hostname    node_ip  time_since_restore  iterations_since_restore  \\\n",
       "0  mikhail.local  127.0.0.1            6.481322                       100   \n",
       "1  mikhail.local  127.0.0.1            6.276443                       100   \n",
       "2  mikhail.local  127.0.0.1            6.438105                       100   \n",
       "3  mikhail.local  127.0.0.1            6.349655                       100   \n",
       "4  mikhail.local  127.0.0.1            6.369621                       100   \n",
       "5  mikhail.local  127.0.0.1            6.403936                       100   \n",
       "\n",
       "  checkpoint_dir_name  config/lr  config/momentum  config/should_checkpoint  \\\n",
       "0   checkpoint_000099   0.076083              0.8                      True   \n",
       "1   checkpoint_000099   0.001603              0.8                      True   \n",
       "2   checkpoint_000099   0.003973              0.9                      True   \n",
       "3   checkpoint_000099   0.009593              0.8                      True   \n",
       "4   checkpoint_000099   0.003507              0.9                      True   \n",
       "5   checkpoint_000099   0.007156              0.9                      True   \n",
       "\n",
       "        logdir  \n",
       "0  6b604_00000  \n",
       "1  6b604_00002  \n",
       "2  6b604_00001  \n",
       "3  6b604_00004  \n",
       "4  6b604_00005  \n",
       "5  6b604_00003  "
      ]
     },
     "execution_count": 195,
     "metadata": {},
     "output_type": "execute_result"
    }
   ],
   "source": [
    "result_grid.get_dataframe()\n"
   ]
  },
  {
   "cell_type": "code",
   "execution_count": 196,
   "metadata": {},
   "outputs": [
    {
     "name": "stdout",
     "output_type": "stream",
     "text": [
      "Trial #0 finished successfully with a mean accuracy metric of: 0.965625\n",
      "Trial #1 finished successfully with a mean accuracy metric of: 0.9\n",
      "Trial #2 finished successfully with a mean accuracy metric of: 0.940625\n",
      "Trial #3 finished successfully with a mean accuracy metric of: 0.94375\n",
      "Trial #4 finished successfully with a mean accuracy metric of: 0.903125\n",
      "Trial #5 finished successfully with a mean accuracy metric of: 0.940625\n"
     ]
    }
   ],
   "source": [
    "# Iterate over results\n",
    "for i, result in enumerate(result_grid):\n",
    "    if result.error:\n",
    "        print(f\"Trial #{i} had an error:\", result.error)\n",
    "        continue\n",
    "\n",
    "    print(\n",
    "        f\"Trial #{i} finished successfully with a mean accuracy metric of:\",\n",
    "        result.metrics[\"mean_accuracy\"]\n",
    "    )"
   ]
  },
  {
   "cell_type": "code",
   "execution_count": 197,
   "metadata": {},
   "outputs": [
    {
     "data": {
      "text/html": [
       "<div>\n",
       "<style scoped>\n",
       "    .dataframe tbody tr th:only-of-type {\n",
       "        vertical-align: middle;\n",
       "    }\n",
       "\n",
       "    .dataframe tbody tr th {\n",
       "        vertical-align: top;\n",
       "    }\n",
       "\n",
       "    .dataframe thead th {\n",
       "        text-align: right;\n",
       "    }\n",
       "</style>\n",
       "<table border=\"1\" class=\"dataframe\">\n",
       "  <thead>\n",
       "    <tr style=\"text-align: right;\">\n",
       "      <th></th>\n",
       "      <th>training_iteration</th>\n",
       "      <th>mean_accuracy</th>\n",
       "    </tr>\n",
       "  </thead>\n",
       "  <tbody>\n",
       "    <tr>\n",
       "      <th>0</th>\n",
       "      <td>100</td>\n",
       "      <td>0.965625</td>\n",
       "    </tr>\n",
       "    <tr>\n",
       "      <th>1</th>\n",
       "      <td>100</td>\n",
       "      <td>0.900000</td>\n",
       "    </tr>\n",
       "    <tr>\n",
       "      <th>2</th>\n",
       "      <td>100</td>\n",
       "      <td>0.940625</td>\n",
       "    </tr>\n",
       "    <tr>\n",
       "      <th>3</th>\n",
       "      <td>100</td>\n",
       "      <td>0.943750</td>\n",
       "    </tr>\n",
       "    <tr>\n",
       "      <th>4</th>\n",
       "      <td>100</td>\n",
       "      <td>0.903125</td>\n",
       "    </tr>\n",
       "    <tr>\n",
       "      <th>5</th>\n",
       "      <td>100</td>\n",
       "      <td>0.940625</td>\n",
       "    </tr>\n",
       "  </tbody>\n",
       "</table>\n",
       "</div>"
      ],
      "text/plain": [
       "   training_iteration  mean_accuracy\n",
       "0                 100       0.965625\n",
       "1                 100       0.900000\n",
       "2                 100       0.940625\n",
       "3                 100       0.943750\n",
       "4                 100       0.903125\n",
       "5                 100       0.940625"
      ]
     },
     "execution_count": 197,
     "metadata": {},
     "output_type": "execute_result"
    }
   ],
   "source": [
    "results_df = result_grid.get_dataframe()\n",
    "results_df[[\"training_iteration\", \"mean_accuracy\"]]"
   ]
  },
  {
   "cell_type": "code",
   "execution_count": 217,
   "metadata": {
    "scrolled": true
   },
   "outputs": [
    {
     "name": "stdout",
     "output_type": "stream",
     "text": [
      "Best trial: \n",
      " mean_accuracy                          0.965625\n",
      "timestamp                            1698933312\n",
      "should_checkpoint                          True\n",
      "done                                       True\n",
      "training_iteration                          100\n",
      "trial_id                            6b604_00000\n",
      "date                        2023-11-02_14-55-12\n",
      "time_this_iter_s                       0.058764\n",
      "time_total_s                           6.481322\n",
      "pid                                       37127\n",
      "hostname                          mikhail.local\n",
      "node_ip                               127.0.0.1\n",
      "time_since_restore                     6.481322\n",
      "iterations_since_restore                    100\n",
      "checkpoint_dir_name           checkpoint_000099\n",
      "config/lr                              0.076083\n",
      "config/momentum                             0.8\n",
      "config/should_checkpoint                   True\n",
      "logdir                              6b604_00000\n",
      "Name: 0, dtype: object\n"
     ]
    }
   ],
   "source": [
    "print(\"Best trial: \\n\", results_df.iloc[results_df['mean_accuracy'].idxmax()])"
   ]
  },
  {
   "cell_type": "code",
   "execution_count": 220,
   "metadata": {},
   "outputs": [
    {
     "data": {
      "text/html": [
       "<div>\n",
       "<style scoped>\n",
       "    .dataframe tbody tr th:only-of-type {\n",
       "        vertical-align: middle;\n",
       "    }\n",
       "\n",
       "    .dataframe tbody tr th {\n",
       "        vertical-align: top;\n",
       "    }\n",
       "\n",
       "    .dataframe thead th {\n",
       "        text-align: right;\n",
       "    }\n",
       "</style>\n",
       "<table border=\"1\" class=\"dataframe\">\n",
       "  <thead>\n",
       "    <tr style=\"text-align: right;\">\n",
       "      <th></th>\n",
       "      <th>training_iteration</th>\n",
       "      <th>mean_accuracy</th>\n",
       "    </tr>\n",
       "  </thead>\n",
       "  <tbody>\n",
       "    <tr>\n",
       "      <th>0</th>\n",
       "      <td>78</td>\n",
       "      <td>0.978125</td>\n",
       "    </tr>\n",
       "    <tr>\n",
       "      <th>1</th>\n",
       "      <td>68</td>\n",
       "      <td>0.921875</td>\n",
       "    </tr>\n",
       "    <tr>\n",
       "      <th>2</th>\n",
       "      <td>55</td>\n",
       "      <td>0.962500</td>\n",
       "    </tr>\n",
       "    <tr>\n",
       "      <th>3</th>\n",
       "      <td>90</td>\n",
       "      <td>0.956250</td>\n",
       "    </tr>\n",
       "    <tr>\n",
       "      <th>4</th>\n",
       "      <td>94</td>\n",
       "      <td>0.925000</td>\n",
       "    </tr>\n",
       "    <tr>\n",
       "      <th>5</th>\n",
       "      <td>83</td>\n",
       "      <td>0.965625</td>\n",
       "    </tr>\n",
       "  </tbody>\n",
       "</table>\n",
       "</div>"
      ],
      "text/plain": [
       "   training_iteration  mean_accuracy\n",
       "0                  78       0.978125\n",
       "1                  68       0.921875\n",
       "2                  55       0.962500\n",
       "3                  90       0.956250\n",
       "4                  94       0.925000\n",
       "5                  83       0.965625"
      ]
     },
     "execution_count": 220,
     "metadata": {},
     "output_type": "execute_result"
    }
   ],
   "source": [
    "best_result_df = result_grid.get_dataframe(\n",
    "    filter_metric=\"mean_accuracy\", filter_mode=\"max\"\n",
    ")\n",
    "best_result_df[[\"training_iteration\", \"mean_accuracy\"]]"
   ]
  },
  {
   "cell_type": "markdown",
   "metadata": {},
   "source": [
    "### Trial-level Analysis: Working with an individual Result "
   ]
  },
  {
   "cell_type": "code",
   "execution_count": 256,
   "metadata": {},
   "outputs": [],
   "source": [
    "from ray.train import Result\n",
    "\n",
    "# Get the result with the maximum test set `mean_accuracy`\n",
    "best_result: Result = result_grid.get_best_result()\n",
    "\n",
    "# Get the result with the minimum `mean_accuracy`\n",
    "worst_performing_result: Result = result_grid.get_best_result(\n",
    "    metric=\"mean_accuracy\", mode=\"min\"\n",
    ")"
   ]
  },
  {
   "cell_type": "code",
   "execution_count": 257,
   "metadata": {},
   "outputs": [
    {
     "data": {
      "text/plain": [
       "Result(\n",
       "  metrics={'mean_accuracy': 0.965625},\n",
       "  path='/tmp/ray_results/tune_analyzing_results/train_mnist_6b604_00000_0_lr=0.0761,momentum=0.8000_2023-11-02_14-55-02',\n",
       "  filesystem='local',\n",
       "  checkpoint=Checkpoint(filesystem=local, path=/tmp/ray_results/tune_analyzing_results/train_mnist_6b604_00000_0_lr=0.0761,momentum=0.8000_2023-11-02_14-55-02/checkpoint_000099)\n",
       ")"
      ]
     },
     "execution_count": 257,
     "metadata": {},
     "output_type": "execute_result"
    }
   ],
   "source": [
    "best_result"
   ]
  },
  {
   "cell_type": "code",
   "execution_count": 258,
   "metadata": {},
   "outputs": [
    {
     "data": {
      "text/plain": [
       "Result(\n",
       "  metrics={'mean_accuracy': 0.9},\n",
       "  path='/tmp/ray_results/tune_analyzing_results/train_mnist_6b604_00002_2_lr=0.0016,momentum=0.8000_2023-11-02_14-55-02',\n",
       "  filesystem='local',\n",
       "  checkpoint=Checkpoint(filesystem=local, path=/tmp/ray_results/tune_analyzing_results/train_mnist_6b604_00002_2_lr=0.0016,momentum=0.8000_2023-11-02_14-55-02/checkpoint_000099)\n",
       ")"
      ]
     },
     "execution_count": 258,
     "metadata": {},
     "output_type": "execute_result"
    }
   ],
   "source": [
    "worst_performing_result"
   ]
  },
  {
   "cell_type": "code",
   "execution_count": 224,
   "metadata": {},
   "outputs": [
    {
     "data": {
      "text/plain": [
       "{'lr': 0.07608281902183818, 'momentum': 0.8, 'should_checkpoint': True}"
      ]
     },
     "execution_count": 224,
     "metadata": {},
     "output_type": "execute_result"
    }
   ],
   "source": [
    "best_result.config"
   ]
  },
  {
   "cell_type": "code",
   "execution_count": 225,
   "metadata": {},
   "outputs": [
    {
     "data": {
      "text/plain": [
       "{'mean_accuracy': 0.965625,\n",
       " 'timestamp': 1698933312,\n",
       " 'should_checkpoint': True,\n",
       " 'done': True,\n",
       " 'training_iteration': 100,\n",
       " 'trial_id': '6b604_00000',\n",
       " 'date': '2023-11-02_14-55-12',\n",
       " 'time_this_iter_s': 0.058763980865478516,\n",
       " 'time_total_s': 6.481321811676025,\n",
       " 'pid': 37127,\n",
       " 'hostname': 'mikhail.local',\n",
       " 'node_ip': '127.0.0.1',\n",
       " 'config': {'lr': 0.07608281902183818,\n",
       "  'momentum': 0.8,\n",
       "  'should_checkpoint': True},\n",
       " 'time_since_restore': 6.481321811676025,\n",
       " 'iterations_since_restore': 100,\n",
       " 'checkpoint_dir_name': 'checkpoint_000099',\n",
       " 'experiment_tag': '0_lr=0.0761,momentum=0.8000'}"
      ]
     },
     "execution_count": 225,
     "metadata": {},
     "output_type": "execute_result"
    }
   ],
   "source": [
    "best_result.metrics"
   ]
  },
  {
   "cell_type": "markdown",
   "metadata": {},
   "source": [
    "### Plotting metrics"
   ]
  },
  {
   "cell_type": "code",
   "execution_count": 228,
   "metadata": {
    "scrolled": true
   },
   "outputs": [
    {
     "name": "stdout",
     "output_type": "stream",
     "text": [
      "Collecting matplotlib\n",
      "  Downloading matplotlib-3.8.1-cp39-cp39-macosx_11_0_arm64.whl (7.5 MB)\n",
      "\u001b[K     |████████████████████████████████| 7.5 MB 879 kB/s eta 0:00:01\n",
      "\u001b[?25hCollecting cycler>=0.10\n",
      "  Downloading cycler-0.12.1-py3-none-any.whl (8.3 kB)\n",
      "Requirement already satisfied: pillow>=8 in /Users/mikhailrozhkov/dev/rnd/ray-dvc/.venv/lib/python3.9/site-packages (from matplotlib) (10.0.1)\n",
      "Requirement already satisfied: packaging>=20.0 in /Users/mikhailrozhkov/dev/rnd/ray-dvc/.venv/lib/python3.9/site-packages (from matplotlib) (23.2)\n",
      "Requirement already satisfied: numpy<2,>=1.21 in /Users/mikhailrozhkov/dev/rnd/ray-dvc/.venv/lib/python3.9/site-packages (from matplotlib) (1.26.1)\n",
      "Requirement already satisfied: pyparsing>=2.3.1 in /Users/mikhailrozhkov/dev/rnd/ray-dvc/.venv/lib/python3.9/site-packages (from matplotlib) (3.1.1)\n",
      "Requirement already satisfied: python-dateutil>=2.7 in /Users/mikhailrozhkov/dev/rnd/ray-dvc/.venv/lib/python3.9/site-packages (from matplotlib) (2.8.2)\n",
      "Collecting contourpy>=1.0.1\n",
      "  Downloading contourpy-1.1.1-cp39-cp39-macosx_11_0_arm64.whl (232 kB)\n",
      "\u001b[K     |████████████████████████████████| 232 kB 804 kB/s eta 0:00:01\n",
      "\u001b[?25hCollecting fonttools>=4.22.0\n",
      "  Downloading fonttools-4.43.1-cp39-cp39-macosx_10_9_universal2.whl (2.7 MB)\n",
      "\u001b[K     |████████████████████████████████| 2.7 MB 759 kB/s eta 0:00:01\n",
      "\u001b[?25hCollecting importlib-resources>=3.2.0\n",
      "  Downloading importlib_resources-6.1.0-py3-none-any.whl (33 kB)\n",
      "Collecting kiwisolver>=1.3.1\n",
      "  Downloading kiwisolver-1.4.5-cp39-cp39-macosx_11_0_arm64.whl (66 kB)\n",
      "\u001b[K     |████████████████████████████████| 66 kB 971 kB/s eta 0:00:01\n",
      "\u001b[?25hRequirement already satisfied: zipp>=3.1.0 in /Users/mikhailrozhkov/dev/rnd/ray-dvc/.venv/lib/python3.9/site-packages (from importlib-resources>=3.2.0->matplotlib) (3.17.0)\n",
      "Requirement already satisfied: six>=1.5 in /Users/mikhailrozhkov/dev/rnd/ray-dvc/.venv/lib/python3.9/site-packages (from python-dateutil>=2.7->matplotlib) (1.16.0)\n",
      "Installing collected packages: kiwisolver, importlib-resources, fonttools, cycler, contourpy, matplotlib\n",
      "Successfully installed contourpy-1.1.1 cycler-0.12.1 fonttools-4.43.1 importlib-resources-6.1.0 kiwisolver-1.4.5 matplotlib-3.8.1\n",
      "\u001b[33mWARNING: You are using pip version 21.2.4; however, version 23.3.1 is available.\n",
      "You should consider upgrading via the '/Users/mikhailrozhkov/dev/rnd/ray-dvc/.venv/bin/python3 -m pip install --upgrade pip' command.\u001b[0m\n"
     ]
    }
   ],
   "source": [
    "# !pip install matplotlib"
   ]
  },
  {
   "cell_type": "code",
   "execution_count": 229,
   "metadata": {},
   "outputs": [],
   "source": [
    "import matplotlib.pyplot as plt"
   ]
  },
  {
   "cell_type": "code",
   "execution_count": 230,
   "metadata": {
    "scrolled": true
   },
   "outputs": [
    {
     "data": {
      "text/plain": [
       "<Axes: xlabel='training_iteration'>"
      ]
     },
     "execution_count": 230,
     "metadata": {},
     "output_type": "execute_result"
    },
    {
     "data": {
      "image/png": "[encoded data removed]",
      "text/plain": [
       "<Figure size 640x480 with 1 Axes>"
      ]
     },
     "metadata": {},
     "output_type": "display_data"
    }
   ],
   "source": [
    "best_result.metrics_dataframe.plot(\"training_iteration\", \"mean_accuracy\")"
   ]
  },
  {
   "cell_type": "code",
   "execution_count": 233,
   "metadata": {
    "scrolled": true
   },
   "outputs": [
    {
     "data": {
      "text/html": [
       "<div>\n",
       "<style scoped>\n",
       "    .dataframe tbody tr th:only-of-type {\n",
       "        vertical-align: middle;\n",
       "    }\n",
       "\n",
       "    .dataframe tbody tr th {\n",
       "        vertical-align: top;\n",
       "    }\n",
       "\n",
       "    .dataframe thead th {\n",
       "        text-align: right;\n",
       "    }\n",
       "</style>\n",
       "<table border=\"1\" class=\"dataframe\">\n",
       "  <thead>\n",
       "    <tr style=\"text-align: right;\">\n",
       "      <th></th>\n",
       "      <th>training_iteration</th>\n",
       "      <th>mean_accuracy</th>\n",
       "    </tr>\n",
       "  </thead>\n",
       "  <tbody>\n",
       "    <tr>\n",
       "      <th>0</th>\n",
       "      <td>1</td>\n",
       "      <td>0.743750</td>\n",
       "    </tr>\n",
       "    <tr>\n",
       "      <th>1</th>\n",
       "      <td>2</td>\n",
       "      <td>0.796875</td>\n",
       "    </tr>\n",
       "    <tr>\n",
       "      <th>2</th>\n",
       "      <td>3</td>\n",
       "      <td>0.843750</td>\n",
       "    </tr>\n",
       "    <tr>\n",
       "      <th>3</th>\n",
       "      <td>4</td>\n",
       "      <td>0.843750</td>\n",
       "    </tr>\n",
       "    <tr>\n",
       "      <th>4</th>\n",
       "      <td>5</td>\n",
       "      <td>0.903125</td>\n",
       "    </tr>\n",
       "    <tr>\n",
       "      <th>...</th>\n",
       "      <td>...</td>\n",
       "      <td>...</td>\n",
       "    </tr>\n",
       "    <tr>\n",
       "      <th>95</th>\n",
       "      <td>96</td>\n",
       "      <td>0.946875</td>\n",
       "    </tr>\n",
       "    <tr>\n",
       "      <th>96</th>\n",
       "      <td>97</td>\n",
       "      <td>0.934375</td>\n",
       "    </tr>\n",
       "    <tr>\n",
       "      <th>97</th>\n",
       "      <td>98</td>\n",
       "      <td>0.953125</td>\n",
       "    </tr>\n",
       "    <tr>\n",
       "      <th>98</th>\n",
       "      <td>99</td>\n",
       "      <td>0.950000</td>\n",
       "    </tr>\n",
       "    <tr>\n",
       "      <th>99</th>\n",
       "      <td>100</td>\n",
       "      <td>0.965625</td>\n",
       "    </tr>\n",
       "  </tbody>\n",
       "</table>\n",
       "<p>100 rows × 2 columns</p>\n",
       "</div>"
      ],
      "text/plain": [
       "    training_iteration  mean_accuracy\n",
       "0                    1       0.743750\n",
       "1                    2       0.796875\n",
       "2                    3       0.843750\n",
       "3                    4       0.843750\n",
       "4                    5       0.903125\n",
       "..                 ...            ...\n",
       "95                  96       0.946875\n",
       "96                  97       0.934375\n",
       "97                  98       0.953125\n",
       "98                  99       0.950000\n",
       "99                 100       0.965625\n",
       "\n",
       "[100 rows x 2 columns]"
      ]
     },
     "execution_count": 233,
     "metadata": {},
     "output_type": "execute_result"
    }
   ],
   "source": [
    "best_result.metrics_dataframe.loc[:, [\"training_iteration\", \"mean_accuracy\"]]"
   ]
  },
  {
   "cell_type": "code",
   "execution_count": 234,
   "metadata": {},
   "outputs": [
    {
     "data": {
      "text/plain": [
       "Text(0, 0.5, 'Mean Test Accuracy')"
      ]
     },
     "execution_count": 234,
     "metadata": {},
     "output_type": "execute_result"
    },
    {
     "data": {
      "image/png": "[encoded data removed]",
      "text/plain": [
       "<Figure size 640x480 with 1 Axes>"
      ]
     },
     "metadata": {},
     "output_type": "display_data"
    }
   ],
   "source": [
    "ax = None\n",
    "for result in result_grid:\n",
    "    label = f\"lr={result.config['lr']:.3f}, momentum={result.config['momentum']}\"\n",
    "    if ax is None:\n",
    "        ax = result.metrics_dataframe.plot(\"training_iteration\", \"mean_accuracy\", label=label)\n",
    "    else:\n",
    "        result.metrics_dataframe.plot(\"training_iteration\", \"mean_accuracy\", ax=ax, label=label)\n",
    "ax.set_title(\"Mean Accuracy vs. Training Iteration for All Trials\")\n",
    "ax.set_ylabel(\"Mean Test Accuracy\")"
   ]
  },
  {
   "cell_type": "markdown",
   "metadata": {},
   "source": [
    "### Accessing checkpoints and loading for test inference"
   ]
  },
  {
   "cell_type": "code",
   "execution_count": 284,
   "metadata": {},
   "outputs": [],
   "source": [
    "import torch\n",
    "\n",
    "from ray.tune.examples.mnist_pytorch import ConvNet, get_data_loaders\n",
    "\n",
    "model = ConvNet()\n",
    "with best_result.checkpoint.as_directory() as checkpoint_dir:\n",
    "    # The model state dict was saved under `model.pt` by the training function\n",
    "    # imported from `ray.tune.examples.mnist_pytorch`\n",
    "    model.load_state_dict(torch.load(os.path.join(checkpoint_dir, \"model.pt\")))\n",
    "\n",
    "model_bad = ConvNet()\n",
    "with worst_performing_result.checkpoint.as_directory() as checkpoint_dir:\n",
    "    model_bad.load_state_dict(torch.load(os.path.join(checkpoint_dir, \"model.pt\")))"
   ]
  },
  {
   "cell_type": "code",
   "execution_count": 254,
   "metadata": {},
   "outputs": [
    {
     "data": {
      "text/plain": [
       "Checkpoint(filesystem=local, path=/tmp/ray_results/tune_analyzing_results/train_mnist_6b604_00002_2_lr=0.0016,momentum=0.8000_2023-11-02_14-55-02/checkpoint_000099)"
      ]
     },
     "execution_count": 254,
     "metadata": {},
     "output_type": "execute_result"
    }
   ],
   "source": [
    "worst_performing_result.checkpoint"
   ]
  },
  {
   "cell_type": "code",
   "execution_count": 255,
   "metadata": {},
   "outputs": [
    {
     "data": {
      "text/plain": [
       "Checkpoint(filesystem=local, path=/tmp/ray_results/tune_analyzing_results/train_mnist_6b604_00000_0_lr=0.0761,momentum=0.8000_2023-11-02_14-55-02/checkpoint_000099)"
      ]
     },
     "execution_count": 255,
     "metadata": {},
     "output_type": "execute_result"
    }
   ],
   "source": [
    "best_result.checkpoint"
   ]
  },
  {
   "cell_type": "code",
   "execution_count": 293,
   "metadata": {},
   "outputs": [],
   "source": [
    "import matplotlib.pyplot as plt\n",
    "\n",
    "_, test_loader = get_data_loaders()\n",
    "test_img = next(iter(test_loader))[0][0]"
   ]
  },
  {
   "cell_type": "code",
   "execution_count": 294,
   "metadata": {
    "scrolled": true
   },
   "outputs": [
    {
     "name": "stdout",
     "output_type": "stream",
     "text": [
      "Predicted Class = 7\n"
     ]
    },
    {
     "data": {
      "text/plain": [
       "<matplotlib.image.AxesImage at 0x3628a7370>"
      ]
     },
     "execution_count": 294,
     "metadata": {},
     "output_type": "execute_result"
    },
    {
     "data": {
      "image/png": "[encoded data removed]",
      "text/plain": [
       "<Figure size 200x200 with 1 Axes>"
      ]
     },
     "metadata": {},
     "output_type": "display_data"
    }
   ],
   "source": [
    "predicted_class = torch.argmax(model(test_img)).item()\n",
    "print(\"Predicted Class =\", predicted_class)\n",
    "\n",
    "# Need to reshape to (batch_size, channels, width, height)\n",
    "test_img_out = test_img.numpy().reshape((1, 1, 28, 28))\n",
    "plt.figure(figsize=(2, 2))\n",
    "plt.imshow(test_img_out.reshape((28, 28)))"
   ]
  },
  {
   "cell_type": "code",
   "execution_count": 295,
   "metadata": {
    "scrolled": true
   },
   "outputs": [
    {
     "name": "stdout",
     "output_type": "stream",
     "text": [
      "Predicted Class = 9\n"
     ]
    },
    {
     "data": {
      "text/plain": [
       "<matplotlib.image.AxesImage at 0x3628f6b20>"
      ]
     },
     "execution_count": 295,
     "metadata": {},
     "output_type": "execute_result"
    },
    {
     "data": {
      "image/png": "[encoded data removed]",
      "text/plain": [
       "<Figure size 200x200 with 1 Axes>"
      ]
     },
     "metadata": {},
     "output_type": "display_data"
    }
   ],
   "source": [
    "predicted_class = torch.argmax(model_bad(test_img)).item()\n",
    "print(\"Predicted Class =\", predicted_class)\n",
    "\n",
    "# Need to reshape to (batch_size, channels, width, height)\n",
    "test_img_out = test_img.numpy().reshape((1, 1, 28, 28))\n",
    "plt.figure(figsize=(2, 2))\n",
    "plt.imshow(test_img_out.reshape((28, 28)))"
   ]
  },
  {
   "cell_type": "code",
   "execution_count": 274,
   "metadata": {
    "scrolled": true
   },
   "outputs": [
    {
     "data": {
      "text/plain": [
       "array([[[[-0.42421296, -0.42421296, -0.42421296, -0.42421296,\n",
       "          -0.42421296, -0.42421296, -0.42421296, -0.42421296,\n",
       "          -0.42421296, -0.42421296, -0.42421296, -0.42421296,\n",
       "          -0.42421296, -0.42421296, -0.42421296, -0.42421296,\n",
       "          -0.42421296, -0.42421296, -0.42421296, -0.42421296,\n",
       "          -0.42421296, -0.42421296, -0.42421296, -0.42421296,\n",
       "          -0.42421296, -0.42421296, -0.42421296, -0.42421296],\n",
       "         [-0.42421296, -0.42421296, -0.42421296, -0.42421296,\n",
       "          -0.42421296, -0.42421296, -0.42421296, -0.42421296,\n",
       "          -0.42421296, -0.42421296, -0.42421296, -0.42421296,\n",
       "          -0.42421296, -0.42421296, -0.42421296, -0.42421296,\n",
       "          -0.42421296, -0.42421296, -0.42421296, -0.42421296,\n",
       "          -0.42421296, -0.42421296, -0.42421296, -0.42421296,\n",
       "          -0.42421296, -0.42421296, -0.42421296, -0.42421296],\n",
       "         [-0.42421296, -0.42421296, -0.42421296, -0.42421296,\n",
       "          -0.42421296, -0.42421296, -0.42421296, -0.42421296,\n",
       "          -0.42421296, -0.42421296, -0.42421296, -0.42421296,\n",
       "          -0.42421296, -0.42421296, -0.42421296, -0.42421296,\n",
       "          -0.42421296, -0.42421296, -0.42421296, -0.42421296,\n",
       "          -0.42421296, -0.42421296, -0.42421296, -0.42421296,\n",
       "          -0.42421296, -0.42421296, -0.42421296, -0.42421296],\n",
       "         [-0.42421296, -0.42421296, -0.42421296, -0.42421296,\n",
       "          -0.42421296, -0.42421296, -0.42421296, -0.42421296,\n",
       "          -0.42421296, -0.42421296, -0.42421296, -0.42421296,\n",
       "          -0.42421296, -0.42421296, -0.42421296, -0.42421296,\n",
       "          -0.42421296, -0.42421296, -0.42421296, -0.42421296,\n",
       "          -0.42421296, -0.42421296, -0.42421296, -0.42421296,\n",
       "          -0.42421296, -0.42421296, -0.42421296, -0.42421296],\n",
       "         [-0.42421296, -0.42421296, -0.42421296, -0.42421296,\n",
       "          -0.42421296, -0.42421296, -0.42421296, -0.42421296,\n",
       "          -0.42421296, -0.42421296, -0.42421296, -0.42421296,\n",
       "          -0.42421296, -0.42421296, -0.42421296, -0.42421296,\n",
       "          -0.42421296, -0.42421296, -0.42421296, -0.42421296,\n",
       "          -0.42421296, -0.42421296, -0.42421296, -0.42421296,\n",
       "          -0.42421296, -0.42421296, -0.42421296, -0.42421296],\n",
       "         [-0.42421296, -0.42421296, -0.42421296, -0.42421296,\n",
       "          -0.42421296, -0.42421296, -0.42421296, -0.42421296,\n",
       "          -0.42421296, -0.42421296, -0.42421296, -0.42421296,\n",
       "          -0.42421296, -0.42421296, -0.42421296, -0.42421296,\n",
       "          -0.42421296, -0.42421296, -0.42421296, -0.42421296,\n",
       "          -0.42421296, -0.42421296, -0.42421296, -0.42421296,\n",
       "          -0.42421296, -0.42421296, -0.42421296, -0.42421296],\n",
       "         [-0.42421296, -0.42421296, -0.42421296, -0.42421296,\n",
       "          -0.42421296, -0.42421296, -0.42421296, -0.41148472,\n",
       "          -0.1823765 ,  1.2304575 ,  1.0140774 ,  0.70859987,\n",
       "           1.2304575 ,  2.3632703 ,  2.8087585 ,  2.8087585 ,\n",
       "           2.8087585 ,  0.1994705 , -0.42421296, -0.42421296,\n",
       "          -0.42421296, -0.42421296, -0.42421296, -0.42421296,\n",
       "          -0.42421296, -0.42421296, -0.42421296, -0.42421296],\n",
       "         [-0.42421296, -0.42421296, -0.42421296, -0.42421296,\n",
       "          -0.42421296, -0.42421296, -0.42421296,  0.59404576,\n",
       "           2.7960303 ,  2.7960303 ,  2.7960303 ,  2.7960303 ,\n",
       "           2.7960303 ,  2.7960303 ,  2.7960303 ,  2.7960303 ,\n",
       "           2.7960303 ,  0.1994705 , -0.42421296, -0.42421296,\n",
       "          -0.42421296, -0.42421296, -0.42421296, -0.42421296,\n",
       "          -0.42421296, -0.42421296, -0.42421296, -0.42421296],\n",
       "         [-0.42421296, -0.42421296, -0.42421296, -0.42421296,\n",
       "          -0.42421296, -0.42421296, -0.42421296, -0.30965886,\n",
       "           1.905054  ,  2.7069325 ,  2.7705739 ,  2.566922  ,\n",
       "           2.566922  ,  2.2105315 ,  2.1978033 ,  2.7960303 ,\n",
       "           2.7960303 ,  0.1994705 , -0.42421296, -0.42421296,\n",
       "          -0.42421296, -0.42421296, -0.42421296, -0.42421296,\n",
       "          -0.42421296, -0.42421296, -0.42421296, -0.42421296],\n",
       "         [-0.42421296, -0.42421296, -0.42421296, -0.42421296,\n",
       "          -0.42421296, -0.42421296, -0.42421296, -0.42421296,\n",
       "          -0.42421296,  0.40312228,  0.7213281 , -0.42421296,\n",
       "          -0.42421296, -0.42421296,  0.37766576,  2.7960303 ,\n",
       "           2.7960303 ,  0.1994705 , -0.42421296, -0.42421296,\n",
       "          -0.42421296, -0.42421296, -0.42421296, -0.42421296,\n",
       "          -0.42421296, -0.42421296, -0.42421296, -0.42421296],\n",
       "         [-0.42421296, -0.42421296, -0.42421296, -0.42421296,\n",
       "          -0.42421296, -0.42421296, -0.42421296, -0.42421296,\n",
       "          -0.42421296, -0.42421296, -0.42421296, -0.42421296,\n",
       "          -0.42421296, -0.42421296,  0.5685893 ,  2.7960303 ,\n",
       "           2.681476  ,  0.12310111, -0.42421296, -0.42421296,\n",
       "          -0.42421296, -0.42421296, -0.42421296, -0.42421296,\n",
       "          -0.42421296, -0.42421296, -0.42421296, -0.42421296],\n",
       "         [-0.42421296, -0.42421296, -0.42421296, -0.42421296,\n",
       "          -0.42421296, -0.42421296, -0.42421296, -0.42421296,\n",
       "          -0.42421296, -0.42421296, -0.42421296, -0.42421296,\n",
       "          -0.42421296, -0.42421296,  1.9432386 ,  2.7960303 ,\n",
       "           1.854141  , -0.42421296, -0.42421296, -0.42421296,\n",
       "          -0.42421296, -0.42421296, -0.42421296, -0.42421296,\n",
       "          -0.42421296, -0.42421296, -0.42421296, -0.42421296],\n",
       "         [-0.42421296, -0.42421296, -0.42421296, -0.42421296,\n",
       "          -0.42421296, -0.42421296, -0.42421296, -0.42421296,\n",
       "          -0.42421296, -0.42421296, -0.42421296, -0.42421296,\n",
       "          -0.42421296, -0.42421296,  1.9432386 ,  2.7960303 ,\n",
       "           1.854141  , -0.42421296, -0.42421296, -0.42421296,\n",
       "          -0.42421296, -0.42421296, -0.42421296, -0.42421296,\n",
       "          -0.42421296, -0.42421296, -0.42421296, -0.42421296],\n",
       "         [-0.42421296, -0.42421296, -0.42421296, -0.42421296,\n",
       "          -0.42421296, -0.42421296, -0.42421296, -0.42421296,\n",
       "          -0.42421296, -0.42421296, -0.42421296, -0.42421296,\n",
       "          -0.42421296, -0.42421296,  1.9432386 ,  2.7960303 ,\n",
       "           1.854141  , -0.42421296, -0.42421296, -0.42421296,\n",
       "          -0.42421296, -0.42421296, -0.42421296, -0.42421296,\n",
       "          -0.42421296, -0.42421296, -0.42421296, -0.42421296],\n",
       "         [-0.42421296, -0.42421296, -0.42421296, -0.42421296,\n",
       "          -0.42421296, -0.42421296, -0.42421296, -0.42421296,\n",
       "          -0.42421296, -0.42421296, -0.42421296, -0.42421296,\n",
       "          -0.42421296, -0.42421296,  1.9432386 ,  2.7960303 ,\n",
       "           2.0577927 ,  0.28856814,  0.8358821 ,  1.103175  ,\n",
       "           1.8668692 ,  1.8668692 ,  0.08491641, -0.42421296,\n",
       "          -0.42421296, -0.42421296, -0.42421296, -0.42421296],\n",
       "         [-0.42421296, -0.42421296, -0.42421296, -0.42421296,\n",
       "          -0.42421296, -0.42421296, -0.42421296, -0.42421296,\n",
       "          -0.42421296, -0.42421296, -0.42421296, -0.42421296,\n",
       "          -0.42421296,  0.14855757,  2.1596186 ,  2.7960303 ,\n",
       "           2.7960303 ,  2.7960303 ,  2.7960303 ,  2.7960303 ,\n",
       "           2.7960303 ,  2.7960303 ,  1.0013492 , -0.42421296,\n",
       "          -0.42421296, -0.42421296, -0.42421296, -0.42421296],\n",
       "         [-0.42421296, -0.42421296, -0.42421296, -0.42421296,\n",
       "          -0.42421296, -0.42421296, -0.42421296, -0.42421296,\n",
       "           0.09764464,  0.45403522,  0.45403522,  1.4850222 ,\n",
       "           2.019608  ,  2.5796502 ,  2.7960303 ,  2.7960303 ,\n",
       "           2.7960303 ,  2.7960303 ,  2.7960303 ,  2.0577927 ,\n",
       "           1.9305104 ,  1.2686423 , -0.3605718 , -0.42421296,\n",
       "          -0.42421296, -0.42421296, -0.42421296, -0.42421296],\n",
       "         [-0.42421296, -0.42421296, -0.42421296, -0.42421296,\n",
       "          -0.42421296, -0.42421296, -0.37330002,  1.4086528 ,\n",
       "           2.516009  ,  2.7960303 ,  2.7960303 ,  2.7960303 ,\n",
       "           2.7960303 ,  2.7960303 ,  2.7960303 ,  2.7960303 ,\n",
       "           2.0577927 ,  0.58131754,  0.2758399 , -0.3223871 ,\n",
       "          -0.42421296, -0.42421296, -0.42421296, -0.42421296,\n",
       "          -0.42421296, -0.42421296, -0.42421296, -0.42421296],\n",
       "         [-0.42421296, -0.42421296, -0.42421296, -0.42421296,\n",
       "          -0.42421296, -0.42421296, -0.25874594,  2.7960303 ,\n",
       "           2.7960303 ,  2.668748  ,  1.7650434 ,  1.4977505 ,\n",
       "           0.50494814,  1.9941516 ,  2.7960303 ,  2.0959773 ,\n",
       "          -0.2842024 , -0.42421296, -0.42421296, -0.42421296,\n",
       "          -0.42421296, -0.42421296, -0.42421296, -0.42421296,\n",
       "          -0.42421296, -0.42421296, -0.42421296, -0.42421296],\n",
       "         [-0.42421296, -0.42421296, -0.42421296, -0.42421296,\n",
       "          -0.42421296, -0.42421296, -0.38602826,  1.0140774 ,\n",
       "           0.77224106,  0.05945994, -0.42421296, -0.42421296,\n",
       "          -0.42421296,  0.28856814,  2.7960303 ,  1.9305104 ,\n",
       "          -0.42421296, -0.42421296, -0.42421296, -0.42421296,\n",
       "          -0.42421296, -0.42421296, -0.42421296, -0.42421296,\n",
       "          -0.42421296, -0.42421296, -0.42421296, -0.42421296],\n",
       "         [-0.42421296, -0.42421296, -0.42421296, -0.42421296,\n",
       "          -0.42421296, -0.42421296, -0.42421296, -0.42421296,\n",
       "          -0.42421296, -0.42421296, -0.42421296, -0.42421296,\n",
       "          -0.42421296,  0.28856814,  2.7960303 ,  1.9305104 ,\n",
       "          -0.42421296, -0.42421296, -0.42421296, -0.42421296,\n",
       "          -0.42421296, -0.42421296, -0.42421296, -0.42421296,\n",
       "          -0.42421296, -0.42421296, -0.42421296, -0.42421296],\n",
       "         [-0.42421296, -0.42421296, -0.42421296, -0.42421296,\n",
       "          -0.42421296, -0.42421296, -0.42421296, -0.42421296,\n",
       "          -0.42421296, -0.42421296, -0.42421296, -0.42421296,\n",
       "          -0.42421296,  0.91225153,  2.7960303 ,  1.9305104 ,\n",
       "          -0.42421296, -0.42421296, -0.42421296, -0.42421296,\n",
       "          -0.42421296, -0.42421296, -0.42421296, -0.42421296,\n",
       "          -0.42421296, -0.42421296, -0.42421296, -0.42421296],\n",
       "         [-0.42421296, -0.42421296, -0.42421296, -0.42421296,\n",
       "          -0.42421296, -0.42421296, -0.42421296, -0.42421296,\n",
       "          -0.42421296, -0.42421296, -0.42421296, -0.42421296,\n",
       "          -0.42421296,  1.8668692 ,  2.7960303 ,  1.9305104 ,\n",
       "          -0.42421296, -0.42421296, -0.42421296, -0.42421296,\n",
       "          -0.42421296, -0.42421296, -0.42421296, -0.42421296,\n",
       "          -0.42421296, -0.42421296, -0.42421296, -0.42421296],\n",
       "         [-0.42421296, -0.42421296, -0.42421296, -0.42421296,\n",
       "          -0.42421296, -0.42421296, -0.42421296, -0.42421296,\n",
       "          -0.42421296, -0.42421296, -0.42421296, -0.42421296,\n",
       "          -0.42421296,  1.8668692 ,  2.7960303 ,  1.9305104 ,\n",
       "          -0.42421296, -0.42421296, -0.42421296, -0.42421296,\n",
       "          -0.42421296, -0.42421296, -0.42421296, -0.42421296,\n",
       "          -0.42421296, -0.42421296, -0.42421296, -0.42421296],\n",
       "         [-0.42421296, -0.42421296, -0.42421296, -0.42421296,\n",
       "          -0.42421296, -0.42421296, -0.42421296, -0.42421296,\n",
       "          -0.42421296, -0.42421296, -0.42421296, -0.42421296,\n",
       "          -0.42421296,  1.8668692 ,  2.7960303 ,  1.9305104 ,\n",
       "          -0.42421296, -0.42421296, -0.42421296, -0.42421296,\n",
       "          -0.42421296, -0.42421296, -0.42421296, -0.42421296,\n",
       "          -0.42421296, -0.42421296, -0.42421296, -0.42421296],\n",
       "         [-0.42421296, -0.42421296, -0.42421296, -0.42421296,\n",
       "          -0.42421296, -0.42421296, -0.42421296, -0.42421296,\n",
       "          -0.42421296, -0.42421296, -0.42421296, -0.42421296,\n",
       "          -0.42421296,  0.32675284,  2.7960303 ,  1.1668162 ,\n",
       "          -0.42421296, -0.42421296, -0.42421296, -0.42421296,\n",
       "          -0.42421296, -0.42421296, -0.42421296, -0.42421296,\n",
       "          -0.42421296, -0.42421296, -0.42421296, -0.42421296],\n",
       "         [-0.42421296, -0.42421296, -0.42421296, -0.42421296,\n",
       "          -0.42421296, -0.42421296, -0.42421296, -0.42421296,\n",
       "          -0.42421296, -0.42421296, -0.42421296, -0.42421296,\n",
       "          -0.42421296, -0.42421296, -0.42421296, -0.42421296,\n",
       "          -0.42421296, -0.42421296, -0.42421296, -0.42421296,\n",
       "          -0.42421296, -0.42421296, -0.42421296, -0.42421296,\n",
       "          -0.42421296, -0.42421296, -0.42421296, -0.42421296],\n",
       "         [-0.42421296, -0.42421296, -0.42421296, -0.42421296,\n",
       "          -0.42421296, -0.42421296, -0.42421296, -0.42421296,\n",
       "          -0.42421296, -0.42421296, -0.42421296, -0.42421296,\n",
       "          -0.42421296, -0.42421296, -0.42421296, -0.42421296,\n",
       "          -0.42421296, -0.42421296, -0.42421296, -0.42421296,\n",
       "          -0.42421296, -0.42421296, -0.42421296, -0.42421296,\n",
       "          -0.42421296, -0.42421296, -0.42421296, -0.42421296]]]],\n",
       "      dtype=float32)"
      ]
     },
     "execution_count": 274,
     "metadata": {},
     "output_type": "execute_result"
    }
   ],
   "source": [
    "test_img"
   ]
  },
  {
   "cell_type": "markdown",
   "metadata": {},
   "source": [
    "## Custom Reporter "
   ]
  },
  {
   "cell_type": "code",
   "execution_count": 180,
   "metadata": {
    "scrolled": true
   },
   "outputs": [],
   "source": [
    "from ray import air\n",
    "from ray.tune import ProgressReporter\n",
    "\n",
    "from typing import Dict, List\n",
    "\n",
    "import json\n",
    "import os\n",
    "\n",
    "from ray.tune.logger import LoggerCallback, JsonLoggerCallback\n",
    "\n",
    "class CustomReporter(ProgressReporter):\n",
    "\n",
    "    def should_report(self, trials, done=False):\n",
    "        return True\n",
    "\n",
    "    def report(self, trials, *sys_info):\n",
    "        print(\"---\")\n",
    "        print(\"CUSTOM REPORTER\")\n",
    "        print(*sys_info)\n",
    "        print(\"TRIAL: \", trials[0])\n",
    "        s = \"\\n\".join([str(trial) for trial in trials])\n",
    "\n",
    "        with open(\"custom_reporter_log.txt\", \"a\") as log:\n",
    "            log.write(s)\n",
    "\n",
    "class CustomLoggerCallback(LoggerCallback):\n",
    "    \"\"\"Custom logger interface\"\"\"\n",
    "\n",
    "    def __init__(self, filename: str = \"log.txt\"):\n",
    "        self._trial_files = {}\n",
    "        self._filename = filename\n",
    "\n",
    "    def log_trial_start(self, trial: \"Trial\"):\n",
    "        # trial_logfile = os.path.join(trial.logdir, self._filename)\n",
    "        trial_logfile = self._filename\n",
    "        self._trial_files[trial] = open(trial_logfile, \"at\")\n",
    "\n",
    "    def log_trial_result(self, iteration: int, trial: \"Trial\", result: Dict):\n",
    "        if trial in self._trial_files:\n",
    "            self._trial_files[trial].write(json.dumps(result))\n",
    "\n",
    "    def on_trial_complete(self, iteration: int, trials: List[\"Trial\"],\n",
    "                          trial: \"Trial\", **info):\n",
    "        if trial in self._trial_files:\n",
    "            self._trial_files[trial].close()\n",
    "            del self._trial_files[trial]\n",
    "\n",
    "    # def on_step_end(self, iteration: int, trials: List[\"Trial\"]):\n",
    "    #     if trial in self._trial_files:\n",
    "    #         self._trial_files[trial].write(json.dumps(result))\n",
    "            \n",
    "    #         self._filename.write(json.dumps(trial))\n",
    "\n",
    "\n",
    "        "
   ]
  },
  {
   "cell_type": "code",
   "execution_count": 184,
   "metadata": {
    "scrolled": true
   },
   "outputs": [
    {
     "data": {
      "text/plain": [
       "<ray.tune.tuner.Tuner at 0x35afd7ca0>"
      ]
     },
     "execution_count": 184,
     "metadata": {},
     "output_type": "execute_result"
    }
   ],
   "source": [
    "import logging\n",
    "\n",
    "# First, get the handle for the logger you want to modify\n",
    "ray_tune_logger = logging.getLogger(\"ray.tune\")\n",
    "\n",
    "# Other loggers can be modified similarly.\n",
    "# Here's how to add an aditional file handler for Ray Tune:\n",
    "ray_tune_logger.addHandler(logging.FileHandler(\"extra_ray_tune_log.log\"))\n",
    "\n",
    "tuner = tune.Tuner(\n",
    "    train_mnist,\n",
    "    param_space={\n",
    "        \"lr\": tune.loguniform(0.001, 0.1),\n",
    "        \"momentum\": tune.grid_search([0.8, 0.9]),\n",
    "        \"should_checkpoint\": True,\n",
    "    },\n",
    "    run_config=train.RunConfig(\n",
    "        name=exp_name,\n",
    "        stop={\"training_iteration\": 100},\n",
    "        checkpoint_config=train.CheckpointConfig(\n",
    "            checkpoint_score_attribute=\"mean_accuracy\",\n",
    "            num_to_keep=5,\n",
    "        ),\n",
    "        storage_path=storage_path,\n",
    "        # progress_reporter=CustomReporter(),\n",
    "        # callbacks=[CustomLoggerCallback(\"log_test.txt\")]\n",
    "        # callbacks=[JsonLoggerCallback]\n",
    "    ),\n",
    "    tune_config=tune.TuneConfig(mode=\"max\", metric=\"mean_accuracy\", num_samples=3),\n",
    ")\n",
    "tuner"
   ]
  },
  {
   "cell_type": "code",
   "execution_count": 186,
   "metadata": {
    "scrolled": true
   },
   "outputs": [
    {
     "data": {
      "text/html": [
       "<div class=\"tuneStatus\">\n",
       "  <div style=\"display: flex;flex-direction: row\">\n",
       "    <div style=\"display: flex;flex-direction: column;\">\n",
       "      <h3>Tune Status</h3>\n",
       "      <table>\n",
       "<tbody>\n",
       "<tr><td>Current time:</td><td>2023-11-02 14:55:12</td></tr>\n",
       "<tr><td>Running for: </td><td>00:00:09.83        </td></tr>\n",
       "<tr><td>Memory:      </td><td>30.4/64.0 GiB      </td></tr>\n",
       "</tbody>\n",
       "</table>\n",
       "    </div>\n",
       "    <div class=\"vDivider\"></div>\n",
       "    <div class=\"systemInfo\">\n",
       "      <h3>System Info</h3>\n",
       "      Using FIFO scheduling algorithm.<br>Logical resource usage: 2.0/12 CPUs, 0/0 GPUs\n",
       "    </div>\n",
       "    \n",
       "  </div>\n",
       "  <div class=\"hDivider\"></div>\n",
       "  <div class=\"trialStatus\">\n",
       "    <h3>Trial Status</h3>\n",
       "    <table>\n",
       "<thead>\n",
       "<tr><th>Trial name             </th><th>status    </th><th>loc            </th><th style=\"text-align: right;\">        lr</th><th style=\"text-align: right;\">  momentum</th><th style=\"text-align: right;\">     acc</th><th style=\"text-align: right;\">  iter</th><th style=\"text-align: right;\">  total time (s)</th></tr>\n",
       "</thead>\n",
       "<tbody>\n",
       "<tr><td>train_mnist_6b604_00000</td><td>TERMINATED</td><td>127.0.0.1:37127</td><td style=\"text-align: right;\">0.0760828 </td><td style=\"text-align: right;\">       0.8</td><td style=\"text-align: right;\">0.965625</td><td style=\"text-align: right;\">   100</td><td style=\"text-align: right;\">         6.48132</td></tr>\n",
       "<tr><td>train_mnist_6b604_00001</td><td>TERMINATED</td><td>127.0.0.1:37128</td><td style=\"text-align: right;\">0.00397348</td><td style=\"text-align: right;\">       0.9</td><td style=\"text-align: right;\">0.940625</td><td style=\"text-align: right;\">   100</td><td style=\"text-align: right;\">         6.43811</td></tr>\n",
       "<tr><td>train_mnist_6b604_00002</td><td>TERMINATED</td><td>127.0.0.1:37129</td><td style=\"text-align: right;\">0.00160279</td><td style=\"text-align: right;\">       0.8</td><td style=\"text-align: right;\">0.9     </td><td style=\"text-align: right;\">   100</td><td style=\"text-align: right;\">         6.27644</td></tr>\n",
       "<tr><td>train_mnist_6b604_00003</td><td>TERMINATED</td><td>127.0.0.1:37130</td><td style=\"text-align: right;\">0.00715634</td><td style=\"text-align: right;\">       0.9</td><td style=\"text-align: right;\">0.940625</td><td style=\"text-align: right;\">   100</td><td style=\"text-align: right;\">         6.40394</td></tr>\n",
       "<tr><td>train_mnist_6b604_00004</td><td>TERMINATED</td><td>127.0.0.1:37131</td><td style=\"text-align: right;\">0.00959317</td><td style=\"text-align: right;\">       0.8</td><td style=\"text-align: right;\">0.94375 </td><td style=\"text-align: right;\">   100</td><td style=\"text-align: right;\">         6.34966</td></tr>\n",
       "<tr><td>train_mnist_6b604_00005</td><td>TERMINATED</td><td>127.0.0.1:37132</td><td style=\"text-align: right;\">0.00350705</td><td style=\"text-align: right;\">       0.9</td><td style=\"text-align: right;\">0.903125</td><td style=\"text-align: right;\">   100</td><td style=\"text-align: right;\">         6.36962</td></tr>\n",
       "</tbody>\n",
       "</table>\n",
       "  </div>\n",
       "</div>\n",
       "<style>\n",
       ".tuneStatus {\n",
       "  color: var(--jp-ui-font-color1);\n",
       "}\n",
       ".tuneStatus .systemInfo {\n",
       "  display: flex;\n",
       "  flex-direction: column;\n",
       "}\n",
       ".tuneStatus td {\n",
       "  white-space: nowrap;\n",
       "}\n",
       ".tuneStatus .trialStatus {\n",
       "  display: flex;\n",
       "  flex-direction: column;\n",
       "}\n",
       ".tuneStatus h3 {\n",
       "  font-weight: bold;\n",
       "}\n",
       ".tuneStatus .hDivider {\n",
       "  border-bottom-width: var(--jp-border-width);\n",
       "  border-bottom-color: var(--jp-border-color0);\n",
       "  border-bottom-style: solid;\n",
       "}\n",
       ".tuneStatus .vDivider {\n",
       "  border-left-width: var(--jp-border-width);\n",
       "  border-left-color: var(--jp-border-color0);\n",
       "  border-left-style: solid;\n",
       "  margin: 0.5em 1em 0.5em 1em;\n",
       "}\n",
       "</style>\n"
      ],
      "text/plain": [
       "<IPython.core.display.HTML object>"
      ]
     },
     "metadata": {},
     "output_type": "display_data"
    },
    {
     "name": "stderr",
     "output_type": "stream",
     "text": [
      "\u001b[2m\u001b[36m(train_mnist pid=37131)\u001b[0m Checkpoint successfully created at: Checkpoint(filesystem=local, path=/tmp/ray_results/tune_analyzing_results/train_mnist_6b604_00004_4_lr=0.0096,momentum=0.8000_2023-11-02_14-55-02/checkpoint_000000)\n",
      "\u001b[2m\u001b[36m(train_mnist pid=37131)\u001b[0m Checkpoint successfully created at: Checkpoint(filesystem=local, path=/tmp/ray_results/tune_analyzing_results/train_mnist_6b604_00004_4_lr=0.0096,momentum=0.8000_2023-11-02_14-55-02/checkpoint_000001)\n",
      "\u001b[2m\u001b[36m(train_mnist pid=37131)\u001b[0m Checkpoint successfully created at: Checkpoint(filesystem=local, path=/tmp/ray_results/tune_analyzing_results/train_mnist_6b604_00004_4_lr=0.0096,momentum=0.8000_2023-11-02_14-55-02/checkpoint_000002)\n",
      "\u001b[2m\u001b[36m(train_mnist pid=37131)\u001b[0m Checkpoint successfully created at: Checkpoint(filesystem=local, path=/tmp/ray_results/tune_analyzing_results/train_mnist_6b604_00004_4_lr=0.0096,momentum=0.8000_2023-11-02_14-55-02/checkpoint_000003)\n",
      "2023-11-02 14:55:05,446\tWARNING experiment_state.py:371 -- Experiment checkpoint syncing has been triggered multiple times in the last 30.0 seconds. A sync will be triggered whenever a trial has checkpointed more than `num_to_keep` times since last sync or if 300 seconds have passed since last sync. If you have set `num_to_keep` in your `CheckpointConfig`, consider increasing the checkpoint frequency or keeping more checkpoints. You can supress this warning by changing the `TUNE_WARN_EXCESSIVE_EXPERIMENT_CHECKPOINT_SYNC_THRESHOLD_S` environment variable.\n",
      "2023-11-02 14:55:05,711\tWARNING experiment_state.py:371 -- Experiment checkpoint syncing has been triggered multiple times in the last 30.0 seconds. A sync will be triggered whenever a trial has checkpointed more than `num_to_keep` times since last sync or if 300 seconds have passed since last sync. If you have set `num_to_keep` in your `CheckpointConfig`, consider increasing the checkpoint frequency or keeping more checkpoints. You can supress this warning by changing the `TUNE_WARN_EXCESSIVE_EXPERIMENT_CHECKPOINT_SYNC_THRESHOLD_S` environment variable.\n",
      "2023-11-02 14:55:06,003\tWARNING experiment_state.py:371 -- Experiment checkpoint syncing has been triggered multiple times in the last 30.0 seconds. A sync will be triggered whenever a trial has checkpointed more than `num_to_keep` times since last sync or if 300 seconds have passed since last sync. If you have set `num_to_keep` in your `CheckpointConfig`, consider increasing the checkpoint frequency or keeping more checkpoints. You can supress this warning by changing the `TUNE_WARN_EXCESSIVE_EXPERIMENT_CHECKPOINT_SYNC_THRESHOLD_S` environment variable.\n",
      "2023-11-02 14:55:06,284\tWARNING experiment_state.py:371 -- Experiment checkpoint syncing has been triggered multiple times in the last 30.0 seconds. A sync will be triggered whenever a trial has checkpointed more than `num_to_keep` times since last sync or if 300 seconds have passed since last sync. If you have set `num_to_keep` in your `CheckpointConfig`, consider increasing the checkpoint frequency or keeping more checkpoints. You can supress this warning by changing the `TUNE_WARN_EXCESSIVE_EXPERIMENT_CHECKPOINT_SYNC_THRESHOLD_S` environment variable.\n",
      "2023-11-02 14:55:06,600\tWARNING experiment_state.py:371 -- Experiment checkpoint syncing has been triggered multiple times in the last 30.0 seconds. A sync will be triggered whenever a trial has checkpointed more than `num_to_keep` times since last sync or if 300 seconds have passed since last sync. If you have set `num_to_keep` in your `CheckpointConfig`, consider increasing the checkpoint frequency or keeping more checkpoints. You can supress this warning by changing the `TUNE_WARN_EXCESSIVE_EXPERIMENT_CHECKPOINT_SYNC_THRESHOLD_S` environment variable.\n",
      "2023-11-02 14:55:06,895\tWARNING experiment_state.py:371 -- Experiment checkpoint syncing has been triggered multiple times in the last 30.0 seconds. A sync will be triggered whenever a trial has checkpointed more than `num_to_keep` times since last sync or if 300 seconds have passed since last sync. If you have set `num_to_keep` in your `CheckpointConfig`, consider increasing the checkpoint frequency or keeping more checkpoints. You can supress this warning by changing the `TUNE_WARN_EXCESSIVE_EXPERIMENT_CHECKPOINT_SYNC_THRESHOLD_S` environment variable.\n",
      "2023-11-02 14:55:07,174\tWARNING experiment_state.py:371 -- Experiment checkpoint syncing has been triggered multiple times in the last 30.0 seconds. A sync will be triggered whenever a trial has checkpointed more than `num_to_keep` times since last sync or if 300 seconds have passed since last sync. If you have set `num_to_keep` in your `CheckpointConfig`, consider increasing the checkpoint frequency or keeping more checkpoints. You can supress this warning by changing the `TUNE_WARN_EXCESSIVE_EXPERIMENT_CHECKPOINT_SYNC_THRESHOLD_S` environment variable.\n",
      "2023-11-02 14:55:07,476\tWARNING experiment_state.py:371 -- Experiment checkpoint syncing has been triggered multiple times in the last 30.0 seconds. A sync will be triggered whenever a trial has checkpointed more than `num_to_keep` times since last sync or if 300 seconds have passed since last sync. If you have set `num_to_keep` in your `CheckpointConfig`, consider increasing the checkpoint frequency or keeping more checkpoints. You can supress this warning by changing the `TUNE_WARN_EXCESSIVE_EXPERIMENT_CHECKPOINT_SYNC_THRESHOLD_S` environment variable.\n",
      "2023-11-02 14:55:07,749\tWARNING experiment_state.py:371 -- Experiment checkpoint syncing has been triggered multiple times in the last 30.0 seconds. A sync will be triggered whenever a trial has checkpointed more than `num_to_keep` times since last sync or if 300 seconds have passed since last sync. If you have set `num_to_keep` in your `CheckpointConfig`, consider increasing the checkpoint frequency or keeping more checkpoints. You can supress this warning by changing the `TUNE_WARN_EXCESSIVE_EXPERIMENT_CHECKPOINT_SYNC_THRESHOLD_S` environment variable.\n",
      "2023-11-02 14:55:08,022\tWARNING experiment_state.py:371 -- Experiment checkpoint syncing has been triggered multiple times in the last 30.0 seconds. A sync will be triggered whenever a trial has checkpointed more than `num_to_keep` times since last sync or if 300 seconds have passed since last sync. If you have set `num_to_keep` in your `CheckpointConfig`, consider increasing the checkpoint frequency or keeping more checkpoints. You can supress this warning by changing the `TUNE_WARN_EXCESSIVE_EXPERIMENT_CHECKPOINT_SYNC_THRESHOLD_S` environment variable.\n",
      "2023-11-02 14:55:08,305\tWARNING experiment_state.py:371 -- Experiment checkpoint syncing has been triggered multiple times in the last 30.0 seconds. A sync will be triggered whenever a trial has checkpointed more than `num_to_keep` times since last sync or if 300 seconds have passed since last sync. If you have set `num_to_keep` in your `CheckpointConfig`, consider increasing the checkpoint frequency or keeping more checkpoints. You can supress this warning by changing the `TUNE_WARN_EXCESSIVE_EXPERIMENT_CHECKPOINT_SYNC_THRESHOLD_S` environment variable.\n",
      "2023-11-02 14:55:08,580\tWARNING experiment_state.py:371 -- Experiment checkpoint syncing has been triggered multiple times in the last 30.0 seconds. A sync will be triggered whenever a trial has checkpointed more than `num_to_keep` times since last sync or if 300 seconds have passed since last sync. If you have set `num_to_keep` in your `CheckpointConfig`, consider increasing the checkpoint frequency or keeping more checkpoints. You can supress this warning by changing the `TUNE_WARN_EXCESSIVE_EXPERIMENT_CHECKPOINT_SYNC_THRESHOLD_S` environment variable.\n",
      "2023-11-02 14:55:08,865\tWARNING experiment_state.py:371 -- Experiment checkpoint syncing has been triggered multiple times in the last 30.0 seconds. A sync will be triggered whenever a trial has checkpointed more than `num_to_keep` times since last sync or if 300 seconds have passed since last sync. If you have set `num_to_keep` in your `CheckpointConfig`, consider increasing the checkpoint frequency or keeping more checkpoints. You can supress this warning by changing the `TUNE_WARN_EXCESSIVE_EXPERIMENT_CHECKPOINT_SYNC_THRESHOLD_S` environment variable.\n",
      "2023-11-02 14:55:09,138\tWARNING experiment_state.py:371 -- Experiment checkpoint syncing has been triggered multiple times in the last 30.0 seconds. A sync will be triggered whenever a trial has checkpointed more than `num_to_keep` times since last sync or if 300 seconds have passed since last sync. If you have set `num_to_keep` in your `CheckpointConfig`, consider increasing the checkpoint frequency or keeping more checkpoints. You can supress this warning by changing the `TUNE_WARN_EXCESSIVE_EXPERIMENT_CHECKPOINT_SYNC_THRESHOLD_S` environment variable.\n",
      "2023-11-02 14:55:09,425\tWARNING experiment_state.py:371 -- Experiment checkpoint syncing has been triggered multiple times in the last 30.0 seconds. A sync will be triggered whenever a trial has checkpointed more than `num_to_keep` times since last sync or if 300 seconds have passed since last sync. If you have set `num_to_keep` in your `CheckpointConfig`, consider increasing the checkpoint frequency or keeping more checkpoints. You can supress this warning by changing the `TUNE_WARN_EXCESSIVE_EXPERIMENT_CHECKPOINT_SYNC_THRESHOLD_S` environment variable.\n",
      "2023-11-02 14:55:09,714\tWARNING experiment_state.py:371 -- Experiment checkpoint syncing has been triggered multiple times in the last 30.0 seconds. A sync will be triggered whenever a trial has checkpointed more than `num_to_keep` times since last sync or if 300 seconds have passed since last sync. If you have set `num_to_keep` in your `CheckpointConfig`, consider increasing the checkpoint frequency or keeping more checkpoints. You can supress this warning by changing the `TUNE_WARN_EXCESSIVE_EXPERIMENT_CHECKPOINT_SYNC_THRESHOLD_S` environment variable.\n",
      "2023-11-02 14:55:09,984\tWARNING experiment_state.py:371 -- Experiment checkpoint syncing has been triggered multiple times in the last 30.0 seconds. A sync will be triggered whenever a trial has checkpointed more than `num_to_keep` times since last sync or if 300 seconds have passed since last sync. If you have set `num_to_keep` in your `CheckpointConfig`, consider increasing the checkpoint frequency or keeping more checkpoints. You can supress this warning by changing the `TUNE_WARN_EXCESSIVE_EXPERIMENT_CHECKPOINT_SYNC_THRESHOLD_S` environment variable.\n",
      "2023-11-02 14:55:10,286\tWARNING experiment_state.py:371 -- Experiment checkpoint syncing has been triggered multiple times in the last 30.0 seconds. A sync will be triggered whenever a trial has checkpointed more than `num_to_keep` times since last sync or if 300 seconds have passed since last sync. If you have set `num_to_keep` in your `CheckpointConfig`, consider increasing the checkpoint frequency or keeping more checkpoints. You can supress this warning by changing the `TUNE_WARN_EXCESSIVE_EXPERIMENT_CHECKPOINT_SYNC_THRESHOLD_S` environment variable.\n",
      "\u001b[2m\u001b[36m(train_mnist pid=37131)\u001b[0m Checkpoint successfully created at: Checkpoint(filesystem=local, path=/tmp/ray_results/tune_analyzing_results/train_mnist_6b604_00004_4_lr=0.0096,momentum=0.8000_2023-11-02_14-55-02/checkpoint_000076)\u001b[32m [repeated 436x across cluster]\u001b[0m\n",
      "2023-11-02 14:55:10,557\tWARNING experiment_state.py:371 -- Experiment checkpoint syncing has been triggered multiple times in the last 30.0 seconds. A sync will be triggered whenever a trial has checkpointed more than `num_to_keep` times since last sync or if 300 seconds have passed since last sync. If you have set `num_to_keep` in your `CheckpointConfig`, consider increasing the checkpoint frequency or keeping more checkpoints. You can supress this warning by changing the `TUNE_WARN_EXCESSIVE_EXPERIMENT_CHECKPOINT_SYNC_THRESHOLD_S` environment variable.\n",
      "2023-11-02 14:55:10,827\tWARNING experiment_state.py:371 -- Experiment checkpoint syncing has been triggered multiple times in the last 30.0 seconds. A sync will be triggered whenever a trial has checkpointed more than `num_to_keep` times since last sync or if 300 seconds have passed since last sync. If you have set `num_to_keep` in your `CheckpointConfig`, consider increasing the checkpoint frequency or keeping more checkpoints. You can supress this warning by changing the `TUNE_WARN_EXCESSIVE_EXPERIMENT_CHECKPOINT_SYNC_THRESHOLD_S` environment variable.\n",
      "2023-11-02 14:55:11,102\tWARNING experiment_state.py:371 -- Experiment checkpoint syncing has been triggered multiple times in the last 30.0 seconds. A sync will be triggered whenever a trial has checkpointed more than `num_to_keep` times since last sync or if 300 seconds have passed since last sync. If you have set `num_to_keep` in your `CheckpointConfig`, consider increasing the checkpoint frequency or keeping more checkpoints. You can supress this warning by changing the `TUNE_WARN_EXCESSIVE_EXPERIMENT_CHECKPOINT_SYNC_THRESHOLD_S` environment variable.\n",
      "2023-11-02 14:55:11,369\tWARNING experiment_state.py:371 -- Experiment checkpoint syncing has been triggered multiple times in the last 30.0 seconds. A sync will be triggered whenever a trial has checkpointed more than `num_to_keep` times since last sync or if 300 seconds have passed since last sync. If you have set `num_to_keep` in your `CheckpointConfig`, consider increasing the checkpoint frequency or keeping more checkpoints. You can supress this warning by changing the `TUNE_WARN_EXCESSIVE_EXPERIMENT_CHECKPOINT_SYNC_THRESHOLD_S` environment variable.\n",
      "2023-11-02 14:55:11,670\tWARNING experiment_state.py:371 -- Experiment checkpoint syncing has been triggered multiple times in the last 30.0 seconds. A sync will be triggered whenever a trial has checkpointed more than `num_to_keep` times since last sync or if 300 seconds have passed since last sync. If you have set `num_to_keep` in your `CheckpointConfig`, consider increasing the checkpoint frequency or keeping more checkpoints. You can supress this warning by changing the `TUNE_WARN_EXCESSIVE_EXPERIMENT_CHECKPOINT_SYNC_THRESHOLD_S` environment variable.\n",
      "2023-11-02 14:55:11,944\tWARNING experiment_state.py:371 -- Experiment checkpoint syncing has been triggered multiple times in the last 30.0 seconds. A sync will be triggered whenever a trial has checkpointed more than `num_to_keep` times since last sync or if 300 seconds have passed since last sync. If you have set `num_to_keep` in your `CheckpointConfig`, consider increasing the checkpoint frequency or keeping more checkpoints. You can supress this warning by changing the `TUNE_WARN_EXCESSIVE_EXPERIMENT_CHECKPOINT_SYNC_THRESHOLD_S` environment variable.\n",
      "2023-11-02 14:55:12,246\tWARNING experiment_state.py:371 -- Experiment checkpoint syncing has been triggered multiple times in the last 30.0 seconds. A sync will be triggered whenever a trial has checkpointed more than `num_to_keep` times since last sync or if 300 seconds have passed since last sync. If you have set `num_to_keep` in your `CheckpointConfig`, consider increasing the checkpoint frequency or keeping more checkpoints. You can supress this warning by changing the `TUNE_WARN_EXCESSIVE_EXPERIMENT_CHECKPOINT_SYNC_THRESHOLD_S` environment variable.\n",
      "2023-11-02 14:55:12,250\tINFO tune.py:1143 -- Total run time: 9.85 seconds (9.73 seconds for the tuning loop).\n"
     ]
    },
    {
     "data": {
      "text/plain": [
       "ResultGrid<[\n",
       "  Result(\n",
       "    metrics={'mean_accuracy': 0.965625},\n",
       "    path='/tmp/ray_results/tune_analyzing_results/train_mnist_6b604_00000_0_lr=0.0761,momentum=0.8000_2023-11-02_14-55-02',\n",
       "    filesystem='local',\n",
       "    checkpoint=Checkpoint(filesystem=local, path=/tmp/ray_results/tune_analyzing_results/train_mnist_6b604_00000_0_lr=0.0761,momentum=0.8000_2023-11-02_14-55-02/checkpoint_000099)\n",
       "  ),\n",
       "  Result(\n",
       "    metrics={'mean_accuracy': 0.940625},\n",
       "    path='/tmp/ray_results/tune_analyzing_results/train_mnist_6b604_00001_1_lr=0.0040,momentum=0.9000_2023-11-02_14-55-02',\n",
       "    filesystem='local',\n",
       "    checkpoint=Checkpoint(filesystem=local, path=/tmp/ray_results/tune_analyzing_results/train_mnist_6b604_00001_1_lr=0.0040,momentum=0.9000_2023-11-02_14-55-02/checkpoint_000099)\n",
       "  ),\n",
       "  Result(\n",
       "    metrics={'mean_accuracy': 0.9},\n",
       "    path='/tmp/ray_results/tune_analyzing_results/train_mnist_6b604_00002_2_lr=0.0016,momentum=0.8000_2023-11-02_14-55-02',\n",
       "    filesystem='local',\n",
       "    checkpoint=Checkpoint(filesystem=local, path=/tmp/ray_results/tune_analyzing_results/train_mnist_6b604_00002_2_lr=0.0016,momentum=0.8000_2023-11-02_14-55-02/checkpoint_000099)\n",
       "  ),\n",
       "  Result(\n",
       "    metrics={'mean_accuracy': 0.940625},\n",
       "    path='/tmp/ray_results/tune_analyzing_results/train_mnist_6b604_00003_3_lr=0.0072,momentum=0.9000_2023-11-02_14-55-02',\n",
       "    filesystem='local',\n",
       "    checkpoint=Checkpoint(filesystem=local, path=/tmp/ray_results/tune_analyzing_results/train_mnist_6b604_00003_3_lr=0.0072,momentum=0.9000_2023-11-02_14-55-02/checkpoint_000099)\n",
       "  ),\n",
       "  Result(\n",
       "    metrics={'mean_accuracy': 0.94375},\n",
       "    path='/tmp/ray_results/tune_analyzing_results/train_mnist_6b604_00004_4_lr=0.0096,momentum=0.8000_2023-11-02_14-55-02',\n",
       "    filesystem='local',\n",
       "    checkpoint=Checkpoint(filesystem=local, path=/tmp/ray_results/tune_analyzing_results/train_mnist_6b604_00004_4_lr=0.0096,momentum=0.8000_2023-11-02_14-55-02/checkpoint_000099)\n",
       "  ),\n",
       "  Result(\n",
       "    metrics={'mean_accuracy': 0.903125},\n",
       "    path='/tmp/ray_results/tune_analyzing_results/train_mnist_6b604_00005_5_lr=0.0035,momentum=0.9000_2023-11-02_14-55-02',\n",
       "    filesystem='local',\n",
       "    checkpoint=Checkpoint(filesystem=local, path=/tmp/ray_results/tune_analyzing_results/train_mnist_6b604_00005_5_lr=0.0035,momentum=0.9000_2023-11-02_14-55-02/checkpoint_000099)\n",
       "  )\n",
       "]>"
      ]
     },
     "execution_count": 186,
     "metadata": {},
     "output_type": "execute_result"
    }
   ],
   "source": [
    "result_grid: ResultGrid = tuner.fit()\n",
    "result_grid"
   ]
  },
  {
   "cell_type": "code",
   "execution_count": 188,
   "metadata": {
    "scrolled": true
   },
   "outputs": [
    {
     "data": {
      "text/plain": [
       "ResultGrid<[\n",
       "  Result(\n",
       "    metrics={'mean_accuracy': 0.965625},\n",
       "    path='/tmp/ray_results/tune_analyzing_results/train_mnist_6b604_00000_0_lr=0.0761,momentum=0.8000_2023-11-02_14-55-02',\n",
       "    filesystem='local',\n",
       "    checkpoint=Checkpoint(filesystem=local, path=/tmp/ray_results/tune_analyzing_results/train_mnist_6b604_00000_0_lr=0.0761,momentum=0.8000_2023-11-02_14-55-02/checkpoint_000099)\n",
       "  ),\n",
       "  Result(\n",
       "    metrics={'mean_accuracy': 0.940625},\n",
       "    path='/tmp/ray_results/tune_analyzing_results/train_mnist_6b604_00001_1_lr=0.0040,momentum=0.9000_2023-11-02_14-55-02',\n",
       "    filesystem='local',\n",
       "    checkpoint=Checkpoint(filesystem=local, path=/tmp/ray_results/tune_analyzing_results/train_mnist_6b604_00001_1_lr=0.0040,momentum=0.9000_2023-11-02_14-55-02/checkpoint_000099)\n",
       "  ),\n",
       "  Result(\n",
       "    metrics={'mean_accuracy': 0.9},\n",
       "    path='/tmp/ray_results/tune_analyzing_results/train_mnist_6b604_00002_2_lr=0.0016,momentum=0.8000_2023-11-02_14-55-02',\n",
       "    filesystem='local',\n",
       "    checkpoint=Checkpoint(filesystem=local, path=/tmp/ray_results/tune_analyzing_results/train_mnist_6b604_00002_2_lr=0.0016,momentum=0.8000_2023-11-02_14-55-02/checkpoint_000099)\n",
       "  ),\n",
       "  Result(\n",
       "    metrics={'mean_accuracy': 0.940625},\n",
       "    path='/tmp/ray_results/tune_analyzing_results/train_mnist_6b604_00003_3_lr=0.0072,momentum=0.9000_2023-11-02_14-55-02',\n",
       "    filesystem='local',\n",
       "    checkpoint=Checkpoint(filesystem=local, path=/tmp/ray_results/tune_analyzing_results/train_mnist_6b604_00003_3_lr=0.0072,momentum=0.9000_2023-11-02_14-55-02/checkpoint_000099)\n",
       "  ),\n",
       "  Result(\n",
       "    metrics={'mean_accuracy': 0.94375},\n",
       "    path='/tmp/ray_results/tune_analyzing_results/train_mnist_6b604_00004_4_lr=0.0096,momentum=0.8000_2023-11-02_14-55-02',\n",
       "    filesystem='local',\n",
       "    checkpoint=Checkpoint(filesystem=local, path=/tmp/ray_results/tune_analyzing_results/train_mnist_6b604_00004_4_lr=0.0096,momentum=0.8000_2023-11-02_14-55-02/checkpoint_000099)\n",
       "  ),\n",
       "  Result(\n",
       "    metrics={'mean_accuracy': 0.903125},\n",
       "    path='/tmp/ray_results/tune_analyzing_results/train_mnist_6b604_00005_5_lr=0.0035,momentum=0.9000_2023-11-02_14-55-02',\n",
       "    filesystem='local',\n",
       "    checkpoint=Checkpoint(filesystem=local, path=/tmp/ray_results/tune_analyzing_results/train_mnist_6b604_00005_5_lr=0.0035,momentum=0.9000_2023-11-02_14-55-02/checkpoint_000099)\n",
       "  )\n",
       "]>"
      ]
     },
     "execution_count": 188,
     "metadata": {},
     "output_type": "execute_result"
    }
   ],
   "source": [
    "tuner.get_results()"
   ]
  },
  {
   "cell_type": "code",
   "execution_count": 156,
   "metadata": {
    "scrolled": true
   },
   "outputs": [
    {
     "name": "stdout",
     "output_type": "stream",
     "text": [
      "\u001b[1m\u001b[36mcheckpoint_000026\u001b[m\u001b[m\n",
      "\u001b[1m\u001b[36mcheckpoint_000076\u001b[m\u001b[m\n",
      "\u001b[1m\u001b[36mcheckpoint_000080\u001b[m\u001b[m\n",
      "\u001b[1m\u001b[36mcheckpoint_000091\u001b[m\u001b[m\n",
      "\u001b[1m\u001b[36mcheckpoint_000099\u001b[m\u001b[m\n",
      "events.out.tfevents.1698930301.mikhail.local\n",
      "params.json\n",
      "params.pkl\n",
      "progress.csv\n",
      "result.json\n"
     ]
    }
   ],
   "source": [
    "!ls /tmp/ray_results/tune_analyzing_results/train_mnist_6cf8a_00005_5_lr=0.0077,momentum=0.9000_2023-11-02_14-04-58\n",
    "\n"
   ]
  },
  {
   "cell_type": "code",
   "execution_count": 179,
   "metadata": {},
   "outputs": [
    {
     "data": {
      "text/html": [
       "<div>\n",
       "<style scoped>\n",
       "    .dataframe tbody tr th:only-of-type {\n",
       "        vertical-align: middle;\n",
       "    }\n",
       "\n",
       "    .dataframe tbody tr th {\n",
       "        vertical-align: top;\n",
       "    }\n",
       "\n",
       "    .dataframe thead th {\n",
       "        text-align: right;\n",
       "    }\n",
       "</style>\n",
       "<table border=\"1\" class=\"dataframe\">\n",
       "  <thead>\n",
       "    <tr style=\"text-align: right;\">\n",
       "      <th></th>\n",
       "      <th>mean_accuracy</th>\n",
       "      <th>timestamp</th>\n",
       "      <th>should_checkpoint</th>\n",
       "      <th>done</th>\n",
       "      <th>training_iteration</th>\n",
       "      <th>trial_id</th>\n",
       "      <th>date</th>\n",
       "      <th>time_this_iter_s</th>\n",
       "      <th>time_total_s</th>\n",
       "      <th>pid</th>\n",
       "      <th>hostname</th>\n",
       "      <th>node_ip</th>\n",
       "      <th>time_since_restore</th>\n",
       "      <th>iterations_since_restore</th>\n",
       "      <th>checkpoint_dir_name</th>\n",
       "      <th>config/lr</th>\n",
       "      <th>config/momentum</th>\n",
       "      <th>config/should_checkpoint</th>\n",
       "      <th>logdir</th>\n",
       "    </tr>\n",
       "  </thead>\n",
       "  <tbody>\n",
       "    <tr>\n",
       "      <th>0</th>\n",
       "      <td>0.956250</td>\n",
       "      <td>1698931733</td>\n",
       "      <td>True</td>\n",
       "      <td>True</td>\n",
       "      <td>100</td>\n",
       "      <td>beba5_00000</td>\n",
       "      <td>2023-11-02_14-28-53</td>\n",
       "      <td>0.058855</td>\n",
       "      <td>6.530602</td>\n",
       "      <td>33842</td>\n",
       "      <td>mikhail.local</td>\n",
       "      <td>127.0.0.1</td>\n",
       "      <td>6.530602</td>\n",
       "      <td>100</td>\n",
       "      <td>checkpoint_000099</td>\n",
       "      <td>0.033999</td>\n",
       "      <td>0.8</td>\n",
       "      <td>True</td>\n",
       "      <td>beba5_00000</td>\n",
       "    </tr>\n",
       "    <tr>\n",
       "      <th>1</th>\n",
       "      <td>0.937500</td>\n",
       "      <td>1698931733</td>\n",
       "      <td>True</td>\n",
       "      <td>True</td>\n",
       "      <td>100</td>\n",
       "      <td>beba5_00001</td>\n",
       "      <td>2023-11-02_14-28-53</td>\n",
       "      <td>0.060833</td>\n",
       "      <td>6.199049</td>\n",
       "      <td>33843</td>\n",
       "      <td>mikhail.local</td>\n",
       "      <td>127.0.0.1</td>\n",
       "      <td>6.199049</td>\n",
       "      <td>100</td>\n",
       "      <td>checkpoint_000099</td>\n",
       "      <td>0.036616</td>\n",
       "      <td>0.9</td>\n",
       "      <td>True</td>\n",
       "      <td>beba5_00001</td>\n",
       "    </tr>\n",
       "    <tr>\n",
       "      <th>2</th>\n",
       "      <td>0.906250</td>\n",
       "      <td>1698931733</td>\n",
       "      <td>True</td>\n",
       "      <td>True</td>\n",
       "      <td>100</td>\n",
       "      <td>beba5_00002</td>\n",
       "      <td>2023-11-02_14-28-53</td>\n",
       "      <td>0.062563</td>\n",
       "      <td>6.376014</td>\n",
       "      <td>33844</td>\n",
       "      <td>mikhail.local</td>\n",
       "      <td>127.0.0.1</td>\n",
       "      <td>6.376014</td>\n",
       "      <td>100</td>\n",
       "      <td>checkpoint_000099</td>\n",
       "      <td>0.003810</td>\n",
       "      <td>0.8</td>\n",
       "      <td>True</td>\n",
       "      <td>beba5_00002</td>\n",
       "    </tr>\n",
       "    <tr>\n",
       "      <th>3</th>\n",
       "      <td>0.950000</td>\n",
       "      <td>1698931733</td>\n",
       "      <td>True</td>\n",
       "      <td>True</td>\n",
       "      <td>100</td>\n",
       "      <td>beba5_00003</td>\n",
       "      <td>2023-11-02_14-28-53</td>\n",
       "      <td>0.058707</td>\n",
       "      <td>6.216974</td>\n",
       "      <td>33845</td>\n",
       "      <td>mikhail.local</td>\n",
       "      <td>127.0.0.1</td>\n",
       "      <td>6.216974</td>\n",
       "      <td>100</td>\n",
       "      <td>checkpoint_000099</td>\n",
       "      <td>0.012182</td>\n",
       "      <td>0.9</td>\n",
       "      <td>True</td>\n",
       "      <td>beba5_00003</td>\n",
       "    </tr>\n",
       "    <tr>\n",
       "      <th>4</th>\n",
       "      <td>0.834375</td>\n",
       "      <td>1698931733</td>\n",
       "      <td>True</td>\n",
       "      <td>True</td>\n",
       "      <td>100</td>\n",
       "      <td>beba5_00004</td>\n",
       "      <td>2023-11-02_14-28-53</td>\n",
       "      <td>0.058378</td>\n",
       "      <td>6.492457</td>\n",
       "      <td>33846</td>\n",
       "      <td>mikhail.local</td>\n",
       "      <td>127.0.0.1</td>\n",
       "      <td>6.492457</td>\n",
       "      <td>100</td>\n",
       "      <td>checkpoint_000099</td>\n",
       "      <td>0.001316</td>\n",
       "      <td>0.8</td>\n",
       "      <td>True</td>\n",
       "      <td>beba5_00004</td>\n",
       "    </tr>\n",
       "    <tr>\n",
       "      <th>5</th>\n",
       "      <td>0.943750</td>\n",
       "      <td>1698931733</td>\n",
       "      <td>True</td>\n",
       "      <td>True</td>\n",
       "      <td>100</td>\n",
       "      <td>beba5_00005</td>\n",
       "      <td>2023-11-02_14-28-53</td>\n",
       "      <td>0.061848</td>\n",
       "      <td>6.417250</td>\n",
       "      <td>33847</td>\n",
       "      <td>mikhail.local</td>\n",
       "      <td>127.0.0.1</td>\n",
       "      <td>6.417250</td>\n",
       "      <td>100</td>\n",
       "      <td>checkpoint_000099</td>\n",
       "      <td>0.011256</td>\n",
       "      <td>0.9</td>\n",
       "      <td>True</td>\n",
       "      <td>beba5_00005</td>\n",
       "    </tr>\n",
       "  </tbody>\n",
       "</table>\n",
       "</div>"
      ],
      "text/plain": [
       "   mean_accuracy   timestamp  should_checkpoint  done  training_iteration  \\\n",
       "0       0.956250  1698931733               True  True                 100   \n",
       "1       0.937500  1698931733               True  True                 100   \n",
       "2       0.906250  1698931733               True  True                 100   \n",
       "3       0.950000  1698931733               True  True                 100   \n",
       "4       0.834375  1698931733               True  True                 100   \n",
       "5       0.943750  1698931733               True  True                 100   \n",
       "\n",
       "      trial_id                 date  time_this_iter_s  time_total_s    pid  \\\n",
       "0  beba5_00000  2023-11-02_14-28-53          0.058855      6.530602  33842   \n",
       "1  beba5_00001  2023-11-02_14-28-53          0.060833      6.199049  33843   \n",
       "2  beba5_00002  2023-11-02_14-28-53          0.062563      6.376014  33844   \n",
       "3  beba5_00003  2023-11-02_14-28-53          0.058707      6.216974  33845   \n",
       "4  beba5_00004  2023-11-02_14-28-53          0.058378      6.492457  33846   \n",
       "5  beba5_00005  2023-11-02_14-28-53          0.061848      6.417250  33847   \n",
       "\n",
       "        hostname    node_ip  time_since_restore  iterations_since_restore  \\\n",
       "0  mikhail.local  127.0.0.1            6.530602                       100   \n",
       "1  mikhail.local  127.0.0.1            6.199049                       100   \n",
       "2  mikhail.local  127.0.0.1            6.376014                       100   \n",
       "3  mikhail.local  127.0.0.1            6.216974                       100   \n",
       "4  mikhail.local  127.0.0.1            6.492457                       100   \n",
       "5  mikhail.local  127.0.0.1            6.417250                       100   \n",
       "\n",
       "  checkpoint_dir_name  config/lr  config/momentum  config/should_checkpoint  \\\n",
       "0   checkpoint_000099   0.033999              0.8                      True   \n",
       "1   checkpoint_000099   0.036616              0.9                      True   \n",
       "2   checkpoint_000099   0.003810              0.8                      True   \n",
       "3   checkpoint_000099   0.012182              0.9                      True   \n",
       "4   checkpoint_000099   0.001316              0.8                      True   \n",
       "5   checkpoint_000099   0.011256              0.9                      True   \n",
       "\n",
       "        logdir  \n",
       "0  beba5_00000  \n",
       "1  beba5_00001  \n",
       "2  beba5_00002  \n",
       "3  beba5_00003  \n",
       "4  beba5_00004  \n",
       "5  beba5_00005  "
      ]
     },
     "execution_count": 179,
     "metadata": {},
     "output_type": "execute_result"
    }
   ],
   "source": [
    "result_grid.get_dataframe()"
   ]
  },
  {
   "cell_type": "code",
   "execution_count": null,
   "metadata": {},
   "outputs": [],
   "source": []
  }
 ],
 "metadata": {
  "kernelspec": {
   "display_name": "Python 3 (ipykernel)",
   "language": "python",
   "name": "python3"
  },
  "language_info": {
   "codemirror_mode": {
    "name": "ipython",
    "version": 3
   },
   "file_extension": ".py",
   "mimetype": "text/x-python",
   "name": "python",
   "nbconvert_exporter": "python",
   "pygments_lexer": "ipython3",
   "version": "3.9.6"
  }
 },
 "nbformat": 4,
 "nbformat_minor": 4
}
